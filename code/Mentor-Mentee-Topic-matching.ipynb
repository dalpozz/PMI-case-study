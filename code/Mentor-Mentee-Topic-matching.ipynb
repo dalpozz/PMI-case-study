{
 "cells": [
  {
   "cell_type": "markdown",
   "metadata": {},
   "source": [
    "#  Mentor-Mentee Topic Matching on the Enron email dataset"
   ]
  },
  {
   "cell_type": "markdown",
   "metadata": {},
   "source": [
    "The goal of this notebook is to ..."
   ]
  },
  {
   "cell_type": "code",
   "execution_count": 4,
   "metadata": {},
   "outputs": [
    {
     "name": "stdout",
     "output_type": "stream",
     "text": [
      "The autoreload extension is already loaded. To reload it, use:\n",
      "  %reload_ext autoreload\n"
     ]
    }
   ],
   "source": [
    "%load_ext autoreload\n",
    "import re, os\n",
    "import json\n",
    "\n",
    "workdir = \"/Users/Andrea/Documents/Education/ULB/Phd/Github/PMI-case-study/\"\n",
    "dirmail = str(workdir)  + \"data/enron/maildir/\"\n",
    "dircode = str(workdir)  + \"code/\"\n",
    "dirLDA = str(workdir)  + \"LDA/\"\n",
    "\n",
    "os.chdir(dircode)\n",
    "from preprocessing import *\n",
    "%reload_ext preprocessing\n"
   ]
  },
  {
   "cell_type": "markdown",
   "metadata": {},
   "source": [
    "We will look at the \"sent\" directory of each of the 150 employees of Enron. We need to import the data and in turn, clean up the data. Info from [here](https://rforwork.info/2013/11/03/a-rather-nosy-topic-model-analysis-of-the-enron-email-corpus/) and here [here](https://rstudio-pubs-static.s3.amazonaws.com/79360_850b2a69980c4488b1db95987a24867a.html) proved to be very useful. Also see http://www.colorado.edu/ics/sites/default/files/attached-files/01-11_0.pdf \n",
    "We now build a list of strings - each string being an email (document). Each document is filtered according to some regular expressions. We also build a dictionary, namely, user_docs_dict that stores for each iteration of a user, the corresponding name and as well as a list of the filtered emails."
   ]
  },
  {
   "cell_type": "code",
   "execution_count": 5,
   "metadata": {},
   "outputs": [
    {
     "data": {
      "text/plain": [
       "\"\\nuser_docs_list = [] # Stores email sender's name and content\\nfor user in users:\\n    sent =  str(dirmail) + str(user) + '/sent'   \\n    try: \\n        os.chdir(sent)\\n        d = []\\n        for email in os.listdir():          \\n            text = open(email,'r').read()\\n            # Regular 'clutter' from each email\\n            text = remove_unwanted_text(text)\\n            d.append(text)\\n        user_docs_list.append((user, d))\\n    except:\\n        pass\\n    \\nuser_docs_dict = dict(user_docs_list)\\n\\n# Save the user_docs_dict file as json\\nwith open('user_docs_dict.jsn','w') as f:\\n    json.dump(user_docs_dict,f)\\nf.close()\\n\\n\""
      ]
     },
     "execution_count": 5,
     "metadata": {},
     "output_type": "execute_result"
    }
   ],
   "source": [
    "# For each user we extract all the emails in their inbox\n",
    "users = [i for i in os.listdir(dirmail)]\n",
    "\n",
    "'''\n",
    "user_docs_list = [] # Stores email sender's name and content\n",
    "for user in users:\n",
    "    sent =  str(dirmail) + str(user) + '/sent'   \n",
    "    try: \n",
    "        os.chdir(sent)\n",
    "        d = []\n",
    "        for email in os.listdir():          \n",
    "            text = open(email,'r').read()\n",
    "            # Regular 'clutter' from each email\n",
    "            text = remove_unwanted_text(text)\n",
    "            d.append(text)\n",
    "        user_docs_list.append((user, d))\n",
    "    except:\n",
    "        pass\n",
    "    \n",
    "user_docs_dict = dict(user_docs_list)\n",
    "\n",
    "# Save the user_docs_dict file as json\n",
    "with open(dirLDA + 'user_docs_dict.jsn','w') as f:\n",
    "    json.dump(user_docs_dict,f)\n",
    "f.close()\n",
    "\n",
    "'''"
   ]
  },
  {
   "cell_type": "code",
   "execution_count": 8,
   "metadata": {},
   "outputs": [],
   "source": [
    "\n",
    "# Loading the user_docs_dict file\n",
    "with open(dirLDA + 'user_docs_dict.jsn','r') as f:\n",
    "    user_docs_dict = json.load(f)\n",
    "f.close()\n"
   ]
  },
  {
   "cell_type": "markdown",
   "metadata": {},
   "source": [
    "## Let's check how many user and emails are available"
   ]
  },
  {
   "cell_type": "code",
   "execution_count": 15,
   "metadata": {},
   "outputs": [
    {
     "name": "stdout",
     "output_type": "stream",
     "text": [
      "Total number of users: 20\n"
     ]
    }
   ],
   "source": [
    "num_users = len(user_docs_dict.keys())\n",
    "print(\"Total number of users:\", num_users)"
   ]
  },
  {
   "cell_type": "code",
   "execution_count": 16,
   "metadata": {},
   "outputs": [
    {
     "data": {
      "text/html": [
       "<div>\n",
       "<style>\n",
       "    .dataframe thead tr:only-child th {\n",
       "        text-align: right;\n",
       "    }\n",
       "\n",
       "    .dataframe thead th {\n",
       "        text-align: left;\n",
       "    }\n",
       "\n",
       "    .dataframe tbody tr th {\n",
       "        vertical-align: top;\n",
       "    }\n",
       "</style>\n",
       "<table border=\"1\" class=\"dataframe\">\n",
       "  <thead>\n",
       "    <tr style=\"text-align: right;\">\n",
       "      <th></th>\n",
       "      <th>num_emails</th>\n",
       "      <th>users</th>\n",
       "    </tr>\n",
       "  </thead>\n",
       "  <tbody>\n",
       "    <tr>\n",
       "      <th>13</th>\n",
       "      <td>3810.0</td>\n",
       "      <td>jones-t</td>\n",
       "    </tr>\n",
       "    <tr>\n",
       "      <th>15</th>\n",
       "      <td>3774.0</td>\n",
       "      <td>shackleton-s</td>\n",
       "    </tr>\n",
       "    <tr>\n",
       "      <th>18</th>\n",
       "      <td>1862.0</td>\n",
       "      <td>taylor-m</td>\n",
       "    </tr>\n",
       "    <tr>\n",
       "      <th>17</th>\n",
       "      <td>1326.0</td>\n",
       "      <td>symes-k</td>\n",
       "    </tr>\n",
       "    <tr>\n",
       "      <th>8</th>\n",
       "      <td>1315.0</td>\n",
       "      <td>kean-s</td>\n",
       "    </tr>\n",
       "    <tr>\n",
       "      <th>9</th>\n",
       "      <td>1099.0</td>\n",
       "      <td>beck-s</td>\n",
       "    </tr>\n",
       "    <tr>\n",
       "      <th>11</th>\n",
       "      <td>968.0</td>\n",
       "      <td>fossum-d</td>\n",
       "    </tr>\n",
       "    <tr>\n",
       "      <th>12</th>\n",
       "      <td>880.0</td>\n",
       "      <td>delainey-d</td>\n",
       "    </tr>\n",
       "    <tr>\n",
       "      <th>16</th>\n",
       "      <td>816.0</td>\n",
       "      <td>mcconnell-m</td>\n",
       "    </tr>\n",
       "    <tr>\n",
       "      <th>19</th>\n",
       "      <td>721.0</td>\n",
       "      <td>rodrique-r</td>\n",
       "    </tr>\n",
       "  </tbody>\n",
       "</table>\n",
       "</div>"
      ],
      "text/plain": [
       "    num_emails         users\n",
       "13      3810.0       jones-t\n",
       "15      3774.0  shackleton-s\n",
       "18      1862.0      taylor-m\n",
       "17      1326.0       symes-k\n",
       "8       1315.0        kean-s\n",
       "9       1099.0        beck-s\n",
       "11       968.0      fossum-d\n",
       "12       880.0    delainey-d\n",
       "16       816.0   mcconnell-m\n",
       "19       721.0    rodrique-r"
      ]
     },
     "execution_count": 16,
     "metadata": {},
     "output_type": "execute_result"
    }
   ],
   "source": [
    "import numpy as np\n",
    "import pandas as pd\n",
    "\n",
    "users = list(user_docs_dict.keys())\n",
    "num_emails = np.zeros(num_users)\n",
    "for i in range(num_users):\n",
    "    u = users[i]\n",
    "    user_docs = user_docs_dict[u]\n",
    "    num_emails[i] = len(user_docs)\n",
    "    \n",
    "users_df = pd.DataFrame({'users': users, 'num_emails': num_emails})\n",
    "users_df = users_df.sort_values('num_emails', ascending=False)\n",
    "users_df.head(10)"
   ]
  },
  {
   "cell_type": "code",
   "execution_count": 17,
   "metadata": {},
   "outputs": [
    {
     "data": {
      "image/png": "[encoded data removed]",
      "text/plain": [
       "<matplotlib.figure.Figure at 0x11cb09358>"
      ]
     },
     "metadata": {},
     "output_type": "display_data"
    }
   ],
   "source": [
    "import matplotlib.pyplot as plt\n",
    "\n",
    "fig = plt.gcf()\n",
    "fig.set_size_inches(18.5, 7.5)\n",
    "\n",
    "y_pos = np.arange(num_users)\n",
    "plt.bar(y_pos, users_df.num_emails, align='center', alpha=0.5)\n",
    "plt.xticks(y_pos, users_df.users, rotation=90)\n",
    "plt.ylabel('Num emails')\n",
    "plt.title('Number of emails per users')\n",
    "\n",
    "fig.savefig('num_emails.pdf', dpi=100)\n",
    "#plt.savefig(\"num_emails.pdf\")\n",
    "plt.show()"
   ]
  },
  {
   "cell_type": "code",
   "execution_count": 18,
   "metadata": {
    "collapsed": true
   },
   "outputs": [],
   "source": [
    "#Select a subset of user to speed up the computation\n",
    "import random\n",
    "num_sample = 20\n",
    "sub_users = [list(user_docs_dict.keys())[i] for i in random.sample(range(num_users), num_sample)]\n",
    "# create a new dictionary\n",
    "user_docs_dict = { user: user_docs_dict[user] for user in sub_users }\n",
    "\n",
    "users = list(user_docs_dict.keys())\n",
    "num_users = len(user_docs_dict.keys())"
   ]
  },
  {
   "cell_type": "markdown",
   "metadata": {},
   "source": [
    "## Topic Modeling: extract major topics in the emails"
   ]
  },
  {
   "cell_type": "markdown",
   "metadata": {},
   "source": [
    "Now we extract tokens, by removing stop words and using a lemmatizer (see preprocessing.py for a more detaileds).\n",
    "While creating a new 'texts' variable that stores the filtered documents, we also edit the docs_num_dict to update the words according to the tokenize,stop word, lemmatize procedure."
   ]
  },
  {
   "cell_type": "code",
   "execution_count": 20,
   "metadata": {},
   "outputs": [],
   "source": [
    "# store all email content into a list\n",
    "from collections import defaultdict\n",
    "\n",
    "user_token_list = []\n",
    "texts = []\n",
    "for i in range(num_users):\n",
    "    user = users[i]\n",
    "    user_docs = user_docs_dict[user]\n",
    "    tokens_list = []\n",
    "    for doc in user_docs:\n",
    "        tokens = get_token(doc)\n",
    "        texts.append(tokens)\n",
    "        tokens_list.append(tokens)\n",
    "        \n",
    "    user_token_list.append((user, tokens_list))\n",
    "\n",
    "user_token_dict = dict(user_token_list)"
   ]
  },
  {
   "cell_type": "markdown",
   "metadata": {},
   "source": [
    "The texts file is saved."
   ]
  },
  {
   "cell_type": "code",
   "execution_count": 21,
   "metadata": {
    "collapsed": true
   },
   "outputs": [],
   "source": [
    "os.chdir(dirLDA)\n",
    "\n",
    "# Save the texts file as texts_raw (will be edited again below)\n",
    "with open('texts.jsn','w') as f:\n",
    "    json.dump(texts,f)\n",
    "f.close()\n",
    "\n",
    "'''\n",
    "os.chdir(dirLDA)\n",
    "\n",
    "# Loading the raw texts file\n",
    "with open('texts_raw.jsn','r') as f:\n",
    "    texts = json.load(f)\n",
    "f.close()\n",
    "    \n",
    "'''"
   ]
  },
  {
   "cell_type": "markdown",
   "metadata": {},
   "source": [
    "Now we construct the document term matrix whereafter the fairly lengthy process of constructing the model takes place."
   ]
  },
  {
   "cell_type": "code",
   "execution_count": 23,
   "metadata": {
    "collapsed": true
   },
   "outputs": [],
   "source": [
    "# Constructing a document-term matrix\n",
    "\n",
    "from gensim import corpora, models\n",
    "\n",
    "dictionary = corpora.Dictionary(texts)\n",
    "\n",
    "corpus = [dictionary.doc2bow(text) for text in texts]\n"
   ]
  },
  {
   "cell_type": "code",
   "execution_count": 42,
   "metadata": {
    "collapsed": true
   },
   "outputs": [],
   "source": [
    "num_topics=10\n",
    "num_passes=10"
   ]
  },
  {
   "cell_type": "code",
   "execution_count": 43,
   "metadata": {
    "collapsed": true
   },
   "outputs": [],
   "source": [
    "ldamodel = models.ldamodel.LdaModel(corpus, num_topics=num_topics, id2word = dictionary, passes=num_passes)"
   ]
  },
  {
   "cell_type": "markdown",
   "metadata": {},
   "source": [
    "We save both the LDA data as well as the results. We can reanalyse later. See the folder called LDAdata."
   ]
  },
  {
   "cell_type": "code",
   "execution_count": 44,
   "metadata": {
    "collapsed": true
   },
   "outputs": [],
   "source": [
    "os.chdir(dirLDA)\n",
    "\n",
    "# Saving the dictionary\n",
    "dictionary.save('dictionary')\n",
    "\n",
    "# Saving the corpus    \n",
    "with open('corpus.jsn','w') as f:\n",
    "    json.dump(corpus,f)    \n",
    "f.close()\n",
    "\n",
    "# Saving the ldamodel\n",
    "ldamodel.save('ldamodel')"
   ]
  },
  {
   "cell_type": "code",
   "execution_count": 45,
   "metadata": {},
   "outputs": [
    {
     "data": {
      "text/plain": [
       "\"\\n# Load dictionary\\ndictionary = corpora.Dictionary.load('dictionary')\\nldamodel = models.LdaModel.load('ldamodel') \\n# Load corpus\\nwith open('corpus.jsn','r') as f:\\n    corpus = json.load(f)\\nf.close()\\n\""
      ]
     },
     "execution_count": 45,
     "metadata": {},
     "output_type": "execute_result"
    }
   ],
   "source": [
    "'''\n",
    "# Load dictionary\n",
    "dictionary = corpora.Dictionary.load('dictionary')\n",
    "ldamodel = models.LdaModel.load('ldamodel') \n",
    "# Load corpus\n",
    "with open('corpus.jsn','r') as f:\n",
    "    corpus = json.load(f)\n",
    "f.close()\n",
    "'''"
   ]
  },
  {
   "cell_type": "markdown",
   "metadata": {},
   "source": [
    "We now print the words for each of the given topics. It must be noted, that even though considerable emphasis has been placed on the construction of the regular expressions, 'junk-text' may be present."
   ]
  },
  {
   "cell_type": "code",
   "execution_count": 46,
   "metadata": {
    "scrolled": true
   },
   "outputs": [
    {
     "data": {
      "text/html": [
       "<div>\n",
       "<style>\n",
       "    .dataframe thead tr:only-child th {\n",
       "        text-align: right;\n",
       "    }\n",
       "\n",
       "    .dataframe thead th {\n",
       "        text-align: left;\n",
       "    }\n",
       "\n",
       "    .dataframe tbody tr th {\n",
       "        vertical-align: top;\n",
       "    }\n",
       "</style>\n",
       "<table border=\"1\" class=\"dataframe\">\n",
       "  <thead>\n",
       "    <tr style=\"text-align: right;\">\n",
       "      <th></th>\n",
       "      <th>Word1</th>\n",
       "      <th>Word2</th>\n",
       "      <th>Word3</th>\n",
       "      <th>Word4</th>\n",
       "      <th>Word5</th>\n",
       "      <th>Word6</th>\n",
       "      <th>Word7</th>\n",
       "    </tr>\n",
       "  </thead>\n",
       "  <tbody>\n",
       "    <tr>\n",
       "      <th>Topic1</th>\n",
       "      <td>\"enron\"</td>\n",
       "      <td>\"need\"</td>\n",
       "      <td>\"let\"</td>\n",
       "      <td>\"meeting\"</td>\n",
       "      <td>\"office\"</td>\n",
       "      <td>\"group\"</td>\n",
       "      <td>\"help\"</td>\n",
       "    </tr>\n",
       "    <tr>\n",
       "      <th>Topic2</th>\n",
       "      <td>\"night\"</td>\n",
       "      <td>\"dinner\"</td>\n",
       "      <td>\"week\"</td>\n",
       "      <td>\"plan\"</td>\n",
       "      <td>\"way\"</td>\n",
       "      <td>\"female\"</td>\n",
       "      <td>\"great\"</td>\n",
       "    </tr>\n",
       "    <tr>\n",
       "      <th>Topic3</th>\n",
       "      <td>\"gas\"</td>\n",
       "      <td>\"enrononline\"</td>\n",
       "      <td>\"power\"</td>\n",
       "      <td>\"finance\"</td>\n",
       "      <td>\"steven\"</td>\n",
       "      <td>\"miller\"</td>\n",
       "      <td>\"peter\"</td>\n",
       "    </tr>\n",
       "    <tr>\n",
       "      <th>Topic4</th>\n",
       "      <td>\"business\"</td>\n",
       "      <td>\"enron\"</td>\n",
       "      <td>\"message\"</td>\n",
       "      <td>\"information\"</td>\n",
       "      <td>\"mail\"</td>\n",
       "      <td>\"instrumental\"</td>\n",
       "      <td>\"calger\"</td>\n",
       "    </tr>\n",
       "    <tr>\n",
       "      <th>Topic5</th>\n",
       "      <td>\"company\"</td>\n",
       "      <td>\"market\"</td>\n",
       "      <td>\"share\"</td>\n",
       "      <td>\"year\"</td>\n",
       "      <td>\"power\"</td>\n",
       "      <td>\"service\"</td>\n",
       "      <td>\"nasdaq\"</td>\n",
       "    </tr>\n",
       "    <tr>\n",
       "      <th>Topic6</th>\n",
       "      <td>\"deal\"</td>\n",
       "      <td>\"price\"</td>\n",
       "      <td>\"let\"</td>\n",
       "      <td>\"change\"</td>\n",
       "      <td>\"trade\"</td>\n",
       "      <td>\"term\"</td>\n",
       "      <td>\"contract\"</td>\n",
       "    </tr>\n",
       "    <tr>\n",
       "      <th>Topic7</th>\n",
       "      <td>\"houston\"</td>\n",
       "      <td>\"ena\"</td>\n",
       "      <td>\"london\"</td>\n",
       "      <td>\"trading\"</td>\n",
       "      <td>\"eel\"</td>\n",
       "      <td>\"legal\"</td>\n",
       "      <td>\"corporate\"</td>\n",
       "    </tr>\n",
       "    <tr>\n",
       "      <th>Topic8</th>\n",
       "      <td>\"meeting\"</td>\n",
       "      <td>\"work\"</td>\n",
       "      <td>\"january\"</td>\n",
       "      <td>\"jeff\"</td>\n",
       "      <td>\"tuesday\"</td>\n",
       "      <td>\"deal\"</td>\n",
       "      <td>\"make\"</td>\n",
       "    </tr>\n",
       "    <tr>\n",
       "      <th>Topic9</th>\n",
       "      <td>\"origination\"</td>\n",
       "      <td>\"corp\"</td>\n",
       "      <td>\"enron\"</td>\n",
       "      <td>\"america\"</td>\n",
       "      <td>\"north\"</td>\n",
       "      <td>\"houston\"</td>\n",
       "      <td>\"sara\"</td>\n",
       "    </tr>\n",
       "    <tr>\n",
       "      <th>Topic10</th>\n",
       "      <td>\"esa\"</td>\n",
       "      <td>\"trade\"</td>\n",
       "      <td>\"prep\"</td>\n",
       "      <td>\"product\"</td>\n",
       "      <td>\"trading\"</td>\n",
       "      <td>\"counterparty\"</td>\n",
       "      <td>\"master\"</td>\n",
       "    </tr>\n",
       "  </tbody>\n",
       "</table>\n",
       "</div>"
      ],
      "text/plain": [
       "                 Word1          Word2      Word3          Word4      Word5  \\\n",
       "Topic1         \"enron\"         \"need\"      \"let\"      \"meeting\"   \"office\"   \n",
       "Topic2         \"night\"       \"dinner\"     \"week\"         \"plan\"      \"way\"   \n",
       "Topic3           \"gas\"  \"enrononline\"    \"power\"      \"finance\"   \"steven\"   \n",
       "Topic4      \"business\"        \"enron\"  \"message\"  \"information\"     \"mail\"   \n",
       "Topic5       \"company\"       \"market\"    \"share\"         \"year\"    \"power\"   \n",
       "Topic6          \"deal\"        \"price\"      \"let\"       \"change\"    \"trade\"   \n",
       "Topic7       \"houston\"          \"ena\"   \"london\"      \"trading\"      \"eel\"   \n",
       "Topic8       \"meeting\"         \"work\"  \"january\"         \"jeff\"  \"tuesday\"   \n",
       "Topic9   \"origination\"         \"corp\"    \"enron\"      \"america\"    \"north\"   \n",
       "Topic10          \"esa\"        \"trade\"     \"prep\"      \"product\"  \"trading\"   \n",
       "\n",
       "                  Word6        Word7  \n",
       "Topic1          \"group\"       \"help\"  \n",
       "Topic2         \"female\"      \"great\"  \n",
       "Topic3         \"miller\"      \"peter\"  \n",
       "Topic4   \"instrumental\"     \"calger\"  \n",
       "Topic5        \"service\"     \"nasdaq\"  \n",
       "Topic6           \"term\"   \"contract\"  \n",
       "Topic7          \"legal\"  \"corporate\"  \n",
       "Topic8           \"deal\"       \"make\"  \n",
       "Topic9        \"houston\"       \"sara\"  \n",
       "Topic10  \"counterparty\"     \"master\"  "
      ]
     },
     "execution_count": 46,
     "metadata": {},
     "output_type": "execute_result"
    }
   ],
   "source": [
    "num_words = 7\n",
    "topic_list = ldamodel.print_topics(num_topics, num_words)\n",
    "\n",
    "def get_word_topics(topic_num, topic_list):\n",
    "    word_list = re.sub(r'(.\\....\\*)|(\\+ .\\....\\*)', '', topic_list[topic_num][1])\n",
    "    words = [word for word in word_list.split()]\n",
    "    return(words)\n",
    "    \n",
    "Topic_words =[]\n",
    "for i in range(0, num_topics):\n",
    "    words = get_word_topics(i, topic_list)    \n",
    "    Topic_words.append(words)\n",
    "\n",
    "idx = ['Topic'+str(i+1) for i in range(num_topics)]\n",
    "labels = ['Word'+str(i+1) for i in range(num_words)]\n",
    "Topics_df = pd.DataFrame.from_records(Topic_words, columns=labels, index=idx)\n",
    "Topics_df"
   ]
  },
  {
   "cell_type": "markdown",
   "metadata": {},
   "source": [
    "## Define Mentor's expertise on each topic"
   ]
  },
  {
   "cell_type": "code",
   "execution_count": 47,
   "metadata": {
    "collapsed": true
   },
   "outputs": [],
   "source": [
    "def text_likelihood_per_topic(texts, ldamodel, num_topics):\n",
    "\n",
    "    score = np.zeros(num_topics)\n",
    "    \n",
    "    for text in texts:\n",
    "        #ldamodel output : [(id1, score1), (id2, score2),... if id != 0]\n",
    "        for topic_id, topic_lik in ldamodel[dictionary.doc2bow(text)]:\n",
    "            # returns each topic and the likelihood that the query relates to that topic. \n",
    "            # Gensim defaults to only showing the top ones that meet a certain threshold (>= 0.01)\n",
    "            score[topic_id] += topic_lik\n",
    "   \n",
    "    # score is the sum of likelihood on each topic\n",
    "    # we normalize the score\n",
    "    norm_score = score/np.sum(score)\n",
    "    \n",
    "    return norm_score \n"
   ]
  },
  {
   "cell_type": "code",
   "execution_count": 48,
   "metadata": {},
   "outputs": [
    {
     "data": {
      "text/html": [
       "<div>\n",
       "<style>\n",
       "    .dataframe thead tr:only-child th {\n",
       "        text-align: right;\n",
       "    }\n",
       "\n",
       "    .dataframe thead th {\n",
       "        text-align: left;\n",
       "    }\n",
       "\n",
       "    .dataframe tbody tr th {\n",
       "        vertical-align: top;\n",
       "    }\n",
       "</style>\n",
       "<table border=\"1\" class=\"dataframe\">\n",
       "  <thead>\n",
       "    <tr style=\"text-align: right;\">\n",
       "      <th></th>\n",
       "      <th>Topic1</th>\n",
       "      <th>Topic2</th>\n",
       "      <th>Topic3</th>\n",
       "      <th>Topic4</th>\n",
       "      <th>Topic5</th>\n",
       "      <th>Topic6</th>\n",
       "      <th>Topic7</th>\n",
       "      <th>Topic8</th>\n",
       "      <th>Topic9</th>\n",
       "      <th>Topic10</th>\n",
       "    </tr>\n",
       "  </thead>\n",
       "  <tbody>\n",
       "    <tr>\n",
       "      <th>martin-t</th>\n",
       "      <td>0.485999</td>\n",
       "      <td>0.000000</td>\n",
       "      <td>0.000000</td>\n",
       "      <td>0.000000</td>\n",
       "      <td>0.000000</td>\n",
       "      <td>0.000000</td>\n",
       "      <td>0.000000</td>\n",
       "      <td>0.000000</td>\n",
       "      <td>0.514001</td>\n",
       "      <td>0.000000</td>\n",
       "    </tr>\n",
       "    <tr>\n",
       "      <th>fossum-d</th>\n",
       "      <td>0.367455</td>\n",
       "      <td>0.097427</td>\n",
       "      <td>0.028354</td>\n",
       "      <td>0.072041</td>\n",
       "      <td>0.212846</td>\n",
       "      <td>0.113095</td>\n",
       "      <td>0.020699</td>\n",
       "      <td>0.020926</td>\n",
       "      <td>0.026208</td>\n",
       "      <td>0.040949</td>\n",
       "    </tr>\n",
       "    <tr>\n",
       "      <th>pereira-s</th>\n",
       "      <td>0.278450</td>\n",
       "      <td>0.285785</td>\n",
       "      <td>0.047551</td>\n",
       "      <td>0.065716</td>\n",
       "      <td>0.081338</td>\n",
       "      <td>0.146619</td>\n",
       "      <td>0.010508</td>\n",
       "      <td>0.030924</td>\n",
       "      <td>0.022283</td>\n",
       "      <td>0.030825</td>\n",
       "    </tr>\n",
       "    <tr>\n",
       "      <th>dorland-c</th>\n",
       "      <td>0.197188</td>\n",
       "      <td>0.300089</td>\n",
       "      <td>0.034005</td>\n",
       "      <td>0.039354</td>\n",
       "      <td>0.100250</td>\n",
       "      <td>0.163302</td>\n",
       "      <td>0.036722</td>\n",
       "      <td>0.038700</td>\n",
       "      <td>0.031254</td>\n",
       "      <td>0.059135</td>\n",
       "    </tr>\n",
       "    <tr>\n",
       "      <th>grigsby-m</th>\n",
       "      <td>0.221496</td>\n",
       "      <td>0.104256</td>\n",
       "      <td>0.044408</td>\n",
       "      <td>0.044738</td>\n",
       "      <td>0.117577</td>\n",
       "      <td>0.247917</td>\n",
       "      <td>0.049105</td>\n",
       "      <td>0.059026</td>\n",
       "      <td>0.028799</td>\n",
       "      <td>0.082678</td>\n",
       "    </tr>\n",
       "    <tr>\n",
       "      <th>lewis-a</th>\n",
       "      <td>0.189928</td>\n",
       "      <td>0.307176</td>\n",
       "      <td>0.034755</td>\n",
       "      <td>0.076923</td>\n",
       "      <td>0.155946</td>\n",
       "      <td>0.069009</td>\n",
       "      <td>0.038744</td>\n",
       "      <td>0.027676</td>\n",
       "      <td>0.033621</td>\n",
       "      <td>0.066222</td>\n",
       "    </tr>\n",
       "    <tr>\n",
       "      <th>taylor-m</th>\n",
       "      <td>0.306927</td>\n",
       "      <td>0.108374</td>\n",
       "      <td>0.017401</td>\n",
       "      <td>0.082696</td>\n",
       "      <td>0.092530</td>\n",
       "      <td>0.085312</td>\n",
       "      <td>0.028928</td>\n",
       "      <td>0.018846</td>\n",
       "      <td>0.071080</td>\n",
       "      <td>0.187905</td>\n",
       "    </tr>\n",
       "    <tr>\n",
       "      <th>kean-s</th>\n",
       "      <td>0.387303</td>\n",
       "      <td>0.072146</td>\n",
       "      <td>0.023238</td>\n",
       "      <td>0.066162</td>\n",
       "      <td>0.244512</td>\n",
       "      <td>0.068899</td>\n",
       "      <td>0.027321</td>\n",
       "      <td>0.046586</td>\n",
       "      <td>0.038786</td>\n",
       "      <td>0.025047</td>\n",
       "    </tr>\n",
       "    <tr>\n",
       "      <th>keavey-p</th>\n",
       "      <td>0.191307</td>\n",
       "      <td>0.150776</td>\n",
       "      <td>0.048027</td>\n",
       "      <td>0.089539</td>\n",
       "      <td>0.081379</td>\n",
       "      <td>0.174542</td>\n",
       "      <td>0.031760</td>\n",
       "      <td>0.036291</td>\n",
       "      <td>0.057949</td>\n",
       "      <td>0.138431</td>\n",
       "    </tr>\n",
       "    <tr>\n",
       "      <th>mims-thurston-p</th>\n",
       "      <td>0.170589</td>\n",
       "      <td>0.428923</td>\n",
       "      <td>0.035309</td>\n",
       "      <td>0.036194</td>\n",
       "      <td>0.087639</td>\n",
       "      <td>0.085754</td>\n",
       "      <td>0.026637</td>\n",
       "      <td>0.030680</td>\n",
       "      <td>0.037794</td>\n",
       "      <td>0.060481</td>\n",
       "    </tr>\n",
       "    <tr>\n",
       "      <th>symes-k</th>\n",
       "      <td>0.120175</td>\n",
       "      <td>0.113375</td>\n",
       "      <td>0.029226</td>\n",
       "      <td>0.028458</td>\n",
       "      <td>0.038992</td>\n",
       "      <td>0.578447</td>\n",
       "      <td>0.011385</td>\n",
       "      <td>0.030360</td>\n",
       "      <td>0.018067</td>\n",
       "      <td>0.031515</td>\n",
       "    </tr>\n",
       "    <tr>\n",
       "      <th>ward-k</th>\n",
       "      <td>0.000000</td>\n",
       "      <td>0.070077</td>\n",
       "      <td>0.000000</td>\n",
       "      <td>0.000000</td>\n",
       "      <td>0.062905</td>\n",
       "      <td>0.000000</td>\n",
       "      <td>0.073297</td>\n",
       "      <td>0.000000</td>\n",
       "      <td>0.000000</td>\n",
       "      <td>0.793720</td>\n",
       "    </tr>\n",
       "    <tr>\n",
       "      <th>shively-h</th>\n",
       "      <td>0.346779</td>\n",
       "      <td>0.094998</td>\n",
       "      <td>0.037865</td>\n",
       "      <td>0.064404</td>\n",
       "      <td>0.107857</td>\n",
       "      <td>0.104639</td>\n",
       "      <td>0.034532</td>\n",
       "      <td>0.053417</td>\n",
       "      <td>0.082892</td>\n",
       "      <td>0.072618</td>\n",
       "    </tr>\n",
       "    <tr>\n",
       "      <th>rodrique-r</th>\n",
       "      <td>0.183877</td>\n",
       "      <td>0.348682</td>\n",
       "      <td>0.042243</td>\n",
       "      <td>0.038913</td>\n",
       "      <td>0.054445</td>\n",
       "      <td>0.130103</td>\n",
       "      <td>0.104261</td>\n",
       "      <td>0.029348</td>\n",
       "      <td>0.032522</td>\n",
       "      <td>0.035606</td>\n",
       "    </tr>\n",
       "    <tr>\n",
       "      <th>delainey-d</th>\n",
       "      <td>0.498238</td>\n",
       "      <td>0.051348</td>\n",
       "      <td>0.023390</td>\n",
       "      <td>0.060341</td>\n",
       "      <td>0.165280</td>\n",
       "      <td>0.056062</td>\n",
       "      <td>0.041663</td>\n",
       "      <td>0.039111</td>\n",
       "      <td>0.037110</td>\n",
       "      <td>0.027458</td>\n",
       "    </tr>\n",
       "    <tr>\n",
       "      <th>jones-t</th>\n",
       "      <td>0.170101</td>\n",
       "      <td>0.072577</td>\n",
       "      <td>0.019210</td>\n",
       "      <td>0.055581</td>\n",
       "      <td>0.039436</td>\n",
       "      <td>0.086811</td>\n",
       "      <td>0.020536</td>\n",
       "      <td>0.020981</td>\n",
       "      <td>0.176282</td>\n",
       "      <td>0.338484</td>\n",
       "    </tr>\n",
       "    <tr>\n",
       "      <th>shackleton-s</th>\n",
       "      <td>0.248061</td>\n",
       "      <td>0.044751</td>\n",
       "      <td>0.012255</td>\n",
       "      <td>0.060301</td>\n",
       "      <td>0.053068</td>\n",
       "      <td>0.093076</td>\n",
       "      <td>0.023511</td>\n",
       "      <td>0.018332</td>\n",
       "      <td>0.321789</td>\n",
       "      <td>0.124855</td>\n",
       "    </tr>\n",
       "    <tr>\n",
       "      <th>mcconnell-m</th>\n",
       "      <td>0.416011</td>\n",
       "      <td>0.185048</td>\n",
       "      <td>0.026123</td>\n",
       "      <td>0.068670</td>\n",
       "      <td>0.129023</td>\n",
       "      <td>0.045189</td>\n",
       "      <td>0.038185</td>\n",
       "      <td>0.024911</td>\n",
       "      <td>0.036951</td>\n",
       "      <td>0.029888</td>\n",
       "    </tr>\n",
       "    <tr>\n",
       "      <th>white-s</th>\n",
       "      <td>0.358914</td>\n",
       "      <td>0.085634</td>\n",
       "      <td>0.037974</td>\n",
       "      <td>0.055535</td>\n",
       "      <td>0.052707</td>\n",
       "      <td>0.137446</td>\n",
       "      <td>0.163025</td>\n",
       "      <td>0.052690</td>\n",
       "      <td>0.028038</td>\n",
       "      <td>0.028039</td>\n",
       "    </tr>\n",
       "    <tr>\n",
       "      <th>beck-s</th>\n",
       "      <td>0.458792</td>\n",
       "      <td>0.185068</td>\n",
       "      <td>0.018036</td>\n",
       "      <td>0.061324</td>\n",
       "      <td>0.066171</td>\n",
       "      <td>0.038900</td>\n",
       "      <td>0.079612</td>\n",
       "      <td>0.027786</td>\n",
       "      <td>0.029063</td>\n",
       "      <td>0.035248</td>\n",
       "    </tr>\n",
       "  </tbody>\n",
       "</table>\n",
       "</div>"
      ],
      "text/plain": [
       "                   Topic1    Topic2    Topic3    Topic4    Topic5    Topic6  \\\n",
       "martin-t         0.485999  0.000000  0.000000  0.000000  0.000000  0.000000   \n",
       "fossum-d         0.367455  0.097427  0.028354  0.072041  0.212846  0.113095   \n",
       "pereira-s        0.278450  0.285785  0.047551  0.065716  0.081338  0.146619   \n",
       "dorland-c        0.197188  0.300089  0.034005  0.039354  0.100250  0.163302   \n",
       "grigsby-m        0.221496  0.104256  0.044408  0.044738  0.117577  0.247917   \n",
       "lewis-a          0.189928  0.307176  0.034755  0.076923  0.155946  0.069009   \n",
       "taylor-m         0.306927  0.108374  0.017401  0.082696  0.092530  0.085312   \n",
       "kean-s           0.387303  0.072146  0.023238  0.066162  0.244512  0.068899   \n",
       "keavey-p         0.191307  0.150776  0.048027  0.089539  0.081379  0.174542   \n",
       "mims-thurston-p  0.170589  0.428923  0.035309  0.036194  0.087639  0.085754   \n",
       "symes-k          0.120175  0.113375  0.029226  0.028458  0.038992  0.578447   \n",
       "ward-k           0.000000  0.070077  0.000000  0.000000  0.062905  0.000000   \n",
       "shively-h        0.346779  0.094998  0.037865  0.064404  0.107857  0.104639   \n",
       "rodrique-r       0.183877  0.348682  0.042243  0.038913  0.054445  0.130103   \n",
       "delainey-d       0.498238  0.051348  0.023390  0.060341  0.165280  0.056062   \n",
       "jones-t          0.170101  0.072577  0.019210  0.055581  0.039436  0.086811   \n",
       "shackleton-s     0.248061  0.044751  0.012255  0.060301  0.053068  0.093076   \n",
       "mcconnell-m      0.416011  0.185048  0.026123  0.068670  0.129023  0.045189   \n",
       "white-s          0.358914  0.085634  0.037974  0.055535  0.052707  0.137446   \n",
       "beck-s           0.458792  0.185068  0.018036  0.061324  0.066171  0.038900   \n",
       "\n",
       "                   Topic7    Topic8    Topic9   Topic10  \n",
       "martin-t         0.000000  0.000000  0.514001  0.000000  \n",
       "fossum-d         0.020699  0.020926  0.026208  0.040949  \n",
       "pereira-s        0.010508  0.030924  0.022283  0.030825  \n",
       "dorland-c        0.036722  0.038700  0.031254  0.059135  \n",
       "grigsby-m        0.049105  0.059026  0.028799  0.082678  \n",
       "lewis-a          0.038744  0.027676  0.033621  0.066222  \n",
       "taylor-m         0.028928  0.018846  0.071080  0.187905  \n",
       "kean-s           0.027321  0.046586  0.038786  0.025047  \n",
       "keavey-p         0.031760  0.036291  0.057949  0.138431  \n",
       "mims-thurston-p  0.026637  0.030680  0.037794  0.060481  \n",
       "symes-k          0.011385  0.030360  0.018067  0.031515  \n",
       "ward-k           0.073297  0.000000  0.000000  0.793720  \n",
       "shively-h        0.034532  0.053417  0.082892  0.072618  \n",
       "rodrique-r       0.104261  0.029348  0.032522  0.035606  \n",
       "delainey-d       0.041663  0.039111  0.037110  0.027458  \n",
       "jones-t          0.020536  0.020981  0.176282  0.338484  \n",
       "shackleton-s     0.023511  0.018332  0.321789  0.124855  \n",
       "mcconnell-m      0.038185  0.024911  0.036951  0.029888  \n",
       "white-s          0.163025  0.052690  0.028038  0.028039  \n",
       "beck-s           0.079612  0.027786  0.029063  0.035248  "
      ]
     },
     "execution_count": 48,
     "metadata": {},
     "output_type": "execute_result"
    }
   ],
   "source": [
    "user_expertise = np.zeros((num_users, num_topics))\n",
    "for i in range(num_users):\n",
    "    user = users[i]\n",
    "    token_list = user_token_dict[user]\n",
    "    user_score = text_likelihood_per_topic(token_list, ldamodel, num_topics)\n",
    "    user_expertise[i,:] = user_score\n",
    "\n",
    "user_expertise\n",
    "\n",
    "cols = ['Topic'+str(i+1) for i in range(num_topics)]\n",
    "expertise_df = pd.DataFrame.from_records(user_expertise, columns=cols, index=users)\n",
    "expertise_df"
   ]
  },
  {
   "cell_type": "code",
   "execution_count": 49,
   "metadata": {},
   "outputs": [
    {
     "data": {
      "text/plain": [
       "array([ 1.,  1.,  1.,  1.,  1.,  1.,  1.,  1.,  1.,  1.,  1.,  1.,  1.,\n",
       "        1.,  1.,  1.,  1.,  1.,  1.,  1.])"
      ]
     },
     "execution_count": 49,
     "metadata": {},
     "output_type": "execute_result"
    }
   ],
   "source": [
    "# check that row sum is zero for each user\n",
    "np.sum(user_expertise, axis=1)"
   ]
  },
  {
   "cell_type": "code",
   "execution_count": 50,
   "metadata": {},
   "outputs": [
    {
     "data": {
      "text/plain": [
       "0.10000000000000001"
      ]
     },
     "execution_count": 50,
     "metadata": {},
     "output_type": "execute_result"
    }
   ],
   "source": [
    "#average user_expertise\n",
    "np.mean(user_expertise)"
   ]
  },
  {
   "cell_type": "code",
   "execution_count": 51,
   "metadata": {},
   "outputs": [
    {
     "data": {
      "text/plain": [
       "Topic1     0.279879\n",
       "Topic2     0.155326\n",
       "Topic3     0.027969\n",
       "Topic4     0.053344\n",
       "Topic5     0.097195\n",
       "Topic6     0.121256\n",
       "Topic7     0.043022\n",
       "Topic8     0.030330\n",
       "Topic9     0.081224\n",
       "Topic10    0.110455\n",
       "dtype: float64"
      ]
     },
     "execution_count": 51,
     "metadata": {},
     "output_type": "execute_result"
    }
   ],
   "source": [
    "avg_expertise_per_topic = expertise_df.mean(axis=0)\n",
    "avg_expertise_per_topic"
   ]
  },
  {
   "cell_type": "markdown",
   "metadata": {},
   "source": [
    "## Mentor-Mentee matching"
   ]
  },
  {
   "cell_type": "markdown",
   "metadata": {
    "collapsed": true
   },
   "source": [
    "We now have a method to see which topics are prevalent for a given user (Mentor).\n",
    "Let's simulate the topic preference of a new employee (Mentee)."
   ]
  },
  {
   "cell_type": "code",
   "execution_count": 52,
   "metadata": {},
   "outputs": [
    {
     "data": {
      "text/plain": [
       "array([[ 0.11103764,  0.10143279,  0.08579807,  0.12942378,  0.07731761,\n",
       "         0.14484037,  0.0878087 ,  0.04807544,  0.05859859,  0.15566702]])"
      ]
     },
     "execution_count": 52,
     "metadata": {},
     "output_type": "execute_result"
    }
   ],
   "source": [
    "r = np.random.rand(1,num_topics)\n",
    "#normalize\n",
    "nr = r/np.sum(r)\n",
    "mentee_pref = nr\n",
    "mentee_pref"
   ]
  },
  {
   "cell_type": "markdown",
   "metadata": {},
   "source": [
    "Let's assume that the mentee has access to the topics and provides his/her preference on each topic.\n",
    "We can reccomend an expert (Mentors) based on the mentee's preference using a distance measure (e.g. minimizing Euclidea distance)."
   ]
  },
  {
   "cell_type": "code",
   "execution_count": 53,
   "metadata": {
    "collapsed": true
   },
   "outputs": [],
   "source": [
    "# case where no preference over different topics\n",
    "mentee_no_pref = np.ones(num_topics)/num_topics\n",
    "\n",
    "# case where only one topic of interest\n",
    "mentee_one_pref = np.zeros(num_topics)\n",
    "mentee_one_pref[random.sample(range(num_topics), 1)] = 1"
   ]
  },
  {
   "cell_type": "code",
   "execution_count": 54,
   "metadata": {},
   "outputs": [
    {
     "data": {
      "text/plain": [
       "['keavey-p']"
      ]
     },
     "execution_count": 54,
     "metadata": {},
     "output_type": "execute_result"
    }
   ],
   "source": [
    "def dist(X, y):   \n",
    "    return np.sqrt(np.sum((X-y)**2, axis=1))\n",
    "\n",
    "d = dist(user_expertise, mentee_pref)\n",
    "\n",
    "expert_match = list(np.array(users)[d == min(d)])\n",
    "expert_match"
   ]
  },
  {
   "cell_type": "markdown",
   "metadata": {},
   "source": [
    "Let's assume instead the mentee selects the words he/she is interested in based on the words appearing among all topics"
   ]
  },
  {
   "cell_type": "code",
   "execution_count": 55,
   "metadata": {},
   "outputs": [
    {
     "data": {
      "text/plain": [
       "['sara', 'trading', 'make', 'master', 'female', 'instrumental', 'message']"
      ]
     },
     "execution_count": 55,
     "metadata": {},
     "output_type": "execute_result"
    }
   ],
   "source": [
    "# let's take some words randomly across different topics\n",
    "flat_list = [word for sublist in Topic_words for word in sublist]\n",
    "flat_list = [x.replace('\"', '') for x in flat_list]\n",
    "words_sample = [flat_list[i] for i in random.sample(range(len(flat_list)), num_words)]\n",
    "words_sample"
   ]
  },
  {
   "cell_type": "code",
   "execution_count": 56,
   "metadata": {},
   "outputs": [
    {
     "data": {
      "text/html": [
       "<div>\n",
       "<style>\n",
       "    .dataframe thead tr:only-child th {\n",
       "        text-align: right;\n",
       "    }\n",
       "\n",
       "    .dataframe thead th {\n",
       "        text-align: left;\n",
       "    }\n",
       "\n",
       "    .dataframe tbody tr th {\n",
       "        vertical-align: top;\n",
       "    }\n",
       "</style>\n",
       "<table border=\"1\" class=\"dataframe\">\n",
       "  <thead>\n",
       "    <tr style=\"text-align: right;\">\n",
       "      <th></th>\n",
       "      <th>Word1</th>\n",
       "      <th>Word2</th>\n",
       "      <th>Word3</th>\n",
       "      <th>Word4</th>\n",
       "      <th>Word5</th>\n",
       "      <th>Word6</th>\n",
       "      <th>Word7</th>\n",
       "    </tr>\n",
       "  </thead>\n",
       "  <tbody>\n",
       "    <tr>\n",
       "      <th>Topic1</th>\n",
       "      <td>0.000000</td>\n",
       "      <td>0.000000</td>\n",
       "      <td>0.000000</td>\n",
       "      <td>0.000000</td>\n",
       "      <td>0.000000</td>\n",
       "      <td>0.0</td>\n",
       "      <td>0.000000</td>\n",
       "    </tr>\n",
       "    <tr>\n",
       "      <th>Topic2</th>\n",
       "      <td>0.000000</td>\n",
       "      <td>0.000000</td>\n",
       "      <td>0.000000</td>\n",
       "      <td>0.000000</td>\n",
       "      <td>0.011134</td>\n",
       "      <td>0.0</td>\n",
       "      <td>0.000000</td>\n",
       "    </tr>\n",
       "    <tr>\n",
       "      <th>Topic3</th>\n",
       "      <td>0.000000</td>\n",
       "      <td>0.000000</td>\n",
       "      <td>0.000000</td>\n",
       "      <td>0.000000</td>\n",
       "      <td>0.000000</td>\n",
       "      <td>0.0</td>\n",
       "      <td>0.000000</td>\n",
       "    </tr>\n",
       "    <tr>\n",
       "      <th>Topic4</th>\n",
       "      <td>0.000000</td>\n",
       "      <td>0.000000</td>\n",
       "      <td>0.000000</td>\n",
       "      <td>0.000000</td>\n",
       "      <td>0.000000</td>\n",
       "      <td>0.0</td>\n",
       "      <td>0.011656</td>\n",
       "    </tr>\n",
       "    <tr>\n",
       "      <th>Topic5</th>\n",
       "      <td>0.000000</td>\n",
       "      <td>0.000000</td>\n",
       "      <td>0.000000</td>\n",
       "      <td>0.000000</td>\n",
       "      <td>0.000000</td>\n",
       "      <td>0.0</td>\n",
       "      <td>0.000000</td>\n",
       "    </tr>\n",
       "    <tr>\n",
       "      <th>Topic6</th>\n",
       "      <td>0.000000</td>\n",
       "      <td>0.000000</td>\n",
       "      <td>0.000000</td>\n",
       "      <td>0.000000</td>\n",
       "      <td>0.000000</td>\n",
       "      <td>0.0</td>\n",
       "      <td>0.000000</td>\n",
       "    </tr>\n",
       "    <tr>\n",
       "      <th>Topic7</th>\n",
       "      <td>0.000000</td>\n",
       "      <td>0.031750</td>\n",
       "      <td>0.000000</td>\n",
       "      <td>0.000000</td>\n",
       "      <td>0.000000</td>\n",
       "      <td>0.0</td>\n",
       "      <td>0.000000</td>\n",
       "    </tr>\n",
       "    <tr>\n",
       "      <th>Topic8</th>\n",
       "      <td>0.000000</td>\n",
       "      <td>0.000000</td>\n",
       "      <td>0.020606</td>\n",
       "      <td>0.000000</td>\n",
       "      <td>0.000000</td>\n",
       "      <td>0.0</td>\n",
       "      <td>0.000000</td>\n",
       "    </tr>\n",
       "    <tr>\n",
       "      <th>Topic9</th>\n",
       "      <td>0.024982</td>\n",
       "      <td>0.000000</td>\n",
       "      <td>0.000000</td>\n",
       "      <td>0.000000</td>\n",
       "      <td>0.000000</td>\n",
       "      <td>0.0</td>\n",
       "      <td>0.000000</td>\n",
       "    </tr>\n",
       "    <tr>\n",
       "      <th>Topic10</th>\n",
       "      <td>0.000000</td>\n",
       "      <td>0.013742</td>\n",
       "      <td>0.000000</td>\n",
       "      <td>0.012598</td>\n",
       "      <td>0.000000</td>\n",
       "      <td>0.0</td>\n",
       "      <td>0.000000</td>\n",
       "    </tr>\n",
       "  </tbody>\n",
       "</table>\n",
       "</div>"
      ],
      "text/plain": [
       "            Word1     Word2     Word3     Word4     Word5  Word6     Word7\n",
       "Topic1   0.000000  0.000000  0.000000  0.000000  0.000000    0.0  0.000000\n",
       "Topic2   0.000000  0.000000  0.000000  0.000000  0.011134    0.0  0.000000\n",
       "Topic3   0.000000  0.000000  0.000000  0.000000  0.000000    0.0  0.000000\n",
       "Topic4   0.000000  0.000000  0.000000  0.000000  0.000000    0.0  0.011656\n",
       "Topic5   0.000000  0.000000  0.000000  0.000000  0.000000    0.0  0.000000\n",
       "Topic6   0.000000  0.000000  0.000000  0.000000  0.000000    0.0  0.000000\n",
       "Topic7   0.000000  0.031750  0.000000  0.000000  0.000000    0.0  0.000000\n",
       "Topic8   0.000000  0.000000  0.020606  0.000000  0.000000    0.0  0.000000\n",
       "Topic9   0.024982  0.000000  0.000000  0.000000  0.000000    0.0  0.000000\n",
       "Topic10  0.000000  0.013742  0.000000  0.012598  0.000000    0.0  0.000000"
      ]
     },
     "execution_count": 56,
     "metadata": {},
     "output_type": "execute_result"
    }
   ],
   "source": [
    "#let's compute the relevance of each word for all topics\n",
    "\n",
    "def word_likelihood_per_topic(word, ldamodel, num_topics):\n",
    "    \n",
    "    word_likelihood = np.zeros(num_topics)\n",
    "    term_topics = ldamodel.get_term_topics(word) #Returns most likely topics for a particular word\n",
    "    if term_topics:\n",
    "        for topic_tuple in term_topics:\n",
    "            topic_id = topic_tuple[0]\n",
    "            topic_lik = topic_tuple[1] #likelihood\n",
    "            word_likelihood[topic_id] = topic_lik\n",
    "    \n",
    "    return(word_likelihood)\n",
    "\n",
    "\n",
    "word_likelihoods = np.zeros((num_topics, num_words))\n",
    "for j in range(num_words):\n",
    "    w = word_likelihood_per_topic(words_sample[j], ldamodel, num_topics)\n",
    "    word_likelihoods[:,j] = w\n",
    "    \n",
    "\n",
    "idx = ['Topic'+str(i+1) for i in range(num_topics)]\n",
    "labels = ['Word'+str(i+1) for i in range(num_words)]\n",
    "word_like_df = pd.DataFrame.from_records(word_likelihoods, columns=labels, index=idx)\n",
    "word_like_df"
   ]
  },
  {
   "cell_type": "markdown",
   "metadata": {},
   "source": [
    "We use a technique from content-based reccomendaiton systems: recommend item based on a similarity comparison between the content of the items and a user’s profile.\n",
    "We match the mentor by computing the dot product between then word-topic likelihood and the user-topic likelihood. \n",
    "The user corrisponding to the largest values is the one with is more likely to have more knolodge about the words queried."
   ]
  },
  {
   "cell_type": "code",
   "execution_count": 57,
   "metadata": {},
   "outputs": [
    {
     "data": {
      "text/plain": [
       "['pereira-s',\n",
       " 'dorland-c',\n",
       " 'lewis-a',\n",
       " 'mims-thurston-p',\n",
       " 'symes-k',\n",
       " 'rodrique-r',\n",
       " 'mcconnell-m']"
      ]
     },
     "execution_count": 57,
     "metadata": {},
     "output_type": "execute_result"
    }
   ],
   "source": [
    "W = np.dot(user_expertise, word_likelihoods)\n",
    "usermax = np.argmax(W, axis=1)\n",
    "list(np.array(users)[usermax == max(usermax)])"
   ]
  },
  {
   "cell_type": "markdown",
   "metadata": {},
   "source": [
    "# Performance evalutation"
   ]
  },
  {
   "cell_type": "code",
   "execution_count": null,
   "metadata": {
    "collapsed": true
   },
   "outputs": [],
   "source": [
    "#TO DO \n",
    "\n",
    "#define random matching \n",
    "\n",
    "#define best matching \n",
    "\n",
    "#define worst matching \n"
   ]
  },
  {
   "cell_type": "markdown",
   "metadata": {},
   "source": [
    "# Check K-means and PCA projection"
   ]
  },
  {
   "cell_type": "code",
   "execution_count": 66,
   "metadata": {},
   "outputs": [
    {
     "ename": "AttributeError",
     "evalue": "'list' object has no attribute 'lower'",
     "output_type": "error",
     "traceback": [
      "\u001b[0;31m---------------------------------------------------------------------------\u001b[0m",
      "\u001b[0;31mAttributeError\u001b[0m                            Traceback (most recent call last)",
      "\u001b[0;32m<ipython-input-66-35839563b088>\u001b[0m in \u001b[0;36m<module>\u001b[0;34m()\u001b[0m\n\u001b[1;32m      5\u001b[0m \u001b[0;34m\u001b[0m\u001b[0m\n\u001b[1;32m      6\u001b[0m \u001b[0mwordvector\u001b[0m \u001b[0;34m=\u001b[0m \u001b[0mTfidfVectorizer\u001b[0m\u001b[0;34m(\u001b[0m\u001b[0manalyzer\u001b[0m\u001b[0;34m=\u001b[0m\u001b[0;34m'word'\u001b[0m\u001b[0;34m,\u001b[0m \u001b[0mstop_words\u001b[0m\u001b[0;34m=\u001b[0m\u001b[0;34m'english'\u001b[0m\u001b[0;34m,\u001b[0m \u001b[0mmax_df\u001b[0m\u001b[0;34m=\u001b[0m\u001b[0;36m0.4\u001b[0m\u001b[0;34m,\u001b[0m \u001b[0mmin_df\u001b[0m\u001b[0;34m=\u001b[0m\u001b[0;36m5\u001b[0m\u001b[0;34m)\u001b[0m\u001b[0;34m\u001b[0m\u001b[0m\n\u001b[0;32m----> 7\u001b[0;31m \u001b[0mwordvector_fit\u001b[0m \u001b[0;34m=\u001b[0m \u001b[0mwordvector\u001b[0m\u001b[0;34m.\u001b[0m\u001b[0mfit_transform\u001b[0m\u001b[0;34m(\u001b[0m\u001b[0mtext_sample\u001b[0m\u001b[0;34m)\u001b[0m\u001b[0;34m\u001b[0m\u001b[0m\n\u001b[0m\u001b[1;32m      8\u001b[0m \u001b[0mfeature\u001b[0m \u001b[0;34m=\u001b[0m \u001b[0mwordvector\u001b[0m\u001b[0;34m.\u001b[0m\u001b[0mget_feature_names\u001b[0m\u001b[0;34m(\u001b[0m\u001b[0;34m)\u001b[0m\u001b[0;34m\u001b[0m\u001b[0m\n",
      "\u001b[0;32m//anaconda/lib/python3.5/site-packages/sklearn/feature_extraction/text.py\u001b[0m in \u001b[0;36mfit_transform\u001b[0;34m(self, raw_documents, y)\u001b[0m\n\u001b[1;32m   1350\u001b[0m             \u001b[0mTf\u001b[0m\u001b[0;34m-\u001b[0m\u001b[0midf\u001b[0m\u001b[0;34m-\u001b[0m\u001b[0mweighted\u001b[0m \u001b[0mdocument\u001b[0m\u001b[0;34m-\u001b[0m\u001b[0mterm\u001b[0m \u001b[0mmatrix\u001b[0m\u001b[0;34m.\u001b[0m\u001b[0;34m\u001b[0m\u001b[0m\n\u001b[1;32m   1351\u001b[0m         \"\"\"\n\u001b[0;32m-> 1352\u001b[0;31m         \u001b[0mX\u001b[0m \u001b[0;34m=\u001b[0m \u001b[0msuper\u001b[0m\u001b[0;34m(\u001b[0m\u001b[0mTfidfVectorizer\u001b[0m\u001b[0;34m,\u001b[0m \u001b[0mself\u001b[0m\u001b[0;34m)\u001b[0m\u001b[0;34m.\u001b[0m\u001b[0mfit_transform\u001b[0m\u001b[0;34m(\u001b[0m\u001b[0mraw_documents\u001b[0m\u001b[0;34m)\u001b[0m\u001b[0;34m\u001b[0m\u001b[0m\n\u001b[0m\u001b[1;32m   1353\u001b[0m         \u001b[0mself\u001b[0m\u001b[0;34m.\u001b[0m\u001b[0m_tfidf\u001b[0m\u001b[0;34m.\u001b[0m\u001b[0mfit\u001b[0m\u001b[0;34m(\u001b[0m\u001b[0mX\u001b[0m\u001b[0;34m)\u001b[0m\u001b[0;34m\u001b[0m\u001b[0m\n\u001b[1;32m   1354\u001b[0m         \u001b[0;31m# X is already a transformed view of raw_documents so\u001b[0m\u001b[0;34m\u001b[0m\u001b[0;34m\u001b[0m\u001b[0m\n",
      "\u001b[0;32m//anaconda/lib/python3.5/site-packages/sklearn/feature_extraction/text.py\u001b[0m in \u001b[0;36mfit_transform\u001b[0;34m(self, raw_documents, y)\u001b[0m\n\u001b[1;32m    837\u001b[0m \u001b[0;34m\u001b[0m\u001b[0m\n\u001b[1;32m    838\u001b[0m         vocabulary, X = self._count_vocab(raw_documents,\n\u001b[0;32m--> 839\u001b[0;31m                                           self.fixed_vocabulary_)\n\u001b[0m\u001b[1;32m    840\u001b[0m \u001b[0;34m\u001b[0m\u001b[0m\n\u001b[1;32m    841\u001b[0m         \u001b[0;32mif\u001b[0m \u001b[0mself\u001b[0m\u001b[0;34m.\u001b[0m\u001b[0mbinary\u001b[0m\u001b[0;34m:\u001b[0m\u001b[0;34m\u001b[0m\u001b[0m\n",
      "\u001b[0;32m//anaconda/lib/python3.5/site-packages/sklearn/feature_extraction/text.py\u001b[0m in \u001b[0;36m_count_vocab\u001b[0;34m(self, raw_documents, fixed_vocab)\u001b[0m\n\u001b[1;32m    760\u001b[0m         \u001b[0;32mfor\u001b[0m \u001b[0mdoc\u001b[0m \u001b[0;32min\u001b[0m \u001b[0mraw_documents\u001b[0m\u001b[0;34m:\u001b[0m\u001b[0;34m\u001b[0m\u001b[0m\n\u001b[1;32m    761\u001b[0m             \u001b[0mfeature_counter\u001b[0m \u001b[0;34m=\u001b[0m \u001b[0;34m{\u001b[0m\u001b[0;34m}\u001b[0m\u001b[0;34m\u001b[0m\u001b[0m\n\u001b[0;32m--> 762\u001b[0;31m             \u001b[0;32mfor\u001b[0m \u001b[0mfeature\u001b[0m \u001b[0;32min\u001b[0m \u001b[0manalyze\u001b[0m\u001b[0;34m(\u001b[0m\u001b[0mdoc\u001b[0m\u001b[0;34m)\u001b[0m\u001b[0;34m:\u001b[0m\u001b[0;34m\u001b[0m\u001b[0m\n\u001b[0m\u001b[1;32m    763\u001b[0m                 \u001b[0;32mtry\u001b[0m\u001b[0;34m:\u001b[0m\u001b[0;34m\u001b[0m\u001b[0m\n\u001b[1;32m    764\u001b[0m                     \u001b[0mfeature_idx\u001b[0m \u001b[0;34m=\u001b[0m \u001b[0mvocabulary\u001b[0m\u001b[0;34m[\u001b[0m\u001b[0mfeature\u001b[0m\u001b[0;34m]\u001b[0m\u001b[0;34m\u001b[0m\u001b[0m\n",
      "\u001b[0;32m//anaconda/lib/python3.5/site-packages/sklearn/feature_extraction/text.py\u001b[0m in \u001b[0;36m<lambda>\u001b[0;34m(doc)\u001b[0m\n\u001b[1;32m    239\u001b[0m \u001b[0;34m\u001b[0m\u001b[0m\n\u001b[1;32m    240\u001b[0m             return lambda doc: self._word_ngrams(\n\u001b[0;32m--> 241\u001b[0;31m                 tokenize(preprocess(self.decode(doc))), stop_words)\n\u001b[0m\u001b[1;32m    242\u001b[0m \u001b[0;34m\u001b[0m\u001b[0m\n\u001b[1;32m    243\u001b[0m         \u001b[0;32melse\u001b[0m\u001b[0;34m:\u001b[0m\u001b[0;34m\u001b[0m\u001b[0m\n",
      "\u001b[0;32m//anaconda/lib/python3.5/site-packages/sklearn/feature_extraction/text.py\u001b[0m in \u001b[0;36m<lambda>\u001b[0;34m(x)\u001b[0m\n\u001b[1;32m    205\u001b[0m \u001b[0;34m\u001b[0m\u001b[0m\n\u001b[1;32m    206\u001b[0m         \u001b[0;32mif\u001b[0m \u001b[0mself\u001b[0m\u001b[0;34m.\u001b[0m\u001b[0mlowercase\u001b[0m\u001b[0;34m:\u001b[0m\u001b[0;34m\u001b[0m\u001b[0m\n\u001b[0;32m--> 207\u001b[0;31m             \u001b[0;32mreturn\u001b[0m \u001b[0;32mlambda\u001b[0m \u001b[0mx\u001b[0m\u001b[0;34m:\u001b[0m \u001b[0mstrip_accents\u001b[0m\u001b[0;34m(\u001b[0m\u001b[0mx\u001b[0m\u001b[0;34m.\u001b[0m\u001b[0mlower\u001b[0m\u001b[0;34m(\u001b[0m\u001b[0;34m)\u001b[0m\u001b[0;34m)\u001b[0m\u001b[0;34m\u001b[0m\u001b[0m\n\u001b[0m\u001b[1;32m    208\u001b[0m         \u001b[0;32melse\u001b[0m\u001b[0;34m:\u001b[0m\u001b[0;34m\u001b[0m\u001b[0m\n\u001b[1;32m    209\u001b[0m             \u001b[0;32mreturn\u001b[0m \u001b[0mstrip_accents\u001b[0m\u001b[0;34m\u001b[0m\u001b[0m\n",
      "\u001b[0;31mAttributeError\u001b[0m: 'list' object has no attribute 'lower'"
     ]
    }
   ],
   "source": [
    "from sklearn.feature_extraction.text import TfidfVectorizer,CountVectorizer\n",
    "\n",
    "flat_texts = [text for text in texts]\n",
    "text_sample = [flat_texts[i] for i in random.sample(range(len(flat_texts)), 1000)]\n",
    "\n",
    "wordvector = TfidfVectorizer(analyzer='word', stop_words='english', max_df=0.4, min_df=5)\n",
    "wordvector_fit = wordvector.fit_transform(text_sample)\n",
    "feature = wordvector.get_feature_names()"
   ]
  },
  {
   "cell_type": "code",
   "execution_count": 59,
   "metadata": {},
   "outputs": [
    {
     "ename": "NameError",
     "evalue": "name 'wordvector_fit' is not defined",
     "output_type": "error",
     "traceback": [
      "\u001b[0;31m---------------------------------------------------------------------------\u001b[0m",
      "\u001b[0;31mNameError\u001b[0m                                 Traceback (most recent call last)",
      "\u001b[0;32m<ipython-input-59-966d09eda173>\u001b[0m in \u001b[0;36m<module>\u001b[0;34m()\u001b[0m\n\u001b[1;32m      7\u001b[0m             \u001b[0minit\u001b[0m\u001b[0;34m=\u001b[0m\u001b[0;34m'k-means++'\u001b[0m\u001b[0;34m,\u001b[0m\u001b[0;34m\u001b[0m\u001b[0m\n\u001b[1;32m      8\u001b[0m             n_init=1)\n\u001b[0;32m----> 9\u001b[0;31m \u001b[0mlabels\u001b[0m \u001b[0;34m=\u001b[0m \u001b[0mclf\u001b[0m\u001b[0;34m.\u001b[0m\u001b[0mfit_predict\u001b[0m\u001b[0;34m(\u001b[0m\u001b[0mwordvector_fit\u001b[0m\u001b[0;34m)\u001b[0m\u001b[0;34m\u001b[0m\u001b[0m\n\u001b[0m\u001b[1;32m     10\u001b[0m \u001b[0;34m\u001b[0m\u001b[0m\n\u001b[1;32m     11\u001b[0m \u001b[0;34m\u001b[0m\u001b[0m\n",
      "\u001b[0;31mNameError\u001b[0m: name 'wordvector_fit' is not defined"
     ]
    }
   ],
   "source": [
    "from sklearn.cluster import KMeans\n",
    "from sklearn.decomposition import PCA\n",
    "\n",
    "N = 4\n",
    "clf = KMeans(n_clusters=N, \n",
    "            max_iter=50, \n",
    "            init='k-means++', \n",
    "            n_init=1)\n",
    "labels = clf.fit_predict(wordvector_fit)\n",
    "\n",
    "\n",
    "wordvector_fit_2d = wordvector_fit.todense()\n",
    "pca = PCA(n_components=2).fit(wordvector_fit_2d)\n",
    "datapoint = pca.transform(wordvector_fit_2d)\n",
    "\n",
    "\n",
    "label = [\"#e05f14\", \"#e0dc14\", \"#2fe014\", \"#14d2e0\"]\n",
    "color = [label[i] for i in labels]\n",
    "plt.scatter(datapoint[:, 0], datapoint[:, 1], c=color)\n",
    "\n",
    "centroids = clf.cluster_centers_\n",
    "centroidpoint = pca.transform(centroids)\n",
    "plt.scatter(centroidpoint[:, 0], centroidpoint[:, 1], marker='^', s=150, c='#000000')\n",
    "plt.show()"
   ]
  },
  {
   "cell_type": "code",
   "execution_count": null,
   "metadata": {
    "collapsed": true
   },
   "outputs": [],
   "source": []
  }
 ],
 "metadata": {
  "kernelspec": {
   "display_name": "Python [default]",
   "language": "python",
   "name": "python3"
  },
  "language_info": {
   "codemirror_mode": {
    "name": "ipython",
    "version": 3
   },
   "file_extension": ".py",
   "mimetype": "text/x-python",
   "name": "python",
   "nbconvert_exporter": "python",
   "pygments_lexer": "ipython3",
   "version": "3.5.3"
  }
 },
 "nbformat": 4,
 "nbformat_minor": 1
}
