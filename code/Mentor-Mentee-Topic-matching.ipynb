{
 "cells": [
  {
   "cell_type": "markdown",
   "metadata": {},
   "source": [
    "#  Mentor-Mentee Topic Matching on the Enron email dataset"
   ]
  },
  {
   "cell_type": "markdown",
   "metadata": {},
   "source": [
    "The goal of this notebook is to ..."
   ]
  },
  {
   "cell_type": "code",
   "execution_count": 2,
   "metadata": {
    "collapsed": true
   },
   "outputs": [],
   "source": [
    "%load_ext autoreload\n",
    "import re, os\n",
    "import json\n",
    "\n",
    "workdir = \"/Users/Andrea/Documents/Education/ULB/Phd/Github/PMI-case-study/\"\n",
    "dirMail = str(workdir)  + \"data/enron/maildir/\"\n",
    "dirCode = str(workdir)  + \"code/\"\n",
    "dirRes = str(workdir)  + \"res/\"\n",
    "\n",
    "os.chdir(dirCode)\n",
    "from preprocessing import *\n",
    "%reload_ext preprocessing\n"
   ]
  },
  {
   "cell_type": "markdown",
   "metadata": {},
   "source": [
    "We will look at the \"sent\" directory of each of the 150 employees of Enron. We need to import the data and in turn, clean up the data. Info from [here](https://rforwork.info/2013/11/03/a-rather-nosy-topic-model-analysis-of-the-enron-email-corpus/) and here [here](https://rstudio-pubs-static.s3.amazonaws.com/79360_850b2a69980c4488b1db95987a24867a.html) proved to be very useful. Also see http://www.colorado.edu/ics/sites/default/files/attached-files/01-11_0.pdf \n",
    "We now build a list of strings - each string being an email (document). Each document is filtered according to some regular expressions. We also build a dictionary, namely, user_docs_dict that stores for each iteration of a user, the corresponding name and as well as a list of the filtered emails."
   ]
  },
  {
   "cell_type": "code",
   "execution_count": 5,
   "metadata": {},
   "outputs": [
    {
     "data": {
      "text/plain": [
       "\"\\nuser_docs_list = [] # Stores email sender's name and content\\nfor user in users:\\n    sent =  str(dirmail) + str(user) + '/sent'   \\n    try: \\n        os.chdir(sent)\\n        d = []\\n        for email in os.listdir():          \\n            text = open(email,'r').read()\\n            # Regular 'clutter' from each email\\n            text = remove_unwanted_text(text)\\n            d.append(text)\\n        user_docs_list.append((user, d))\\n    except:\\n        pass\\n    \\nuser_docs_dict = dict(user_docs_list)\\n\\n# Save the user_docs_dict file as json\\nwith open('user_docs_dict.jsn','w') as f:\\n    json.dump(user_docs_dict,f)\\nf.close()\\n\\n\""
      ]
     },
     "execution_count": 5,
     "metadata": {},
     "output_type": "execute_result"
    }
   ],
   "source": [
    "# For each user we extract all the emails in their inbox\n",
    "users = [i for i in os.listdir(dirMail)]\n",
    "\n",
    "'''\n",
    "user_docs_list = [] # Stores email sender's name and content\n",
    "for user in users:\n",
    "    sent =  str(dirMail) + str(user) + '/sent'   \n",
    "    try: \n",
    "        os.chdir(sent)\n",
    "        d = []\n",
    "        for email in os.listdir():          \n",
    "            text = open(email,'r').read()\n",
    "            # Regular 'clutter' from each email\n",
    "            text = remove_unwanted_text(text)\n",
    "            d.append(text)\n",
    "        user_docs_list.append((user, d))\n",
    "    except:\n",
    "        pass\n",
    "    \n",
    "user_docs_dict = dict(user_docs_list)\n",
    "\n",
    "# Save the user_docs_dict file as json\n",
    "with open(dirRes + 'user_docs_dict.jsn','w') as f:\n",
    "    json.dump(user_docs_dict,f)\n",
    "f.close()\n",
    "\n",
    "'''"
   ]
  },
  {
   "cell_type": "code",
   "execution_count": 65,
   "metadata": {
    "collapsed": true
   },
   "outputs": [],
   "source": [
    "\n",
    "# Loading the user_docs_dict file\n",
    "with open(dirRes + 'user_docs_dict.jsn','r') as f:\n",
    "    user_docs_dict = json.load(f)\n",
    "f.close()\n"
   ]
  },
  {
   "cell_type": "markdown",
   "metadata": {},
   "source": [
    "## Let's check how many user and emails are available"
   ]
  },
  {
   "cell_type": "code",
   "execution_count": 66,
   "metadata": {},
   "outputs": [
    {
     "name": "stdout",
     "output_type": "stream",
     "text": [
      "Total number of users: 88\n"
     ]
    }
   ],
   "source": [
    "num_users = len(user_docs_dict.keys())\n",
    "print(\"Total number of users:\", num_users)"
   ]
  },
  {
   "cell_type": "code",
   "execution_count": 67,
   "metadata": {},
   "outputs": [
    {
     "data": {
      "text/html": [
       "<div>\n",
       "<style>\n",
       "    .dataframe thead tr:only-child th {\n",
       "        text-align: right;\n",
       "    }\n",
       "\n",
       "    .dataframe thead th {\n",
       "        text-align: left;\n",
       "    }\n",
       "\n",
       "    .dataframe tbody tr th {\n",
       "        vertical-align: top;\n",
       "    }\n",
       "</style>\n",
       "<table border=\"1\" class=\"dataframe\">\n",
       "  <thead>\n",
       "    <tr style=\"text-align: right;\">\n",
       "      <th></th>\n",
       "      <th>num_emails</th>\n",
       "      <th>users</th>\n",
       "    </tr>\n",
       "  </thead>\n",
       "  <tbody>\n",
       "    <tr>\n",
       "      <th>51</th>\n",
       "      <td>4440.0</td>\n",
       "      <td>mann-k</td>\n",
       "    </tr>\n",
       "    <tr>\n",
       "      <th>74</th>\n",
       "      <td>3930.0</td>\n",
       "      <td>dasovich-j</td>\n",
       "    </tr>\n",
       "    <tr>\n",
       "      <th>82</th>\n",
       "      <td>3810.0</td>\n",
       "      <td>jones-t</td>\n",
       "    </tr>\n",
       "    <tr>\n",
       "      <th>70</th>\n",
       "      <td>3774.0</td>\n",
       "      <td>shackleton-s</td>\n",
       "    </tr>\n",
       "    <tr>\n",
       "      <th>43</th>\n",
       "      <td>3463.0</td>\n",
       "      <td>kaminski-v</td>\n",
       "    </tr>\n",
       "    <tr>\n",
       "      <th>19</th>\n",
       "      <td>2116.0</td>\n",
       "      <td>germany-c</td>\n",
       "    </tr>\n",
       "    <tr>\n",
       "      <th>15</th>\n",
       "      <td>1992.0</td>\n",
       "      <td>lenhart-m</td>\n",
       "    </tr>\n",
       "    <tr>\n",
       "      <th>66</th>\n",
       "      <td>1862.0</td>\n",
       "      <td>taylor-m</td>\n",
       "    </tr>\n",
       "    <tr>\n",
       "      <th>59</th>\n",
       "      <td>1770.0</td>\n",
       "      <td>perlingiere-d</td>\n",
       "    </tr>\n",
       "    <tr>\n",
       "      <th>13</th>\n",
       "      <td>1632.0</td>\n",
       "      <td>sanders-r</td>\n",
       "    </tr>\n",
       "  </tbody>\n",
       "</table>\n",
       "</div>"
      ],
      "text/plain": [
       "    num_emails          users\n",
       "51      4440.0         mann-k\n",
       "74      3930.0     dasovich-j\n",
       "82      3810.0        jones-t\n",
       "70      3774.0   shackleton-s\n",
       "43      3463.0     kaminski-v\n",
       "19      2116.0      germany-c\n",
       "15      1992.0      lenhart-m\n",
       "66      1862.0       taylor-m\n",
       "59      1770.0  perlingiere-d\n",
       "13      1632.0      sanders-r"
      ]
     },
     "execution_count": 67,
     "metadata": {},
     "output_type": "execute_result"
    }
   ],
   "source": [
    "import numpy as np\n",
    "import pandas as pd\n",
    "\n",
    "users = list(user_docs_dict.keys())\n",
    "num_emails = np.zeros(num_users)\n",
    "for i in range(num_users):\n",
    "    u = users[i]\n",
    "    user_docs = user_docs_dict[u]\n",
    "    num_emails[i] = len(user_docs)\n",
    "    \n",
    "users_df = pd.DataFrame({'users': users, 'num_emails': num_emails})\n",
    "users_df = users_df.sort_values('num_emails', ascending=False)\n",
    "users_df.head(10)"
   ]
  },
  {
   "cell_type": "code",
   "execution_count": 68,
   "metadata": {},
   "outputs": [
    {
     "data": {
      "image/png": "[encoded data removed]",
      "text/plain": [
       "<matplotlib.figure.Figure at 0x11f50bb38>"
      ]
     },
     "metadata": {},
     "output_type": "display_data"
    }
   ],
   "source": [
    "import matplotlib.pyplot as plt\n",
    "\n",
    "fig = plt.gcf()\n",
    "fig.set_size_inches(18.5, 7.5)\n",
    "\n",
    "y_pos = np.arange(num_users)\n",
    "plt.bar(y_pos, users_df.num_emails, align='center', alpha=0.5)\n",
    "plt.xticks(y_pos, users_df.users, rotation=90)\n",
    "plt.ylabel('Num emails')\n",
    "plt.title('Number of emails per users')\n",
    "\n",
    "fig.savefig(dirRes+'num_emails.pdf', dpi=100)\n",
    "#plt.savefig(dirRes+\"num_emails.pdf\")\n",
    "plt.show()"
   ]
  },
  {
   "cell_type": "code",
   "execution_count": 70,
   "metadata": {
    "collapsed": true
   },
   "outputs": [],
   "source": [
    "#Select a subset of user to speed up the computation\n",
    "import random\n",
    "num_sample = 15\n",
    "#sub_users = [list(user_docs_dict.keys())[i] for i in random.sample(range(num_users), num_sample)] # select randomly\n",
    "sub_users = list(users_df.users.head(num_sample)) # select users with highest number of emails\n",
    "\n",
    "\n",
    "# create a new dictionary\n",
    "user_docs_dict = { user: user_docs_dict[user] for user in sub_users }\n",
    "\n",
    "users = list(user_docs_dict.keys())\n",
    "num_users = len(user_docs_dict.keys())"
   ]
  },
  {
   "cell_type": "markdown",
   "metadata": {},
   "source": [
    "## Topic Modeling: extract major topics in the emails"
   ]
  },
  {
   "cell_type": "markdown",
   "metadata": {},
   "source": [
    "Now we extract tokens, by removing stop words and using a lemmatizer (see preprocessing.py for a more detaileds).\n",
    "While creating a new 'texts' variable that stores the filtered documents, we also edit the docs_num_dict to update the words according to the tokenize,stop word, lemmatize procedure."
   ]
  },
  {
   "cell_type": "code",
   "execution_count": 71,
   "metadata": {
    "collapsed": true
   },
   "outputs": [],
   "source": [
    "# store all email content into a list\n",
    "from collections import defaultdict\n",
    "\n",
    "user_token_list = []\n",
    "texts = []\n",
    "for i in range(num_users):\n",
    "    user = users[i]\n",
    "    user_docs = user_docs_dict[user]\n",
    "    tokens_list = []\n",
    "    for doc in user_docs:\n",
    "        tokens = get_token(doc)\n",
    "        texts.append(tokens)\n",
    "        tokens_list.append(tokens)\n",
    "        \n",
    "    user_token_list.append((user, tokens_list))\n",
    "\n",
    "user_token_dict = dict(user_token_list)"
   ]
  },
  {
   "cell_type": "markdown",
   "metadata": {},
   "source": [
    "The texts file is saved."
   ]
  },
  {
   "cell_type": "code",
   "execution_count": 72,
   "metadata": {},
   "outputs": [
    {
     "data": {
      "text/plain": [
       "\"\\nos.chdir(dirLDA)\\n\\n# Loading the raw texts file\\nwith open('texts_raw.jsn','r') as f:\\n    texts = json.load(f)\\nf.close()\\n    \\n\""
      ]
     },
     "execution_count": 72,
     "metadata": {},
     "output_type": "execute_result"
    }
   ],
   "source": [
    "os.chdir(dirRes)\n",
    "\n",
    "# Save the texts file as texts_raw (will be edited again below)\n",
    "with open('texts.jsn','w') as f:\n",
    "    json.dump(texts,f)\n",
    "f.close()\n",
    "\n",
    "'''\n",
    "os.chdir(dirRes)\n",
    "\n",
    "# Loading the raw texts file\n",
    "with open('texts_raw.jsn','r') as f:\n",
    "    texts = json.load(f)\n",
    "f.close()\n",
    "    \n",
    "'''"
   ]
  },
  {
   "cell_type": "markdown",
   "metadata": {},
   "source": [
    "Now we construct the document term matrix whereafter the fairly lengthy process of constructing the model takes place."
   ]
  },
  {
   "cell_type": "code",
   "execution_count": 73,
   "metadata": {
    "collapsed": true
   },
   "outputs": [],
   "source": [
    "# Constructing a document-term matrix\n",
    "\n",
    "from gensim import corpora, models\n",
    "\n",
    "dictionary = corpora.Dictionary(texts)\n",
    "\n",
    "corpus = [dictionary.doc2bow(text) for text in texts]\n"
   ]
  },
  {
   "cell_type": "code",
   "execution_count": 74,
   "metadata": {
    "collapsed": true
   },
   "outputs": [],
   "source": [
    "num_topics=10\n",
    "num_passes=10"
   ]
  },
  {
   "cell_type": "code",
   "execution_count": 75,
   "metadata": {
    "collapsed": true
   },
   "outputs": [],
   "source": [
    "ldamodel = models.ldamodel.LdaModel(corpus, num_topics=num_topics, id2word = dictionary, passes=num_passes)"
   ]
  },
  {
   "cell_type": "markdown",
   "metadata": {},
   "source": [
    "We save both the LDA data as well as the results. We can reanalyse later. See the folder called LDAdata."
   ]
  },
  {
   "cell_type": "code",
   "execution_count": 76,
   "metadata": {
    "collapsed": true
   },
   "outputs": [],
   "source": [
    "os.chdir(dirRes)\n",
    "\n",
    "# Saving the dictionary\n",
    "dictionary.save('dictionary')\n",
    "\n",
    "# Saving the corpus    \n",
    "with open('corpus.jsn','w') as f:\n",
    "    json.dump(corpus,f)    \n",
    "f.close()\n",
    "\n",
    "# Saving the ldamodel\n",
    "ldamodel.save('ldamodel')"
   ]
  },
  {
   "cell_type": "code",
   "execution_count": 77,
   "metadata": {},
   "outputs": [
    {
     "data": {
      "text/plain": [
       "\"\\n# Load dictionary\\ndictionary = corpora.Dictionary.load('dictionary')\\nldamodel = models.LdaModel.load('ldamodel') \\n# Load corpus\\nwith open('corpus.jsn','r') as f:\\n    corpus = json.load(f)\\nf.close()\\n\""
      ]
     },
     "execution_count": 77,
     "metadata": {},
     "output_type": "execute_result"
    }
   ],
   "source": [
    "'''\n",
    "# Load dictionary\n",
    "dictionary = corpora.Dictionary.load('dictionary')\n",
    "ldamodel = models.LdaModel.load('ldamodel') \n",
    "# Load corpus\n",
    "with open('corpus.jsn','r') as f:\n",
    "    corpus = json.load(f)\n",
    "f.close()\n",
    "'''"
   ]
  },
  {
   "cell_type": "markdown",
   "metadata": {},
   "source": [
    "We now print the words for each of the given topics. It must be noted, that even though considerable emphasis has been placed on the construction of the regular expressions, 'junk-text' may be present."
   ]
  },
  {
   "cell_type": "code",
   "execution_count": 78,
   "metadata": {
    "scrolled": true
   },
   "outputs": [
    {
     "data": {
      "text/html": [
       "<div>\n",
       "<style>\n",
       "    .dataframe thead tr:only-child th {\n",
       "        text-align: right;\n",
       "    }\n",
       "\n",
       "    .dataframe thead th {\n",
       "        text-align: left;\n",
       "    }\n",
       "\n",
       "    .dataframe tbody tr th {\n",
       "        vertical-align: top;\n",
       "    }\n",
       "</style>\n",
       "<table border=\"1\" class=\"dataframe\">\n",
       "  <thead>\n",
       "    <tr style=\"text-align: right;\">\n",
       "      <th></th>\n",
       "      <th>Word1</th>\n",
       "      <th>Word2</th>\n",
       "      <th>Word3</th>\n",
       "      <th>Word4</th>\n",
       "      <th>Word5</th>\n",
       "      <th>Word6</th>\n",
       "      <th>Word7</th>\n",
       "    </tr>\n",
       "  </thead>\n",
       "  <tbody>\n",
       "    <tr>\n",
       "      <th>Topic1</th>\n",
       "      <td>\"deal\"</td>\n",
       "      <td>\"let\"</td>\n",
       "      <td>\"need\"</td>\n",
       "      <td>\"best\"</td>\n",
       "      <td>\"jeff\"</td>\n",
       "      <td>\"question\"</td>\n",
       "      <td>\"make\"</td>\n",
       "    </tr>\n",
       "    <tr>\n",
       "      <th>Topic2</th>\n",
       "      <td>\"deal\"</td>\n",
       "      <td>\"contract\"</td>\n",
       "      <td>\"price\"</td>\n",
       "      <td>\"gas\"</td>\n",
       "      <td>\"day\"</td>\n",
       "      <td>\"term\"</td>\n",
       "      <td>\"volume\"</td>\n",
       "    </tr>\n",
       "    <tr>\n",
       "      <th>Topic3</th>\n",
       "      <td>\"going\"</td>\n",
       "      <td>\"good\"</td>\n",
       "      <td>\"day\"</td>\n",
       "      <td>\"way\"</td>\n",
       "      <td>\"work\"</td>\n",
       "      <td>\"weekend\"</td>\n",
       "      <td>\"let\"</td>\n",
       "    </tr>\n",
       "    <tr>\n",
       "      <th>Topic4</th>\n",
       "      <td>\"power\"</td>\n",
       "      <td>\"california\"</td>\n",
       "      <td>\"state\"</td>\n",
       "      <td>\"energy\"</td>\n",
       "      <td>\"utility\"</td>\n",
       "      <td>\"market\"</td>\n",
       "      <td>\"company\"</td>\n",
       "    </tr>\n",
       "    <tr>\n",
       "      <th>Topic5</th>\n",
       "      <td>\"company\"</td>\n",
       "      <td>\"trading\"</td>\n",
       "      <td>\"product\"</td>\n",
       "      <td>\"new\"</td>\n",
       "      <td>\"service\"</td>\n",
       "      <td>\"enron\"</td>\n",
       "      <td>\"trade\"</td>\n",
       "    </tr>\n",
       "    <tr>\n",
       "      <th>Topic6</th>\n",
       "      <td>\"enron\"</td>\n",
       "      <td>\"agreement\"</td>\n",
       "      <td>\"713\"</td>\n",
       "      <td>\"attached\"</td>\n",
       "      <td>\"corp\"</td>\n",
       "      <td>\"north\"</td>\n",
       "      <td>\"america\"</td>\n",
       "    </tr>\n",
       "    <tr>\n",
       "      <th>Topic7</th>\n",
       "      <td>\"gerald\"</td>\n",
       "      <td>\"game\"</td>\n",
       "      <td>\"carol\"</td>\n",
       "      <td>\"year\"</td>\n",
       "      <td>\"zone\"</td>\n",
       "      <td>\"play\"</td>\n",
       "      <td>\"texas\"</td>\n",
       "    </tr>\n",
       "    <tr>\n",
       "      <th>Topic8</th>\n",
       "      <td>\"message\"</td>\n",
       "      <td>\"mail\"</td>\n",
       "      <td>\"information\"</td>\n",
       "      <td>\"intended\"</td>\n",
       "      <td>\"received\"</td>\n",
       "      <td>\"email\"</td>\n",
       "      <td>\"copy\"</td>\n",
       "    </tr>\n",
       "    <tr>\n",
       "      <th>Topic9</th>\n",
       "      <td>\"fuel\"</td>\n",
       "      <td>\"western\"</td>\n",
       "      <td>\"creek\"</td>\n",
       "      <td>\"joseph\"</td>\n",
       "      <td>\"tax\"</td>\n",
       "      <td>\"county\"</td>\n",
       "      <td>\"703\"</td>\n",
       "    </tr>\n",
       "    <tr>\n",
       "      <th>Topic10</th>\n",
       "      <td>\"meeting\"</td>\n",
       "      <td>\"let\"</td>\n",
       "      <td>\"enron\"</td>\n",
       "      <td>\"number\"</td>\n",
       "      <td>\"conference\"</td>\n",
       "      <td>\"day\"</td>\n",
       "      <td>\"friday\"</td>\n",
       "    </tr>\n",
       "  </tbody>\n",
       "</table>\n",
       "</div>"
      ],
      "text/plain": [
       "             Word1         Word2          Word3       Word4         Word5  \\\n",
       "Topic1      \"deal\"         \"let\"         \"need\"      \"best\"        \"jeff\"   \n",
       "Topic2      \"deal\"    \"contract\"        \"price\"       \"gas\"         \"day\"   \n",
       "Topic3     \"going\"        \"good\"          \"day\"       \"way\"        \"work\"   \n",
       "Topic4     \"power\"  \"california\"        \"state\"    \"energy\"     \"utility\"   \n",
       "Topic5   \"company\"     \"trading\"      \"product\"       \"new\"     \"service\"   \n",
       "Topic6     \"enron\"   \"agreement\"          \"713\"  \"attached\"        \"corp\"   \n",
       "Topic7    \"gerald\"        \"game\"        \"carol\"      \"year\"        \"zone\"   \n",
       "Topic8   \"message\"        \"mail\"  \"information\"  \"intended\"    \"received\"   \n",
       "Topic9      \"fuel\"     \"western\"        \"creek\"    \"joseph\"         \"tax\"   \n",
       "Topic10  \"meeting\"         \"let\"        \"enron\"    \"number\"  \"conference\"   \n",
       "\n",
       "              Word6      Word7  \n",
       "Topic1   \"question\"     \"make\"  \n",
       "Topic2       \"term\"   \"volume\"  \n",
       "Topic3    \"weekend\"      \"let\"  \n",
       "Topic4     \"market\"  \"company\"  \n",
       "Topic5      \"enron\"    \"trade\"  \n",
       "Topic6      \"north\"  \"america\"  \n",
       "Topic7       \"play\"    \"texas\"  \n",
       "Topic8      \"email\"     \"copy\"  \n",
       "Topic9     \"county\"      \"703\"  \n",
       "Topic10       \"day\"   \"friday\"  "
      ]
     },
     "execution_count": 78,
     "metadata": {},
     "output_type": "execute_result"
    }
   ],
   "source": [
    "num_words = 7\n",
    "topic_list = ldamodel.print_topics(num_topics, num_words)\n",
    "\n",
    "def get_word_topics(topic_num, topic_list):\n",
    "    word_list = re.sub(r'(.\\....\\*)|(\\+ .\\....\\*)', '', topic_list[topic_num][1])\n",
    "    words = [word for word in word_list.split()]\n",
    "    return(words)\n",
    "    \n",
    "Topic_words =[]\n",
    "for i in range(0, num_topics):\n",
    "    words = get_word_topics(i, topic_list)    \n",
    "    Topic_words.append(words)\n",
    "\n",
    "idx = ['Topic'+str(i+1) for i in range(num_topics)]\n",
    "labels = ['Word'+str(i+1) for i in range(num_words)]\n",
    "Topics_df = pd.DataFrame.from_records(Topic_words, columns=labels, index=idx)\n",
    "Topics_df"
   ]
  },
  {
   "cell_type": "markdown",
   "metadata": {},
   "source": [
    "## Define Mentor's expertise on each topic"
   ]
  },
  {
   "cell_type": "code",
   "execution_count": 79,
   "metadata": {
    "collapsed": true
   },
   "outputs": [],
   "source": [
    "def text_likelihood_per_topic(texts, ldamodel, num_topics):\n",
    "\n",
    "    score = np.zeros(num_topics)\n",
    "    \n",
    "    for text in texts:\n",
    "        #ldamodel output : [(id1, score1), (id2, score2),... if id != 0]\n",
    "        for topic_id, topic_lik in ldamodel[dictionary.doc2bow(text)]:\n",
    "            # returns each topic and the likelihood that the query relates to that topic. \n",
    "            # Gensim defaults to only showing the top ones that meet a certain threshold (>= 0.01)\n",
    "            score[topic_id] += topic_lik\n",
    "   \n",
    "    # score is the sum of likelihood on each topic\n",
    "    # we normalize the score\n",
    "    norm_score = score/np.sum(score)\n",
    "    \n",
    "    return norm_score \n"
   ]
  },
  {
   "cell_type": "code",
   "execution_count": 80,
   "metadata": {},
   "outputs": [
    {
     "data": {
      "text/html": [
       "<div>\n",
       "<style>\n",
       "    .dataframe thead tr:only-child th {\n",
       "        text-align: right;\n",
       "    }\n",
       "\n",
       "    .dataframe thead th {\n",
       "        text-align: left;\n",
       "    }\n",
       "\n",
       "    .dataframe tbody tr th {\n",
       "        vertical-align: top;\n",
       "    }\n",
       "</style>\n",
       "<table border=\"1\" class=\"dataframe\">\n",
       "  <thead>\n",
       "    <tr style=\"text-align: right;\">\n",
       "      <th></th>\n",
       "      <th>Topic1</th>\n",
       "      <th>Topic2</th>\n",
       "      <th>Topic3</th>\n",
       "      <th>Topic4</th>\n",
       "      <th>Topic5</th>\n",
       "      <th>Topic6</th>\n",
       "      <th>Topic7</th>\n",
       "      <th>Topic8</th>\n",
       "      <th>Topic9</th>\n",
       "      <th>Topic10</th>\n",
       "    </tr>\n",
       "  </thead>\n",
       "  <tbody>\n",
       "    <tr>\n",
       "      <th>bass-e</th>\n",
       "      <td>0.095345</td>\n",
       "      <td>0.064725</td>\n",
       "      <td>0.308883</td>\n",
       "      <td>0.040211</td>\n",
       "      <td>0.085514</td>\n",
       "      <td>0.080674</td>\n",
       "      <td>0.146609</td>\n",
       "      <td>0.034866</td>\n",
       "      <td>0.031689</td>\n",
       "      <td>0.111484</td>\n",
       "    </tr>\n",
       "    <tr>\n",
       "      <th>mann-k</th>\n",
       "      <td>0.142800</td>\n",
       "      <td>0.098015</td>\n",
       "      <td>0.156890</td>\n",
       "      <td>0.047988</td>\n",
       "      <td>0.023971</td>\n",
       "      <td>0.283317</td>\n",
       "      <td>0.029010</td>\n",
       "      <td>0.098738</td>\n",
       "      <td>0.023282</td>\n",
       "      <td>0.095989</td>\n",
       "    </tr>\n",
       "    <tr>\n",
       "      <th>kaminski-v</th>\n",
       "      <td>0.167776</td>\n",
       "      <td>0.046964</td>\n",
       "      <td>0.130706</td>\n",
       "      <td>0.117421</td>\n",
       "      <td>0.200275</td>\n",
       "      <td>0.059017</td>\n",
       "      <td>0.036802</td>\n",
       "      <td>0.032498</td>\n",
       "      <td>0.034186</td>\n",
       "      <td>0.174357</td>\n",
       "    </tr>\n",
       "    <tr>\n",
       "      <th>stclair-c</th>\n",
       "      <td>0.142706</td>\n",
       "      <td>0.093688</td>\n",
       "      <td>0.074360</td>\n",
       "      <td>0.027213</td>\n",
       "      <td>0.033400</td>\n",
       "      <td>0.371706</td>\n",
       "      <td>0.101453</td>\n",
       "      <td>0.040489</td>\n",
       "      <td>0.012466</td>\n",
       "      <td>0.102518</td>\n",
       "    </tr>\n",
       "    <tr>\n",
       "      <th>sanders-r</th>\n",
       "      <td>0.177548</td>\n",
       "      <td>0.099036</td>\n",
       "      <td>0.102917</td>\n",
       "      <td>0.100529</td>\n",
       "      <td>0.037453</td>\n",
       "      <td>0.139803</td>\n",
       "      <td>0.033523</td>\n",
       "      <td>0.155081</td>\n",
       "      <td>0.029515</td>\n",
       "      <td>0.124594</td>\n",
       "    </tr>\n",
       "    <tr>\n",
       "      <th>taylor-m</th>\n",
       "      <td>0.140849</td>\n",
       "      <td>0.103174</td>\n",
       "      <td>0.125928</td>\n",
       "      <td>0.064563</td>\n",
       "      <td>0.107451</td>\n",
       "      <td>0.221360</td>\n",
       "      <td>0.033245</td>\n",
       "      <td>0.051309</td>\n",
       "      <td>0.020109</td>\n",
       "      <td>0.132012</td>\n",
       "    </tr>\n",
       "    <tr>\n",
       "      <th>kean-s</th>\n",
       "      <td>0.246787</td>\n",
       "      <td>0.069360</td>\n",
       "      <td>0.072410</td>\n",
       "      <td>0.252043</td>\n",
       "      <td>0.085578</td>\n",
       "      <td>0.064312</td>\n",
       "      <td>0.030066</td>\n",
       "      <td>0.033555</td>\n",
       "      <td>0.023753</td>\n",
       "      <td>0.122136</td>\n",
       "    </tr>\n",
       "    <tr>\n",
       "      <th>shackleton-s</th>\n",
       "      <td>0.104267</td>\n",
       "      <td>0.075104</td>\n",
       "      <td>0.049155</td>\n",
       "      <td>0.034126</td>\n",
       "      <td>0.060366</td>\n",
       "      <td>0.483542</td>\n",
       "      <td>0.021166</td>\n",
       "      <td>0.051124</td>\n",
       "      <td>0.013388</td>\n",
       "      <td>0.107763</td>\n",
       "    </tr>\n",
       "    <tr>\n",
       "      <th>jones-t</th>\n",
       "      <td>0.092478</td>\n",
       "      <td>0.068299</td>\n",
       "      <td>0.083888</td>\n",
       "      <td>0.040327</td>\n",
       "      <td>0.095322</td>\n",
       "      <td>0.470206</td>\n",
       "      <td>0.029394</td>\n",
       "      <td>0.025923</td>\n",
       "      <td>0.018110</td>\n",
       "      <td>0.076052</td>\n",
       "    </tr>\n",
       "    <tr>\n",
       "      <th>perlingiere-d</th>\n",
       "      <td>0.016925</td>\n",
       "      <td>0.030546</td>\n",
       "      <td>0.037169</td>\n",
       "      <td>0.014430</td>\n",
       "      <td>0.011999</td>\n",
       "      <td>0.830749</td>\n",
       "      <td>0.009463</td>\n",
       "      <td>0.009762</td>\n",
       "      <td>0.008185</td>\n",
       "      <td>0.030772</td>\n",
       "    </tr>\n",
       "    <tr>\n",
       "      <th>dasovich-j</th>\n",
       "      <td>0.262703</td>\n",
       "      <td>0.065234</td>\n",
       "      <td>0.173662</td>\n",
       "      <td>0.228444</td>\n",
       "      <td>0.035745</td>\n",
       "      <td>0.033077</td>\n",
       "      <td>0.044220</td>\n",
       "      <td>0.040506</td>\n",
       "      <td>0.027323</td>\n",
       "      <td>0.089086</td>\n",
       "    </tr>\n",
       "    <tr>\n",
       "      <th>germany-c</th>\n",
       "      <td>0.113289</td>\n",
       "      <td>0.309671</td>\n",
       "      <td>0.165049</td>\n",
       "      <td>0.046620</td>\n",
       "      <td>0.058071</td>\n",
       "      <td>0.048221</td>\n",
       "      <td>0.062784</td>\n",
       "      <td>0.024362</td>\n",
       "      <td>0.059086</td>\n",
       "      <td>0.112848</td>\n",
       "    </tr>\n",
       "    <tr>\n",
       "      <th>nemec-g</th>\n",
       "      <td>0.115644</td>\n",
       "      <td>0.101376</td>\n",
       "      <td>0.157669</td>\n",
       "      <td>0.039671</td>\n",
       "      <td>0.038610</td>\n",
       "      <td>0.368312</td>\n",
       "      <td>0.064622</td>\n",
       "      <td>0.035160</td>\n",
       "      <td>0.026403</td>\n",
       "      <td>0.052532</td>\n",
       "    </tr>\n",
       "    <tr>\n",
       "      <th>lenhart-m</th>\n",
       "      <td>0.073344</td>\n",
       "      <td>0.043083</td>\n",
       "      <td>0.462543</td>\n",
       "      <td>0.042766</td>\n",
       "      <td>0.047035</td>\n",
       "      <td>0.040730</td>\n",
       "      <td>0.141025</td>\n",
       "      <td>0.044456</td>\n",
       "      <td>0.035697</td>\n",
       "      <td>0.069321</td>\n",
       "    </tr>\n",
       "    <tr>\n",
       "      <th>symes-k</th>\n",
       "      <td>0.310944</td>\n",
       "      <td>0.217947</td>\n",
       "      <td>0.118948</td>\n",
       "      <td>0.046201</td>\n",
       "      <td>0.051191</td>\n",
       "      <td>0.078371</td>\n",
       "      <td>0.032429</td>\n",
       "      <td>0.024222</td>\n",
       "      <td>0.015012</td>\n",
       "      <td>0.104736</td>\n",
       "    </tr>\n",
       "  </tbody>\n",
       "</table>\n",
       "</div>"
      ],
      "text/plain": [
       "                 Topic1    Topic2    Topic3    Topic4    Topic5    Topic6  \\\n",
       "bass-e         0.095345  0.064725  0.308883  0.040211  0.085514  0.080674   \n",
       "mann-k         0.142800  0.098015  0.156890  0.047988  0.023971  0.283317   \n",
       "kaminski-v     0.167776  0.046964  0.130706  0.117421  0.200275  0.059017   \n",
       "stclair-c      0.142706  0.093688  0.074360  0.027213  0.033400  0.371706   \n",
       "sanders-r      0.177548  0.099036  0.102917  0.100529  0.037453  0.139803   \n",
       "taylor-m       0.140849  0.103174  0.125928  0.064563  0.107451  0.221360   \n",
       "kean-s         0.246787  0.069360  0.072410  0.252043  0.085578  0.064312   \n",
       "shackleton-s   0.104267  0.075104  0.049155  0.034126  0.060366  0.483542   \n",
       "jones-t        0.092478  0.068299  0.083888  0.040327  0.095322  0.470206   \n",
       "perlingiere-d  0.016925  0.030546  0.037169  0.014430  0.011999  0.830749   \n",
       "dasovich-j     0.262703  0.065234  0.173662  0.228444  0.035745  0.033077   \n",
       "germany-c      0.113289  0.309671  0.165049  0.046620  0.058071  0.048221   \n",
       "nemec-g        0.115644  0.101376  0.157669  0.039671  0.038610  0.368312   \n",
       "lenhart-m      0.073344  0.043083  0.462543  0.042766  0.047035  0.040730   \n",
       "symes-k        0.310944  0.217947  0.118948  0.046201  0.051191  0.078371   \n",
       "\n",
       "                 Topic7    Topic8    Topic9   Topic10  \n",
       "bass-e         0.146609  0.034866  0.031689  0.111484  \n",
       "mann-k         0.029010  0.098738  0.023282  0.095989  \n",
       "kaminski-v     0.036802  0.032498  0.034186  0.174357  \n",
       "stclair-c      0.101453  0.040489  0.012466  0.102518  \n",
       "sanders-r      0.033523  0.155081  0.029515  0.124594  \n",
       "taylor-m       0.033245  0.051309  0.020109  0.132012  \n",
       "kean-s         0.030066  0.033555  0.023753  0.122136  \n",
       "shackleton-s   0.021166  0.051124  0.013388  0.107763  \n",
       "jones-t        0.029394  0.025923  0.018110  0.076052  \n",
       "perlingiere-d  0.009463  0.009762  0.008185  0.030772  \n",
       "dasovich-j     0.044220  0.040506  0.027323  0.089086  \n",
       "germany-c      0.062784  0.024362  0.059086  0.112848  \n",
       "nemec-g        0.064622  0.035160  0.026403  0.052532  \n",
       "lenhart-m      0.141025  0.044456  0.035697  0.069321  \n",
       "symes-k        0.032429  0.024222  0.015012  0.104736  "
      ]
     },
     "execution_count": 80,
     "metadata": {},
     "output_type": "execute_result"
    }
   ],
   "source": [
    "user_expertise = np.zeros((num_users, num_topics))\n",
    "for i in range(num_users):\n",
    "    user = users[i]\n",
    "    token_list = user_token_dict[user]\n",
    "    user_score = text_likelihood_per_topic(token_list, ldamodel, num_topics)\n",
    "    user_expertise[i,:] = user_score\n",
    "\n",
    "user_expertise\n",
    "\n",
    "cols = ['Topic'+str(i+1) for i in range(num_topics)]\n",
    "expertise_df = pd.DataFrame.from_records(user_expertise, columns=cols, index=users)\n",
    "expertise_df"
   ]
  },
  {
   "cell_type": "code",
   "execution_count": 81,
   "metadata": {},
   "outputs": [
    {
     "data": {
      "text/plain": [
       "array([ 1.,  1.,  1.,  1.,  1.,  1.,  1.,  1.,  1.,  1.,  1.,  1.,  1.,\n",
       "        1.,  1.])"
      ]
     },
     "execution_count": 81,
     "metadata": {},
     "output_type": "execute_result"
    }
   ],
   "source": [
    "# check that row sum is zero for each user\n",
    "np.sum(user_expertise, axis=1)"
   ]
  },
  {
   "cell_type": "code",
   "execution_count": 82,
   "metadata": {},
   "outputs": [
    {
     "data": {
      "text/plain": [
       "0.10000000000000001"
      ]
     },
     "execution_count": 82,
     "metadata": {},
     "output_type": "execute_result"
    }
   ],
   "source": [
    "#average user_expertise\n",
    "np.mean(user_expertise)"
   ]
  },
  {
   "cell_type": "code",
   "execution_count": 83,
   "metadata": {},
   "outputs": [
    {
     "data": {
      "text/plain": [
       "Topic1     0.146894\n",
       "Topic2     0.099081\n",
       "Topic3     0.148012\n",
       "Topic4     0.076170\n",
       "Topic5     0.064799\n",
       "Topic6     0.238226\n",
       "Topic7     0.054387\n",
       "Topic8     0.046803\n",
       "Topic9     0.025214\n",
       "Topic10    0.100413\n",
       "dtype: float64"
      ]
     },
     "execution_count": 83,
     "metadata": {},
     "output_type": "execute_result"
    }
   ],
   "source": [
    "avg_expertise_per_topic = expertise_df.mean(axis=0)\n",
    "avg_expertise_per_topic"
   ]
  },
  {
   "cell_type": "markdown",
   "metadata": {},
   "source": [
    "## Mentor-Mentee matching"
   ]
  },
  {
   "cell_type": "markdown",
   "metadata": {
    "collapsed": true
   },
   "source": [
    "We now have a method to see which topics are prevalent for a given user (Mentor).\n",
    "Let's simulate the topic preference of a new employee (Mentee)."
   ]
  },
  {
   "cell_type": "code",
   "execution_count": 84,
   "metadata": {},
   "outputs": [
    {
     "data": {
      "text/plain": [
       "array([[ 0.11901012,  0.1057691 ,  0.13062597,  0.01209501,  0.09333203,\n",
       "         0.0761486 ,  0.08891645,  0.13010045,  0.14526844,  0.09873383]])"
      ]
     },
     "execution_count": 84,
     "metadata": {},
     "output_type": "execute_result"
    }
   ],
   "source": [
    "r = np.random.rand(1,num_topics) # vector of random number between 0 and 1\n",
    "#normalize to have sum = 1 (like a probability)\n",
    "nr = r/np.sum(r)\n",
    "mentee_pref = nr\n",
    "mentee_pref"
   ]
  },
  {
   "cell_type": "markdown",
   "metadata": {},
   "source": [
    "Let's assume that the mentee has access to the topics and provides his/her preference on each topic.\n",
    "We can reccomend an expert (Mentors) based on the mentee's preference using a distance measure (e.g. minimizing Euclidea distance). For the sake of semplicity we will compute similarity using the Euclidea distance. Alternativelly, one could use Minkowski distance, Pearson correlation, Cosine similarity, L2 Norm... "
   ]
  },
  {
   "cell_type": "code",
   "execution_count": 85,
   "metadata": {},
   "outputs": [
    {
     "data": {
      "text/plain": [
       "['sanders-r']"
      ]
     },
     "execution_count": 85,
     "metadata": {},
     "output_type": "execute_result"
    }
   ],
   "source": [
    "def dist(X, y):   \n",
    "    return np.sqrt(np.sum((X-y)**2, axis=1))\n",
    "\n",
    "d = dist(user_expertise, mentee_pref)\n",
    "\n",
    "expert_match = list(np.array(users)[d == min(d)])\n",
    "expert_match"
   ]
  },
  {
   "cell_type": "markdown",
   "metadata": {},
   "source": [
    "Let's assume instead the mentee selects the words he/she is interested in based on the words appearing among all topics"
   ]
  },
  {
   "cell_type": "code",
   "execution_count": 86,
   "metadata": {},
   "outputs": [
    {
     "data": {
      "text/plain": [
       "['county', 'message', 'attached', 'need', 'enron', 'good', 'best']"
      ]
     },
     "execution_count": 86,
     "metadata": {},
     "output_type": "execute_result"
    }
   ],
   "source": [
    "# let's take some words randomly across different topics\n",
    "flat_list = [word for sublist in Topic_words for word in sublist]\n",
    "flat_list = [x.replace('\"', '') for x in flat_list]\n",
    "words_sample = [flat_list[i] for i in random.sample(range(len(flat_list)), num_words)]\n",
    "words_sample"
   ]
  },
  {
   "cell_type": "code",
   "execution_count": 87,
   "metadata": {},
   "outputs": [
    {
     "data": {
      "text/html": [
       "<div>\n",
       "<style>\n",
       "    .dataframe thead tr:only-child th {\n",
       "        text-align: right;\n",
       "    }\n",
       "\n",
       "    .dataframe thead th {\n",
       "        text-align: left;\n",
       "    }\n",
       "\n",
       "    .dataframe tbody tr th {\n",
       "        vertical-align: top;\n",
       "    }\n",
       "</style>\n",
       "<table border=\"1\" class=\"dataframe\">\n",
       "  <thead>\n",
       "    <tr style=\"text-align: right;\">\n",
       "      <th></th>\n",
       "      <th>Word1</th>\n",
       "      <th>Word2</th>\n",
       "      <th>Word3</th>\n",
       "      <th>Word4</th>\n",
       "      <th>Word5</th>\n",
       "      <th>Word6</th>\n",
       "      <th>Word7</th>\n",
       "    </tr>\n",
       "  </thead>\n",
       "  <tbody>\n",
       "    <tr>\n",
       "      <th>Topic1</th>\n",
       "      <td>0.0</td>\n",
       "      <td>0.00000</td>\n",
       "      <td>0.000000</td>\n",
       "      <td>0.016153</td>\n",
       "      <td>0.000000</td>\n",
       "      <td>0.000000</td>\n",
       "      <td>0.011833</td>\n",
       "    </tr>\n",
       "    <tr>\n",
       "      <th>Topic2</th>\n",
       "      <td>0.0</td>\n",
       "      <td>0.00000</td>\n",
       "      <td>0.000000</td>\n",
       "      <td>0.000000</td>\n",
       "      <td>0.000000</td>\n",
       "      <td>0.000000</td>\n",
       "      <td>0.000000</td>\n",
       "    </tr>\n",
       "    <tr>\n",
       "      <th>Topic3</th>\n",
       "      <td>0.0</td>\n",
       "      <td>0.00000</td>\n",
       "      <td>0.000000</td>\n",
       "      <td>0.000000</td>\n",
       "      <td>0.000000</td>\n",
       "      <td>0.011962</td>\n",
       "      <td>0.000000</td>\n",
       "    </tr>\n",
       "    <tr>\n",
       "      <th>Topic4</th>\n",
       "      <td>0.0</td>\n",
       "      <td>0.00000</td>\n",
       "      <td>0.000000</td>\n",
       "      <td>0.000000</td>\n",
       "      <td>0.000000</td>\n",
       "      <td>0.000000</td>\n",
       "      <td>0.000000</td>\n",
       "    </tr>\n",
       "    <tr>\n",
       "      <th>Topic5</th>\n",
       "      <td>0.0</td>\n",
       "      <td>0.00000</td>\n",
       "      <td>0.000000</td>\n",
       "      <td>0.000000</td>\n",
       "      <td>0.000000</td>\n",
       "      <td>0.000000</td>\n",
       "      <td>0.000000</td>\n",
       "    </tr>\n",
       "    <tr>\n",
       "      <th>Topic6</th>\n",
       "      <td>0.0</td>\n",
       "      <td>0.00000</td>\n",
       "      <td>0.018943</td>\n",
       "      <td>0.000000</td>\n",
       "      <td>0.028397</td>\n",
       "      <td>0.000000</td>\n",
       "      <td>0.000000</td>\n",
       "    </tr>\n",
       "    <tr>\n",
       "      <th>Topic7</th>\n",
       "      <td>0.0</td>\n",
       "      <td>0.00000</td>\n",
       "      <td>0.000000</td>\n",
       "      <td>0.000000</td>\n",
       "      <td>0.000000</td>\n",
       "      <td>0.000000</td>\n",
       "      <td>0.000000</td>\n",
       "    </tr>\n",
       "    <tr>\n",
       "      <th>Topic8</th>\n",
       "      <td>0.0</td>\n",
       "      <td>0.03307</td>\n",
       "      <td>0.000000</td>\n",
       "      <td>0.000000</td>\n",
       "      <td>0.000000</td>\n",
       "      <td>0.000000</td>\n",
       "      <td>0.000000</td>\n",
       "    </tr>\n",
       "    <tr>\n",
       "      <th>Topic9</th>\n",
       "      <td>0.0</td>\n",
       "      <td>0.00000</td>\n",
       "      <td>0.000000</td>\n",
       "      <td>0.000000</td>\n",
       "      <td>0.000000</td>\n",
       "      <td>0.000000</td>\n",
       "      <td>0.000000</td>\n",
       "    </tr>\n",
       "    <tr>\n",
       "      <th>Topic10</th>\n",
       "      <td>0.0</td>\n",
       "      <td>0.00000</td>\n",
       "      <td>0.000000</td>\n",
       "      <td>0.000000</td>\n",
       "      <td>0.011225</td>\n",
       "      <td>0.000000</td>\n",
       "      <td>0.000000</td>\n",
       "    </tr>\n",
       "  </tbody>\n",
       "</table>\n",
       "</div>"
      ],
      "text/plain": [
       "         Word1    Word2     Word3     Word4     Word5     Word6     Word7\n",
       "Topic1     0.0  0.00000  0.000000  0.016153  0.000000  0.000000  0.011833\n",
       "Topic2     0.0  0.00000  0.000000  0.000000  0.000000  0.000000  0.000000\n",
       "Topic3     0.0  0.00000  0.000000  0.000000  0.000000  0.011962  0.000000\n",
       "Topic4     0.0  0.00000  0.000000  0.000000  0.000000  0.000000  0.000000\n",
       "Topic5     0.0  0.00000  0.000000  0.000000  0.000000  0.000000  0.000000\n",
       "Topic6     0.0  0.00000  0.018943  0.000000  0.028397  0.000000  0.000000\n",
       "Topic7     0.0  0.00000  0.000000  0.000000  0.000000  0.000000  0.000000\n",
       "Topic8     0.0  0.03307  0.000000  0.000000  0.000000  0.000000  0.000000\n",
       "Topic9     0.0  0.00000  0.000000  0.000000  0.000000  0.000000  0.000000\n",
       "Topic10    0.0  0.00000  0.000000  0.000000  0.011225  0.000000  0.000000"
      ]
     },
     "execution_count": 87,
     "metadata": {},
     "output_type": "execute_result"
    }
   ],
   "source": [
    "#let's compute the relevance of each word for all topics\n",
    "\n",
    "def word_likelihood_per_topic(word, ldamodel, num_topics):\n",
    "    \n",
    "    word_likelihood = np.zeros(num_topics)\n",
    "    term_topics = ldamodel.get_term_topics(word) #Returns most likely topics for a particular word\n",
    "    if term_topics:\n",
    "        for topic_tuple in term_topics:\n",
    "            topic_id = topic_tuple[0]\n",
    "            topic_lik = topic_tuple[1] #likelihood\n",
    "            word_likelihood[topic_id] = topic_lik\n",
    "    \n",
    "    return(word_likelihood)\n",
    "\n",
    "\n",
    "word_likelihoods = np.zeros((num_topics, num_words))\n",
    "for j in range(num_words):\n",
    "    w = word_likelihood_per_topic(words_sample[j], ldamodel, num_topics)\n",
    "    word_likelihoods[:,j] = w\n",
    "    \n",
    "\n",
    "idx = ['Topic'+str(i+1) for i in range(num_topics)]\n",
    "labels = ['Word'+str(i+1) for i in range(num_words)]\n",
    "word_like_df = pd.DataFrame.from_records(word_likelihoods, columns=labels, index=idx)\n",
    "word_like_df"
   ]
  },
  {
   "cell_type": "markdown",
   "metadata": {},
   "source": [
    "We use a technique from content-based reccomendaiton systems: recommend item based on a similarity comparison between the content (words) of the items (Topic) and a user’s profile (Mentor's expertise).\n",
    "We match the mentor by computing the dot product between then word-topic likelihood and the user-topic likelihood. \n",
    "The user corrisponding to the largest values is the one with is more likely to have more knolodge about the words queried."
   ]
  },
  {
   "cell_type": "code",
   "execution_count": 88,
   "metadata": {},
   "outputs": [
    {
     "data": {
      "text/plain": [
       "['bass-e', 'lenhart-m']"
      ]
     },
     "execution_count": 88,
     "metadata": {},
     "output_type": "execute_result"
    }
   ],
   "source": [
    "W = np.dot(user_expertise, word_likelihoods)\n",
    "usermax = np.argmax(W, axis=1)\n",
    "\n",
    "match_prob = usermax/np.sum(usermax)\n",
    "list(np.array(users)[match_prob == max(match_prob)])"
   ]
  },
  {
   "cell_type": "markdown",
   "metadata": {},
   "source": [
    "# Performance evalutation\n",
    "\n",
    "Let's assume that we want to have a 1-1 Match, i.e. only one Mentor per Mentee.\n",
    "In a random match each Mentor has equal probability to be selected.\n",
    "The best match is achieved when one Mentor has probability to be selected equal to one and the others zero.\n",
    "The worst match occurs when all Mentors have zero probability to be selected as the expert."
   ]
  },
  {
   "cell_type": "code",
   "execution_count": 105,
   "metadata": {},
   "outputs": [
    {
     "name": "stdout",
     "output_type": "stream",
     "text": [
      "uniform accuracy 0.0 random accuracy 0.308641975309 worst accuracy 0.0 best accuracy 1.0  our accuracy 0.0508474576271\n"
     ]
    }
   ],
   "source": [
    "#uniform matching (all mentors have the same preference)\n",
    "unif_match = np.ones(num_topics)/num_topics\n",
    "#random matching\n",
    "rdm_match = np.array(random.sample(range(num_topics), num_topics))\n",
    "rdm_match = rdm_match/np.sum(rdm_match)\n",
    "#best matching \n",
    "worst_match = np.zeros(num_topics)\n",
    "#best matching \n",
    "best_match = np.zeros(num_topics)\n",
    "best_match[random.sample(range(num_topics), 1)] = 1\n",
    "\n",
    "\n",
    "# consider using Kurtosis\n",
    "\n",
    "def acc(x):\n",
    "    N = len(x)\n",
    "    maxScore = 1/N * (N-1) + (1-1/N)\n",
    "    score = np.sum(np.abs(x - np.mean(x)))\n",
    "    return score/maxScore \n",
    "    \n",
    "print(\"uniform accuracy\", acc(unif_match), \"random accuracy\", acc(rdm_match), \"worst accuracy\", acc(worst_match), \n",
    "      \"best accuracy\", acc(best_match), \" our accuracy\", acc(match_prob))"
   ]
  },
  {
   "cell_type": "code",
   "execution_count": 108,
   "metadata": {},
   "outputs": [
    {
     "name": "stdout",
     "output_type": "stream",
     "text": [
      "uniform accuracy 0.0 random accuracy 13.8888888889 worst accuracy -3.0 best accuracy 5.111111111111111  our accuracy -0.0010956902848788808\n"
     ]
    }
   ],
   "source": [
    "def acc2(x):\n",
    "    score = np.max(x) \n",
    "    return score\n",
    "\n",
    "print(\"uniform accuracy\", acc(unif_match), \"random accuracy\", acc(rdm_match), \"worst accuracy\", acc2(worst_match), \n",
    "      \"best accuracy\", acc2(best_match), \" our accuracy\", acc2(match_prob))"
   ]
  },
  {
   "cell_type": "markdown",
   "metadata": {},
   "source": [
    "# Extra\n",
    "Can we predict the Mentor's expertise on a single topic? Maybe, to test this hyphotesis we should use the target topic as independent variable, the remaining topics as feature and solve a regression problem. Given the relatively small number of email users I think the accuracy of such model should be rather low."
   ]
  },
  {
   "cell_type": "markdown",
   "metadata": {},
   "source": [
    "# Check K-means and PCA projection"
   ]
  },
  {
   "cell_type": "code",
   "execution_count": 66,
   "metadata": {},
   "outputs": [
    {
     "ename": "AttributeError",
     "evalue": "'list' object has no attribute 'lower'",
     "output_type": "error",
     "traceback": [
      "\u001b[0;31m---------------------------------------------------------------------------\u001b[0m",
      "\u001b[0;31mAttributeError\u001b[0m                            Traceback (most recent call last)",
      "\u001b[0;32m<ipython-input-66-35839563b088>\u001b[0m in \u001b[0;36m<module>\u001b[0;34m()\u001b[0m\n\u001b[1;32m      5\u001b[0m \u001b[0;34m\u001b[0m\u001b[0m\n\u001b[1;32m      6\u001b[0m \u001b[0mwordvector\u001b[0m \u001b[0;34m=\u001b[0m \u001b[0mTfidfVectorizer\u001b[0m\u001b[0;34m(\u001b[0m\u001b[0manalyzer\u001b[0m\u001b[0;34m=\u001b[0m\u001b[0;34m'word'\u001b[0m\u001b[0;34m,\u001b[0m \u001b[0mstop_words\u001b[0m\u001b[0;34m=\u001b[0m\u001b[0;34m'english'\u001b[0m\u001b[0;34m,\u001b[0m \u001b[0mmax_df\u001b[0m\u001b[0;34m=\u001b[0m\u001b[0;36m0.4\u001b[0m\u001b[0;34m,\u001b[0m \u001b[0mmin_df\u001b[0m\u001b[0;34m=\u001b[0m\u001b[0;36m5\u001b[0m\u001b[0;34m)\u001b[0m\u001b[0;34m\u001b[0m\u001b[0m\n\u001b[0;32m----> 7\u001b[0;31m \u001b[0mwordvector_fit\u001b[0m \u001b[0;34m=\u001b[0m \u001b[0mwordvector\u001b[0m\u001b[0;34m.\u001b[0m\u001b[0mfit_transform\u001b[0m\u001b[0;34m(\u001b[0m\u001b[0mtext_sample\u001b[0m\u001b[0;34m)\u001b[0m\u001b[0;34m\u001b[0m\u001b[0m\n\u001b[0m\u001b[1;32m      8\u001b[0m \u001b[0mfeature\u001b[0m \u001b[0;34m=\u001b[0m \u001b[0mwordvector\u001b[0m\u001b[0;34m.\u001b[0m\u001b[0mget_feature_names\u001b[0m\u001b[0;34m(\u001b[0m\u001b[0;34m)\u001b[0m\u001b[0;34m\u001b[0m\u001b[0m\n",
      "\u001b[0;32m//anaconda/lib/python3.5/site-packages/sklearn/feature_extraction/text.py\u001b[0m in \u001b[0;36mfit_transform\u001b[0;34m(self, raw_documents, y)\u001b[0m\n\u001b[1;32m   1350\u001b[0m             \u001b[0mTf\u001b[0m\u001b[0;34m-\u001b[0m\u001b[0midf\u001b[0m\u001b[0;34m-\u001b[0m\u001b[0mweighted\u001b[0m \u001b[0mdocument\u001b[0m\u001b[0;34m-\u001b[0m\u001b[0mterm\u001b[0m \u001b[0mmatrix\u001b[0m\u001b[0;34m.\u001b[0m\u001b[0;34m\u001b[0m\u001b[0m\n\u001b[1;32m   1351\u001b[0m         \"\"\"\n\u001b[0;32m-> 1352\u001b[0;31m         \u001b[0mX\u001b[0m \u001b[0;34m=\u001b[0m \u001b[0msuper\u001b[0m\u001b[0;34m(\u001b[0m\u001b[0mTfidfVectorizer\u001b[0m\u001b[0;34m,\u001b[0m \u001b[0mself\u001b[0m\u001b[0;34m)\u001b[0m\u001b[0;34m.\u001b[0m\u001b[0mfit_transform\u001b[0m\u001b[0;34m(\u001b[0m\u001b[0mraw_documents\u001b[0m\u001b[0;34m)\u001b[0m\u001b[0;34m\u001b[0m\u001b[0m\n\u001b[0m\u001b[1;32m   1353\u001b[0m         \u001b[0mself\u001b[0m\u001b[0;34m.\u001b[0m\u001b[0m_tfidf\u001b[0m\u001b[0;34m.\u001b[0m\u001b[0mfit\u001b[0m\u001b[0;34m(\u001b[0m\u001b[0mX\u001b[0m\u001b[0;34m)\u001b[0m\u001b[0;34m\u001b[0m\u001b[0m\n\u001b[1;32m   1354\u001b[0m         \u001b[0;31m# X is already a transformed view of raw_documents so\u001b[0m\u001b[0;34m\u001b[0m\u001b[0;34m\u001b[0m\u001b[0m\n",
      "\u001b[0;32m//anaconda/lib/python3.5/site-packages/sklearn/feature_extraction/text.py\u001b[0m in \u001b[0;36mfit_transform\u001b[0;34m(self, raw_documents, y)\u001b[0m\n\u001b[1;32m    837\u001b[0m \u001b[0;34m\u001b[0m\u001b[0m\n\u001b[1;32m    838\u001b[0m         vocabulary, X = self._count_vocab(raw_documents,\n\u001b[0;32m--> 839\u001b[0;31m                                           self.fixed_vocabulary_)\n\u001b[0m\u001b[1;32m    840\u001b[0m \u001b[0;34m\u001b[0m\u001b[0m\n\u001b[1;32m    841\u001b[0m         \u001b[0;32mif\u001b[0m \u001b[0mself\u001b[0m\u001b[0;34m.\u001b[0m\u001b[0mbinary\u001b[0m\u001b[0;34m:\u001b[0m\u001b[0;34m\u001b[0m\u001b[0m\n",
      "\u001b[0;32m//anaconda/lib/python3.5/site-packages/sklearn/feature_extraction/text.py\u001b[0m in \u001b[0;36m_count_vocab\u001b[0;34m(self, raw_documents, fixed_vocab)\u001b[0m\n\u001b[1;32m    760\u001b[0m         \u001b[0;32mfor\u001b[0m \u001b[0mdoc\u001b[0m \u001b[0;32min\u001b[0m \u001b[0mraw_documents\u001b[0m\u001b[0;34m:\u001b[0m\u001b[0;34m\u001b[0m\u001b[0m\n\u001b[1;32m    761\u001b[0m             \u001b[0mfeature_counter\u001b[0m \u001b[0;34m=\u001b[0m \u001b[0;34m{\u001b[0m\u001b[0;34m}\u001b[0m\u001b[0;34m\u001b[0m\u001b[0m\n\u001b[0;32m--> 762\u001b[0;31m             \u001b[0;32mfor\u001b[0m \u001b[0mfeature\u001b[0m \u001b[0;32min\u001b[0m \u001b[0manalyze\u001b[0m\u001b[0;34m(\u001b[0m\u001b[0mdoc\u001b[0m\u001b[0;34m)\u001b[0m\u001b[0;34m:\u001b[0m\u001b[0;34m\u001b[0m\u001b[0m\n\u001b[0m\u001b[1;32m    763\u001b[0m                 \u001b[0;32mtry\u001b[0m\u001b[0;34m:\u001b[0m\u001b[0;34m\u001b[0m\u001b[0m\n\u001b[1;32m    764\u001b[0m                     \u001b[0mfeature_idx\u001b[0m \u001b[0;34m=\u001b[0m \u001b[0mvocabulary\u001b[0m\u001b[0;34m[\u001b[0m\u001b[0mfeature\u001b[0m\u001b[0;34m]\u001b[0m\u001b[0;34m\u001b[0m\u001b[0m\n",
      "\u001b[0;32m//anaconda/lib/python3.5/site-packages/sklearn/feature_extraction/text.py\u001b[0m in \u001b[0;36m<lambda>\u001b[0;34m(doc)\u001b[0m\n\u001b[1;32m    239\u001b[0m \u001b[0;34m\u001b[0m\u001b[0m\n\u001b[1;32m    240\u001b[0m             return lambda doc: self._word_ngrams(\n\u001b[0;32m--> 241\u001b[0;31m                 tokenize(preprocess(self.decode(doc))), stop_words)\n\u001b[0m\u001b[1;32m    242\u001b[0m \u001b[0;34m\u001b[0m\u001b[0m\n\u001b[1;32m    243\u001b[0m         \u001b[0;32melse\u001b[0m\u001b[0;34m:\u001b[0m\u001b[0;34m\u001b[0m\u001b[0m\n",
      "\u001b[0;32m//anaconda/lib/python3.5/site-packages/sklearn/feature_extraction/text.py\u001b[0m in \u001b[0;36m<lambda>\u001b[0;34m(x)\u001b[0m\n\u001b[1;32m    205\u001b[0m \u001b[0;34m\u001b[0m\u001b[0m\n\u001b[1;32m    206\u001b[0m         \u001b[0;32mif\u001b[0m \u001b[0mself\u001b[0m\u001b[0;34m.\u001b[0m\u001b[0mlowercase\u001b[0m\u001b[0;34m:\u001b[0m\u001b[0;34m\u001b[0m\u001b[0m\n\u001b[0;32m--> 207\u001b[0;31m             \u001b[0;32mreturn\u001b[0m \u001b[0;32mlambda\u001b[0m \u001b[0mx\u001b[0m\u001b[0;34m:\u001b[0m \u001b[0mstrip_accents\u001b[0m\u001b[0;34m(\u001b[0m\u001b[0mx\u001b[0m\u001b[0;34m.\u001b[0m\u001b[0mlower\u001b[0m\u001b[0;34m(\u001b[0m\u001b[0;34m)\u001b[0m\u001b[0;34m)\u001b[0m\u001b[0;34m\u001b[0m\u001b[0m\n\u001b[0m\u001b[1;32m    208\u001b[0m         \u001b[0;32melse\u001b[0m\u001b[0;34m:\u001b[0m\u001b[0;34m\u001b[0m\u001b[0m\n\u001b[1;32m    209\u001b[0m             \u001b[0;32mreturn\u001b[0m \u001b[0mstrip_accents\u001b[0m\u001b[0;34m\u001b[0m\u001b[0m\n",
      "\u001b[0;31mAttributeError\u001b[0m: 'list' object has no attribute 'lower'"
     ]
    }
   ],
   "source": [
    "from sklearn.feature_extraction.text import TfidfVectorizer,CountVectorizer\n",
    "\n",
    "flat_texts = [text for text in texts]\n",
    "text_sample = [flat_texts[i] for i in random.sample(range(len(flat_texts)), 1000)]\n",
    "\n",
    "wordvector = TfidfVectorizer(analyzer='word', stop_words='english', max_df=0.4, min_df=5)\n",
    "wordvector_fit = wordvector.fit_transform(text_sample)\n",
    "feature = wordvector.get_feature_names()"
   ]
  },
  {
   "cell_type": "code",
   "execution_count": 59,
   "metadata": {},
   "outputs": [
    {
     "ename": "NameError",
     "evalue": "name 'wordvector_fit' is not defined",
     "output_type": "error",
     "traceback": [
      "\u001b[0;31m---------------------------------------------------------------------------\u001b[0m",
      "\u001b[0;31mNameError\u001b[0m                                 Traceback (most recent call last)",
      "\u001b[0;32m<ipython-input-59-966d09eda173>\u001b[0m in \u001b[0;36m<module>\u001b[0;34m()\u001b[0m\n\u001b[1;32m      7\u001b[0m             \u001b[0minit\u001b[0m\u001b[0;34m=\u001b[0m\u001b[0;34m'k-means++'\u001b[0m\u001b[0;34m,\u001b[0m\u001b[0;34m\u001b[0m\u001b[0m\n\u001b[1;32m      8\u001b[0m             n_init=1)\n\u001b[0;32m----> 9\u001b[0;31m \u001b[0mlabels\u001b[0m \u001b[0;34m=\u001b[0m \u001b[0mclf\u001b[0m\u001b[0;34m.\u001b[0m\u001b[0mfit_predict\u001b[0m\u001b[0;34m(\u001b[0m\u001b[0mwordvector_fit\u001b[0m\u001b[0;34m)\u001b[0m\u001b[0;34m\u001b[0m\u001b[0m\n\u001b[0m\u001b[1;32m     10\u001b[0m \u001b[0;34m\u001b[0m\u001b[0m\n\u001b[1;32m     11\u001b[0m \u001b[0;34m\u001b[0m\u001b[0m\n",
      "\u001b[0;31mNameError\u001b[0m: name 'wordvector_fit' is not defined"
     ]
    }
   ],
   "source": [
    "from sklearn.cluster import KMeans\n",
    "from sklearn.decomposition import PCA\n",
    "\n",
    "N = 4\n",
    "clf = KMeans(n_clusters=N, \n",
    "            max_iter=50, \n",
    "            init='k-means++', \n",
    "            n_init=1)\n",
    "labels = clf.fit_predict(wordvector_fit)\n",
    "\n",
    "\n",
    "wordvector_fit_2d = wordvector_fit.todense()\n",
    "pca = PCA(n_components=2).fit(wordvector_fit_2d)\n",
    "datapoint = pca.transform(wordvector_fit_2d)\n",
    "\n",
    "\n",
    "label = [\"#e05f14\", \"#e0dc14\", \"#2fe014\", \"#14d2e0\"]\n",
    "color = [label[i] for i in labels]\n",
    "plt.scatter(datapoint[:, 0], datapoint[:, 1], c=color)\n",
    "\n",
    "centroids = clf.cluster_centers_\n",
    "centroidpoint = pca.transform(centroids)\n",
    "plt.scatter(centroidpoint[:, 0], centroidpoint[:, 1], marker='^', s=150, c='#000000')\n",
    "plt.show()"
   ]
  }
 ],
 "metadata": {
  "kernelspec": {
   "display_name": "Python 3",
   "language": "python",
   "name": "python3"
  },
  "language_info": {
   "codemirror_mode": {
    "name": "ipython",
    "version": 3
   },
   "file_extension": ".py",
   "mimetype": "text/x-python",
   "name": "python",
   "nbconvert_exporter": "python",
   "pygments_lexer": "ipython3",
   "version": "3.6.1"
  }
 },
 "nbformat": 4,
 "nbformat_minor": 1
}
