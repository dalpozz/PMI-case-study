{
 "cells": [
  {
   "cell_type": "markdown",
   "metadata": {},
   "source": [
    "#  Mentor-Mentee Topic Matching on the Enron email dataset"
   ]
  },
  {
   "attachments": {},
   "cell_type": "markdown",
   "metadata": {},
   "source": [
    "Connecting people with people is a central task in an important class of applications. Searching for mentors and matching mentors with mentees is a good example of such application. For this assignment, we'd like to design a prototype of a recommender system for mentor-mentee matching. Such a recommender system should match mentors with mentees by considering their attributes and preferences. For the mentors the system should store their inferred attributes from the data corpora, specifically their expertise on a particular topic. For the mentees the system should capture their preferences, which come from a certain ontology of the topics.\n",
    "\n",
    "As an input dataset to be used to retrieve the mentors, infer the topics and measure mentor's expertise level we will use the Enron Email dataset available here: http://www.cs.cmu.edu/~./enron/enron_mail_20150507.tar.gz , where mentors will be the email senders and topics will be inferred from the email message body."
   ]
  },
  {
   "cell_type": "code",
   "execution_count": 1,
   "metadata": {
    "collapsed": true
   },
   "outputs": [],
   "source": [
    "%load_ext autoreload\n",
    "import re, os\n",
    "import json\n",
    "\n",
    "workdir = \"/Users/Andrea/Documents/Education/ULB/Phd/Github/PMI-case-study/\"\n",
    "dirMail = str(workdir)  + \"data/enron/maildir/\"\n",
    "dirCode = str(workdir)  + \"code/\"\n",
    "dirRes = str(workdir)  + \"res/\"\n",
    "\n",
    "os.chdir(dirCode)\n",
    "from preprocessing import *\n",
    "%reload_ext preprocessing\n"
   ]
  },
  {
   "cell_type": "markdown",
   "metadata": {},
   "source": [
    "We will look at the \"sent\" directory of each of the 150 employees of Enron. We need to import the data and in turn, clean up the data. Info from [here](https://rforwork.info/2013/11/03/a-rather-nosy-topic-model-analysis-of-the-enron-email-corpus/) and here [here](https://rstudio-pubs-static.s3.amazonaws.com/79360_850b2a69980c4488b1db95987a24867a.html) proved to be very useful. Also see http://www.colorado.edu/ics/sites/default/files/attached-files/01-11_0.pdf \n",
    "We now build a list of strings - each string being an email (document). Each document is filtered according to some regular expressions. We also build a dictionary, namely, user_docs_dict that stores for each iteration of a user, the corresponding name and as well as a list of the filtered emails."
   ]
  },
  {
   "cell_type": "code",
   "execution_count": 2,
   "metadata": {},
   "outputs": [
    {
     "data": {
      "text/plain": [
       "\"\\nuser_docs_list = [] # Stores email sender's name and content\\nfor user in users:\\n    sent =  str(dirMail) + str(user) + '/sent'   \\n    try: \\n        os.chdir(sent)\\n        d = []\\n        for email in os.listdir():          \\n            text = open(email,'r').read()\\n            # Regular 'clutter' from each email\\n            text = remove_unwanted_text(text)\\n            d.append(text)\\n        user_docs_list.append((user, d))\\n    except:\\n        pass\\n    \\nuser_docs_dict = dict(user_docs_list)\\n\\n# Save the user_docs_dict file as json\\nwith open(dirRes + 'user_docs_dict.jsn','w') as f:\\n    json.dump(user_docs_dict,f)\\nf.close()\\n\\n\""
      ]
     },
     "execution_count": 2,
     "metadata": {},
     "output_type": "execute_result"
    }
   ],
   "source": [
    "# For each user we extract all the emails in their inbox\n",
    "users = [i for i in os.listdir(dirMail)]\n",
    "\n",
    "'''\n",
    "user_docs_list = [] # Stores email sender's name and content\n",
    "for user in users:\n",
    "    sent =  str(dirMail) + str(user) + '/sent'   \n",
    "    try: \n",
    "        os.chdir(sent)\n",
    "        d = []\n",
    "        for email in os.listdir():          \n",
    "            text = open(email,'r').read()\n",
    "            # Regular 'clutter' from each email\n",
    "            text = remove_unwanted_text(text)\n",
    "            d.append(text)\n",
    "        user_docs_list.append((user, d))\n",
    "    except:\n",
    "        pass\n",
    "    \n",
    "user_docs_dict = dict(user_docs_list)\n",
    "\n",
    "# Save the user_docs_dict file as json\n",
    "with open(dirRes + 'user_docs_dict.jsn','w') as f:\n",
    "    json.dump(user_docs_dict,f)\n",
    "f.close()\n",
    "\n",
    "'''"
   ]
  },
  {
   "cell_type": "code",
   "execution_count": 3,
   "metadata": {
    "collapsed": true
   },
   "outputs": [],
   "source": [
    "\n",
    "# Loading the user_docs_dict file\n",
    "with open(dirRes + 'user_docs_dict.jsn','r') as f:\n",
    "    user_docs_dict = json.load(f)\n",
    "f.close()\n"
   ]
  },
  {
   "cell_type": "markdown",
   "metadata": {},
   "source": [
    "## Let's check how many user and emails are available"
   ]
  },
  {
   "cell_type": "code",
   "execution_count": 4,
   "metadata": {},
   "outputs": [
    {
     "name": "stdout",
     "output_type": "stream",
     "text": [
      "Total number of users: 88\n"
     ]
    }
   ],
   "source": [
    "num_users = len(user_docs_dict.keys())\n",
    "print(\"Total number of users:\", num_users)"
   ]
  },
  {
   "cell_type": "code",
   "execution_count": 5,
   "metadata": {},
   "outputs": [
    {
     "name": "stdout",
     "output_type": "stream",
     "text": [
      "Total number of emails: 57265.0\n"
     ]
    },
    {
     "data": {
      "text/html": [
       "<div>\n",
       "<style>\n",
       "    .dataframe thead tr:only-child th {\n",
       "        text-align: right;\n",
       "    }\n",
       "\n",
       "    .dataframe thead th {\n",
       "        text-align: left;\n",
       "    }\n",
       "\n",
       "    .dataframe tbody tr th {\n",
       "        vertical-align: top;\n",
       "    }\n",
       "</style>\n",
       "<table border=\"1\" class=\"dataframe\">\n",
       "  <thead>\n",
       "    <tr style=\"text-align: right;\">\n",
       "      <th></th>\n",
       "      <th>num_emails</th>\n",
       "      <th>users</th>\n",
       "    </tr>\n",
       "  </thead>\n",
       "  <tbody>\n",
       "    <tr>\n",
       "      <th>32</th>\n",
       "      <td>4440.0</td>\n",
       "      <td>mann-k</td>\n",
       "    </tr>\n",
       "    <tr>\n",
       "      <th>48</th>\n",
       "      <td>3930.0</td>\n",
       "      <td>dasovich-j</td>\n",
       "    </tr>\n",
       "    <tr>\n",
       "      <th>10</th>\n",
       "      <td>3810.0</td>\n",
       "      <td>jones-t</td>\n",
       "    </tr>\n",
       "    <tr>\n",
       "      <th>82</th>\n",
       "      <td>3774.0</td>\n",
       "      <td>shackleton-s</td>\n",
       "    </tr>\n",
       "    <tr>\n",
       "      <th>62</th>\n",
       "      <td>3463.0</td>\n",
       "      <td>kaminski-v</td>\n",
       "    </tr>\n",
       "    <tr>\n",
       "      <th>15</th>\n",
       "      <td>2116.0</td>\n",
       "      <td>germany-c</td>\n",
       "    </tr>\n",
       "    <tr>\n",
       "      <th>43</th>\n",
       "      <td>1992.0</td>\n",
       "      <td>lenhart-m</td>\n",
       "    </tr>\n",
       "    <tr>\n",
       "      <th>80</th>\n",
       "      <td>1862.0</td>\n",
       "      <td>taylor-m</td>\n",
       "    </tr>\n",
       "    <tr>\n",
       "      <th>26</th>\n",
       "      <td>1770.0</td>\n",
       "      <td>perlingiere-d</td>\n",
       "    </tr>\n",
       "    <tr>\n",
       "      <th>14</th>\n",
       "      <td>1632.0</td>\n",
       "      <td>sanders-r</td>\n",
       "    </tr>\n",
       "  </tbody>\n",
       "</table>\n",
       "</div>"
      ],
      "text/plain": [
       "    num_emails          users\n",
       "32      4440.0         mann-k\n",
       "48      3930.0     dasovich-j\n",
       "10      3810.0        jones-t\n",
       "82      3774.0   shackleton-s\n",
       "62      3463.0     kaminski-v\n",
       "15      2116.0      germany-c\n",
       "43      1992.0      lenhart-m\n",
       "80      1862.0       taylor-m\n",
       "26      1770.0  perlingiere-d\n",
       "14      1632.0      sanders-r"
      ]
     },
     "execution_count": 5,
     "metadata": {},
     "output_type": "execute_result"
    }
   ],
   "source": [
    "import numpy as np\n",
    "import pandas as pd\n",
    "\n",
    "users = list(user_docs_dict.keys())\n",
    "num_emails = np.zeros(num_users)\n",
    "for i in range(num_users):\n",
    "    u = users[i]\n",
    "    user_docs = user_docs_dict[u]\n",
    "    num_emails[i] = len(user_docs)\n",
    "    \n",
    "users_df = pd.DataFrame({'users': users, 'num_emails': num_emails})\n",
    "users_df = users_df.sort_values('num_emails', ascending=False)\n",
    "print(\"Total number of emails:\", np.sum(num_emails))\n",
    "users_df.head(10)"
   ]
  },
  {
   "cell_type": "code",
   "execution_count": 6,
   "metadata": {},
   "outputs": [
    {
     "data": {
      "image/png": "[encoded data removed]",
      "text/plain": [
       "<matplotlib.figure.Figure at 0x121e64cc0>"
      ]
     },
     "metadata": {},
     "output_type": "display_data"
    }
   ],
   "source": [
    "import matplotlib.pyplot as plt\n",
    "\n",
    "fig = plt.gcf()\n",
    "fig.set_size_inches(18.5, 8.5)\n",
    "\n",
    "y_pos = np.arange(num_users)\n",
    "plt.bar(y_pos, users_df.num_emails, align='center', alpha=0.5)\n",
    "plt.xticks(y_pos, users_df.users, rotation=90)\n",
    "plt.ylabel('Num emails')\n",
    "plt.title('Number of emails per users')\n",
    "\n",
    "fig.savefig(dirRes+'num_emails.pdf', dpi=300)\n",
    "#plt.savefig(dirRes+\"num_emails.pdf\")\n",
    "plt.show()"
   ]
  },
  {
   "cell_type": "code",
   "execution_count": 7,
   "metadata": {
    "collapsed": true
   },
   "outputs": [],
   "source": [
    "#Select a subset of user to speed up the computation\n",
    "import random\n",
    "num_sample = 15\n",
    "#sub_users = [list(user_docs_dict.keys())[i] for i in random.sample(range(num_users), num_sample)] # select randomly\n",
    "sub_users = list(users_df.users.head(num_sample)) # select users with highest number of emails\n",
    "\n",
    "\n",
    "# create a new dictionary\n",
    "user_docs_dict = { user: user_docs_dict[user] for user in sub_users }\n",
    "\n",
    "users = list(user_docs_dict.keys())\n",
    "num_users = len(user_docs_dict.keys())"
   ]
  },
  {
   "cell_type": "markdown",
   "metadata": {},
   "source": [
    "## Topic Modeling: extract major topics in the emails"
   ]
  },
  {
   "cell_type": "markdown",
   "metadata": {},
   "source": [
    "Now we extract tokens, by removing stop words and using a lemmatizer (see preprocessing.py for a more detaileds).\n",
    "While creating a new 'texts' variable that stores the filtered documents, we also edit the docs_num_dict to update the words according to the tokenize,stop word, lemmatize procedure."
   ]
  },
  {
   "cell_type": "code",
   "execution_count": 8,
   "metadata": {
    "collapsed": true
   },
   "outputs": [],
   "source": [
    "# store all email content into a list\n",
    "from collections import defaultdict\n",
    "\n",
    "user_token_list = []\n",
    "texts = []\n",
    "for i in range(num_users):\n",
    "    user = users[i]\n",
    "    user_docs = user_docs_dict[user]\n",
    "    tokens_list = []\n",
    "    for doc in user_docs:\n",
    "        tokens = get_token(doc)\n",
    "        texts.append(tokens)\n",
    "        tokens_list.append(tokens)\n",
    "        \n",
    "    user_token_list.append((user, tokens_list))\n",
    "\n",
    "user_token_dict = dict(user_token_list)"
   ]
  },
  {
   "cell_type": "markdown",
   "metadata": {},
   "source": [
    "The texts file is saved."
   ]
  },
  {
   "cell_type": "code",
   "execution_count": 9,
   "metadata": {},
   "outputs": [
    {
     "data": {
      "text/plain": [
       "\"\\nos.chdir(dirRes)\\n\\n# Loading the raw texts file\\nwith open('texts_raw.jsn','r') as f:\\n    texts = json.load(f)\\nf.close()\\n    \\n\""
      ]
     },
     "execution_count": 9,
     "metadata": {},
     "output_type": "execute_result"
    }
   ],
   "source": [
    "os.chdir(dirRes)\n",
    "\n",
    "# Save the texts file as texts_raw (will be edited again below)\n",
    "with open('texts.jsn','w') as f:\n",
    "    json.dump(texts,f)\n",
    "f.close()\n",
    "\n",
    "'''\n",
    "os.chdir(dirRes)\n",
    "\n",
    "# Loading the raw texts file\n",
    "with open('texts_raw.jsn','r') as f:\n",
    "    texts = json.load(f)\n",
    "f.close()\n",
    "    \n",
    "'''"
   ]
  },
  {
   "cell_type": "markdown",
   "metadata": {},
   "source": [
    "Now we construct the document term matrix whereafter the fairly lengthy process of constructing the model takes place."
   ]
  },
  {
   "cell_type": "code",
   "execution_count": 10,
   "metadata": {
    "collapsed": true
   },
   "outputs": [],
   "source": [
    "# Constructing a document-term matrix\n",
    "\n",
    "from gensim import corpora, models\n",
    "\n",
    "dictionary = corpora.Dictionary(texts)\n",
    "\n",
    "corpus = [dictionary.doc2bow(text) for text in texts]\n"
   ]
  },
  {
   "cell_type": "code",
   "execution_count": 38,
   "metadata": {
    "collapsed": true
   },
   "outputs": [],
   "source": [
    "num_topics=10\n",
    "num_passes=10"
   ]
  },
  {
   "cell_type": "code",
   "execution_count": null,
   "metadata": {},
   "outputs": [],
   "source": [
    "ldamodel = models.ldamodel.LdaModel(corpus, num_topics=num_topics, id2word = dictionary, passes=num_passes)"
   ]
  },
  {
   "cell_type": "markdown",
   "metadata": {},
   "source": [
    "We save both the LDA data as well as the results. We can reanalyse later. See the folder called LDAdata."
   ]
  },
  {
   "cell_type": "code",
   "execution_count": null,
   "metadata": {
    "collapsed": true
   },
   "outputs": [],
   "source": [
    "os.chdir(dirRes)\n",
    "\n",
    "# Saving the dictionary\n",
    "dictionary.save('dictionary')\n",
    "\n",
    "# Saving the corpus    \n",
    "with open('corpus.jsn','w') as f:\n",
    "    json.dump(corpus,f)    \n",
    "f.close()\n",
    "\n",
    "# Saving the ldamodel\n",
    "ldamodel.save('ldamodel')"
   ]
  },
  {
   "cell_type": "code",
   "execution_count": null,
   "metadata": {},
   "outputs": [],
   "source": [
    "'''\n",
    "# Load dictionary\n",
    "dictionary = corpora.Dictionary.load('dictionary')\n",
    "ldamodel = models.LdaModel.load('ldamodel') \n",
    "# Load corpus\n",
    "with open('corpus.jsn','r') as f:\n",
    "    corpus = json.load(f)\n",
    "f.close()\n",
    "'''"
   ]
  },
  {
   "cell_type": "markdown",
   "metadata": {},
   "source": [
    "We now print the words for each of the given topics. It must be noted, that even though considerable emphasis has been placed on the construction of the regular expressions, 'junk-text' may be present."
   ]
  },
  {
   "cell_type": "code",
   "execution_count": null,
   "metadata": {
    "scrolled": true
   },
   "outputs": [],
   "source": [
    "num_words = 7\n",
    "topic_list = ldamodel.print_topics(num_topics, num_words)\n",
    "\n",
    "def get_word_topics(topic_num, topic_list):\n",
    "    word_list = re.sub(r'(.\\....\\*)|(\\+ .\\....\\*)', '', topic_list[topic_num][1])\n",
    "    words = [word for word in word_list.split()]\n",
    "    return(words)\n",
    "    \n",
    "Topic_words =[]\n",
    "for i in range(0, num_topics):\n",
    "    words = get_word_topics(i, topic_list)    \n",
    "    Topic_words.append(words)\n",
    "\n",
    "idx = ['Topic'+str(i+1) for i in range(num_topics)]\n",
    "labels = ['Word'+str(i+1) for i in range(num_words)]\n",
    "Topics_df = pd.DataFrame.from_records(Topic_words, columns=labels, index=idx)\n",
    "Topics_df.to_csv(dirRes+\"Topics_df.csv\")\n",
    "Topics_df"
   ]
  },
  {
   "cell_type": "markdown",
   "metadata": {},
   "source": [
    "## Define Mentor's expertise on each topic\n",
    "\n",
    "For each Mentor we compute the likelihood of the dictionary to be related with a given topic.\n",
    "The higher the sum of the likelihood associated with the words in the dictionary, the higher is the expertise of the mentor on that topic. We normalize the expertise to be a value between 0 and 1."
   ]
  },
  {
   "cell_type": "code",
   "execution_count": null,
   "metadata": {
    "collapsed": true
   },
   "outputs": [],
   "source": [
    "def text_likelihood_per_topic(texts, ldamodel, num_topics):\n",
    "\n",
    "    score = np.zeros(num_topics)\n",
    "    \n",
    "    for text in texts:\n",
    "        #ldamodel output : [(id1, score1), (id2, score2),... if id != 0]\n",
    "        for topic_id, topic_lik in ldamodel[dictionary.doc2bow(text)]:\n",
    "            # returns each topic and the likelihood that the query relates to that topic. \n",
    "            # Gensim by default is showing the top ones that meet a certain threshold (>= 0.01)\n",
    "            score[topic_id] += topic_lik\n",
    "   \n",
    "    # score is the sum of likelihood on each topic\n",
    "    # we normalize the score to have a value between 0 and 1\n",
    "    norm_score = score/np.sum(score)\n",
    "    \n",
    "    return norm_score \n"
   ]
  },
  {
   "cell_type": "code",
   "execution_count": null,
   "metadata": {},
   "outputs": [],
   "source": [
    "user_expertise = np.zeros((num_users, num_topics))\n",
    "for i in range(num_users):\n",
    "    user = users[i]\n",
    "    token_list = user_token_dict[user]\n",
    "    user_score = text_likelihood_per_topic(token_list, ldamodel, num_topics)\n",
    "    user_expertise[i,:] = user_score\n",
    "\n",
    "user_expertise\n",
    "\n",
    "cols = ['Topic'+str(i+1) for i in range(num_topics)]\n",
    "expertise_df = pd.DataFrame.from_records(user_expertise, columns=cols, index=users)\n",
    "expertise_df.to_csv(dirRes+\"expertise_df.csv\")\n",
    "expertise_df"
   ]
  },
  {
   "cell_type": "code",
   "execution_count": null,
   "metadata": {},
   "outputs": [],
   "source": [
    "# check that row sum is zero for each user\n",
    "np.sum(user_expertise, axis=1)"
   ]
  },
  {
   "cell_type": "code",
   "execution_count": null,
   "metadata": {},
   "outputs": [],
   "source": [
    "#average user_expertise\n",
    "np.mean(user_expertise)"
   ]
  },
  {
   "cell_type": "code",
   "execution_count": null,
   "metadata": {},
   "outputs": [],
   "source": [
    "avg_expertise_per_topic = expertise_df.mean(axis=0)\n",
    "avg_expertise_per_topic"
   ]
  },
  {
   "cell_type": "markdown",
   "metadata": {},
   "source": [
    "# Visual inspection\n",
    "\n",
    "Let's check topics distribution among different users to see if we can identify some clusters"
   ]
  },
  {
   "cell_type": "code",
   "execution_count": null,
   "metadata": {},
   "outputs": [],
   "source": [
    "# reshape for plotting\n",
    "expertise_df[\"user\"] = list(expertise_df.index)\n",
    "melted_df = pd.melt(expertise_df, id_vars=\"user\", var_name=\"topic\", value_name=\"weight\")\n",
    "melted_df[\"topic\"] = melted_df[\"topic\"].str.replace(\"Topic\", \"\")\n",
    "\n",
    "import seaborn as sns\n",
    "sns.set_style('dark')\n",
    "s = sns.factorplot(x='user', y='weight', col='topic', data=melted_df, kind='bar', col_wrap=5)\n",
    "s = s.set_xticklabels(rotation=90)\n",
    "s.savefig(dirRes+\"topic_weight.pdf\", dpi=300)\n",
    "plt.show()"
   ]
  },
  {
   "cell_type": "markdown",
   "metadata": {},
   "source": [
    "## Mentor-Mentee matching"
   ]
  },
  {
   "cell_type": "markdown",
   "metadata": {
    "collapsed": true
   },
   "source": [
    "We now have a method to see which topics are prevalent for a given user (Mentor).\n",
    "Let's simulate the topic preference of a new employee (Mentee)."
   ]
  },
  {
   "cell_type": "code",
   "execution_count": null,
   "metadata": {},
   "outputs": [],
   "source": [
    "r = np.random.rand(1,num_topics) # vector of random number between 0 and 1\n",
    "#normalize to have sum = 1 (like a probability)\n",
    "nr = r/np.sum(r)\n",
    "mentee_pref = nr\n",
    "mentee_pref"
   ]
  },
  {
   "cell_type": "markdown",
   "metadata": {},
   "source": [
    "Let's assume that the mentee has access to the topics and provides his/her preference on each topic.\n",
    "We can reccomend an expert (Mentors) based on the mentee's preference using a distance measure (e.g. minimizing Euclidea distance). For the sake of semplicity we will compute similarity using the Euclidea distance. Alternativelly, one could use Minkowski distance, Pearson correlation, Cosine similarity, L2 Norm... "
   ]
  },
  {
   "cell_type": "code",
   "execution_count": null,
   "metadata": {},
   "outputs": [],
   "source": [
    "def dist(X, y):   \n",
    "    return np.sqrt(np.sum((X-y)**2, axis=1))\n",
    "\n",
    "d = dist(user_expertise, mentee_pref)\n",
    "\n",
    "expert_match = list(np.array(users)[d == min(d)])\n",
    "expert_match"
   ]
  },
  {
   "cell_type": "markdown",
   "metadata": {},
   "source": [
    "Let's assume instead the mentee selects the words he/she is interested in based on the words appearing among all topics"
   ]
  },
  {
   "cell_type": "code",
   "execution_count": null,
   "metadata": {},
   "outputs": [],
   "source": [
    "# let's take some words randomly across different topics\n",
    "flat_list = [word for sublist in Topic_words for word in sublist]\n",
    "flat_list = [x.replace('\"', '') for x in flat_list]\n",
    "words_sample = [flat_list[i] for i in random.sample(range(len(flat_list)), num_words)]\n",
    "words_sample"
   ]
  },
  {
   "cell_type": "code",
   "execution_count": null,
   "metadata": {},
   "outputs": [],
   "source": [
    "#let's compute the relevance of each word for all topics\n",
    "\n",
    "def word_likelihood_per_topic(word, ldamodel, num_topics):\n",
    "    \n",
    "    word_likelihood = np.zeros(num_topics)\n",
    "    term_topics = ldamodel.get_term_topics(word) #Returns most likely topics for a particular word\n",
    "    if term_topics:\n",
    "        for topic_tuple in term_topics:\n",
    "            topic_id = topic_tuple[0]\n",
    "            topic_lik = topic_tuple[1] #likelihood\n",
    "            word_likelihood[topic_id] = topic_lik\n",
    "    \n",
    "    return(word_likelihood)\n",
    "\n",
    "\n",
    "word_likelihoods = np.zeros((num_topics, num_words))\n",
    "for j in range(num_words):\n",
    "    w = word_likelihood_per_topic(words_sample[j], ldamodel, num_topics)\n",
    "    word_likelihoods[:,j] = w\n",
    "    \n",
    "\n",
    "idx = ['Topic'+str(i+1) for i in range(num_topics)]\n",
    "labels = ['Word'+str(i+1) for i in range(num_words)]\n",
    "word_like_df = pd.DataFrame.from_records(word_likelihoods, columns=labels, index=idx)\n",
    "word_like_df.to_csv(dirRes+\"word_like_df.csv\")\n",
    "word_like_df"
   ]
  },
  {
   "attachments": {},
   "cell_type": "markdown",
   "metadata": {},
   "source": [
    "We use a technique from content-based recommendation systems: recommend item based on a similarity comparison between the content (words) of the items (Topic) and a user’s profile (Mentor's expertise).\n",
    "We match the mentor by computing the dot product between then word-topic likelihood and the user-topic likelihood. \n",
    "The user corrisponding to the largest values is the one with is more likely to have more knolodge about the words queried."
   ]
  },
  {
   "cell_type": "code",
   "execution_count": null,
   "metadata": {},
   "outputs": [],
   "source": [
    "W = np.dot(user_expertise, word_likelihoods)\n",
    "usermax = np.argmax(W, axis=1)\n",
    "\n",
    "match_prob = usermax/np.sum(usermax)\n",
    "list(np.array(users)[match_prob == max(match_prob)])"
   ]
  },
  {
   "cell_type": "markdown",
   "metadata": {},
   "source": [
    "# Performance evalutation\n",
    "\n",
    "Let's assume that we want to have a 1-1 Match, i.e. only one Mentor per Mentee.\n",
    "In a random match each Mentor has equal probability to be selected.\n",
    "The best match is achieved when one Mentor has probability to be selected equal to one and the others zero.\n",
    "The worst match occurs when all Mentors have zero probability to be selected as the expert."
   ]
  },
  {
   "cell_type": "code",
   "execution_count": null,
   "metadata": {},
   "outputs": [],
   "source": [
    "#uniform (all mentors have the same probability to be selected)\n",
    "unif_match = np.ones(num_users)/num_users\n",
    "#worst \n",
    "worst_match = np.zeros(num_users)\n",
    "#best \n",
    "best_match = np.zeros(num_users)\n",
    "best_match[random.sample(range(num_users), 1)] = 1\n",
    "\n",
    "match_df = pd.DataFrame({'unif': unif_match, 'best': best_match, 'our': match_prob})\n",
    "match_df"
   ]
  },
  {
   "cell_type": "code",
   "execution_count": null,
   "metadata": {},
   "outputs": [],
   "source": [
    "#def acc(x):\n",
    "#    N = len(x)\n",
    "#    maxScore = 1/N * (N-1) + (1-1/N)\n",
    "#    score = np.sum(np.abs(x - np.mean(x)))\n",
    "#    return score/maxScore \n",
    "    \n",
    "def acc(x):\n",
    "    score = np.max(x) \n",
    "    return score\n",
    "\n",
    "\n",
    "print(\"uniform accuracy\", acc(unif_match), \"\\nbest accuracy\", acc(best_match), \"\\nour accuracy\", acc(match_prob))"
   ]
  },
  {
   "cell_type": "code",
   "execution_count": null,
   "metadata": {},
   "outputs": [],
   "source": [
    "match_df[\"user\"] = list(match_df.index+1)\n",
    "melted_df = pd.melt(match_df, id_vars=\"user\", var_name=\"model\", value_name=\"weight\")\n",
    "\n",
    "sns.set_style('dark')\n",
    "s = sns.barplot(x='user', y='weight', hue='model', data=melted_df)\n",
    "s.set(xlabel='User', ylabel='Weight')\n",
    "s.figure.savefig(dirRes+\"simulation_weight.pdf\", dpi=300)\n",
    "plt.show()"
   ]
  },
  {
   "cell_type": "markdown",
   "metadata": {},
   "source": [
    "# Extra\n",
    "Can we predict the Mentor's expertise on a single topic? Maybe, to test this hyphotesis we should use the target topic as independent variable, the remaining topics as feature and solve a regression problem. Given the relatively small number of email users I think the accuracy of such model should be rather low."
   ]
  },
  {
   "cell_type": "code",
   "execution_count": null,
   "metadata": {
    "collapsed": true
   },
   "outputs": [],
   "source": []
  },
  {
   "cell_type": "code",
   "execution_count": null,
   "metadata": {
    "collapsed": true
   },
   "outputs": [],
   "source": []
  }
 ],
 "metadata": {
  "kernelspec": {
   "display_name": "Python [default]",
   "language": "python",
   "name": "python3"
  },
  "language_info": {
   "codemirror_mode": {
    "name": "ipython",
    "version": 3
   },
   "file_extension": ".py",
   "mimetype": "text/x-python",
   "name": "python",
   "nbconvert_exporter": "python",
   "pygments_lexer": "ipython3",
   "version": "3.5.3"
  }
 },
 "nbformat": 4,
 "nbformat_minor": 1
}
