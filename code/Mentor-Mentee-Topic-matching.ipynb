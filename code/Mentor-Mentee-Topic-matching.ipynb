{
 "cells": [
  {
   "cell_type": "markdown",
   "metadata": {},
   "source": [
    "#  Mentor-Mentee Topic Matching on the Enron email dataset"
   ]
  },
  {
   "attachments": {},
   "cell_type": "markdown",
   "metadata": {},
   "source": [
    "Connecting people with people is a central task in an important class of applications. Searching for mentors and matching mentors with mentees is a good example of such application. In this exercise, we will design a prototype of a recommender system for mentor-mentee matching. Such a recommender system should match mentors with mentees by considering their attributes and preferences. For the mentors the system should store their inferred attributes from the data corpora, specifically their expertise on a particular topic. For the mentees the system should capture their preferences, which come from a certain ontology of the topics. As an input dataset to retrieve the mentors, infer the topics and measure mentor's expertise level we will use the Enron Email dataset available here: http://www.cs.cmu.edu/~./enron/enron_mail_20150507.tar.gz, where mentors are the email senders and the topics will be inferred from the email message body.\n",
    "\n",
    "To run this notebook you have to first download the dataset and unzip it into the \"data\" folder. Results will be stored in to the \"res\" folder. Let's start by importing some libraries needed for the exercise. Off course you have also to change your working directory \"workdir\"."
   ]
  },
  {
   "cell_type": "code",
   "execution_count": 65,
   "metadata": {},
   "outputs": [],
   "source": [
    "import re, os\n",
    "import json\n",
    "\n",
    "workdir = \"/Users/Andrea/Documents/Education/ULB/Phd/Github/PMI-case-study/\"\n",
    "dirMail = str(workdir)  + \"data/enron/maildir/\"\n",
    "dirCode = str(workdir)  + \"code/\"\n",
    "dirRes = str(workdir)  + \"res/\"\n",
    "\n",
    "os.chdir(dirCode)\n",
    "from preprocessing import *"
   ]
  },
  {
   "cell_type": "markdown",
   "metadata": {},
   "source": [
    "We will look at the \"sent\" directory of each of the 150 employees of Enron. We need to import the data and in turn, clean up the data. We now build a list of strings - each string being an email. Each email is filtered according to some regular expressions in order to remove unwanted text. This task is perfromed by the \"remove_unwanted_text\" function avaialable in the script \"preprocessing.py\". We also build a dictionary, namely, user_docs_dict that stores for each user, the corresponding name and as well as a list of the filtered emails."
   ]
  },
  {
   "cell_type": "code",
   "execution_count": 66,
   "metadata": {},
   "outputs": [],
   "source": [
    "# For each user we extract all the emails in their inbox\n",
    "users = [i for i in os.listdir(dirMail)]\n",
    "\n",
    "user_docs_list = [] # Stores email sender's name and content\n",
    "for user in users:\n",
    "    sent =  str(dirMail) + str(user) + '/sent'   \n",
    "    try: \n",
    "        os.chdir(sent)\n",
    "        d = []\n",
    "        for email in os.listdir():          \n",
    "            text = open(email,'r').read()\n",
    "            # Regular 'clutter' from each email\n",
    "            text = remove_unwanted_text(text)\n",
    "            d.append(text)\n",
    "        user_docs_list.append((user, d))\n",
    "    except:\n",
    "        pass\n",
    "    \n",
    "user_docs_dict = dict(user_docs_list)\n",
    "\n",
    "# Save the user_docs_dict file as json\n",
    "with open(dirRes + 'user_docs_dict.jsn','w') as f:\n",
    "    json.dump(user_docs_dict,f)\n",
    "f.close()\n"
   ]
  },
  {
   "cell_type": "code",
   "execution_count": 59,
   "metadata": {
    "collapsed": true
   },
   "outputs": [],
   "source": [
    "'''\n",
    "# Loading the user_docs_dict file\n",
    "with open(dirRes + 'user_docs_dict.jsn','r') as f:\n",
    "    user_docs_dict = json.load(f)\n",
    "f.close()\n",
    "'''"
   ]
  },
  {
   "cell_type": "markdown",
   "metadata": {},
   "source": [
    "## Let's check how many user and emails are available"
   ]
  },
  {
   "cell_type": "code",
   "execution_count": 68,
   "metadata": {},
   "outputs": [
    {
     "name": "stdout",
     "output_type": "stream",
     "text": [
      "Total number of users: 87\n"
     ]
    }
   ],
   "source": [
    "num_users = len(user_docs_dict.keys())\n",
    "print(\"Total number of users:\", num_users)"
   ]
  },
  {
   "cell_type": "code",
   "execution_count": 71,
   "metadata": {},
   "outputs": [
    {
     "name": "stdout",
     "output_type": "stream",
     "text": [
      "Total number of emails: 57262.0\n",
      "Users with the highest number of emails:\n"
     ]
    },
    {
     "data": {
      "text/html": [
       "<div>\n",
       "<style>\n",
       "    .dataframe thead tr:only-child th {\n",
       "        text-align: right;\n",
       "    }\n",
       "\n",
       "    .dataframe thead th {\n",
       "        text-align: left;\n",
       "    }\n",
       "\n",
       "    .dataframe tbody tr th {\n",
       "        vertical-align: top;\n",
       "    }\n",
       "</style>\n",
       "<table border=\"1\" class=\"dataframe\">\n",
       "  <thead>\n",
       "    <tr style=\"text-align: right;\">\n",
       "      <th></th>\n",
       "      <th>num_emails</th>\n",
       "      <th>users</th>\n",
       "    </tr>\n",
       "  </thead>\n",
       "  <tbody>\n",
       "    <tr>\n",
       "      <th>30</th>\n",
       "      <td>4440.0</td>\n",
       "      <td>mann-k</td>\n",
       "    </tr>\n",
       "    <tr>\n",
       "      <th>45</th>\n",
       "      <td>3930.0</td>\n",
       "      <td>dasovich-j</td>\n",
       "    </tr>\n",
       "    <tr>\n",
       "      <th>10</th>\n",
       "      <td>3810.0</td>\n",
       "      <td>jones-t</td>\n",
       "    </tr>\n",
       "    <tr>\n",
       "      <th>64</th>\n",
       "      <td>3774.0</td>\n",
       "      <td>shackleton-s</td>\n",
       "    </tr>\n",
       "    <tr>\n",
       "      <th>59</th>\n",
       "      <td>3463.0</td>\n",
       "      <td>kaminski-v</td>\n",
       "    </tr>\n",
       "    <tr>\n",
       "      <th>15</th>\n",
       "      <td>2116.0</td>\n",
       "      <td>germany-c</td>\n",
       "    </tr>\n",
       "    <tr>\n",
       "      <th>40</th>\n",
       "      <td>1992.0</td>\n",
       "      <td>lenhart-m</td>\n",
       "    </tr>\n",
       "    <tr>\n",
       "      <th>80</th>\n",
       "      <td>1862.0</td>\n",
       "      <td>taylor-m</td>\n",
       "    </tr>\n",
       "    <tr>\n",
       "      <th>24</th>\n",
       "      <td>1770.0</td>\n",
       "      <td>perlingiere-d</td>\n",
       "    </tr>\n",
       "    <tr>\n",
       "      <th>14</th>\n",
       "      <td>1632.0</td>\n",
       "      <td>sanders-r</td>\n",
       "    </tr>\n",
       "  </tbody>\n",
       "</table>\n",
       "</div>"
      ],
      "text/plain": [
       "    num_emails          users\n",
       "30      4440.0         mann-k\n",
       "45      3930.0     dasovich-j\n",
       "10      3810.0        jones-t\n",
       "64      3774.0   shackleton-s\n",
       "59      3463.0     kaminski-v\n",
       "15      2116.0      germany-c\n",
       "40      1992.0      lenhart-m\n",
       "80      1862.0       taylor-m\n",
       "24      1770.0  perlingiere-d\n",
       "14      1632.0      sanders-r"
      ]
     },
     "execution_count": 71,
     "metadata": {},
     "output_type": "execute_result"
    }
   ],
   "source": [
    "import numpy as np\n",
    "import pandas as pd\n",
    "\n",
    "users = list(user_docs_dict.keys())\n",
    "num_emails = np.zeros(num_users)\n",
    "for i in range(num_users):\n",
    "    u = users[i]\n",
    "    user_docs = user_docs_dict[u]\n",
    "    num_emails[i] = len(user_docs)\n",
    "    \n",
    "users_df = pd.DataFrame({'users': users, 'num_emails': num_emails})\n",
    "users_df = users_df.sort_values('num_emails', ascending=False)\n",
    "print(\"Total number of emails:\", np.sum(num_emails))\n",
    "print(\"Users with the highest number of emails:\")\n",
    "users_df.head(10)"
   ]
  },
  {
   "cell_type": "code",
   "execution_count": 62,
   "metadata": {},
   "outputs": [
    {
     "data": {
      "image/png": "[encoded data removed]",
      "text/plain": [
       "<matplotlib.figure.Figure at 0x121a1ce80>"
      ]
     },
     "metadata": {},
     "output_type": "display_data"
    }
   ],
   "source": [
    "import matplotlib.pyplot as plt\n",
    "\n",
    "fig = plt.gcf()\n",
    "fig.set_size_inches(18.5, 8.5)\n",
    "\n",
    "y_pos = np.arange(num_users)\n",
    "plt.bar(y_pos, users_df.num_emails, align='center', alpha=0.5)\n",
    "plt.xticks(y_pos, users_df.users, rotation=90)\n",
    "plt.ylabel('Num emails')\n",
    "plt.title('Number of emails per users')\n",
    "\n",
    "fig.savefig(dirRes+'num_emails.pdf', dpi=300)\n",
    "#plt.savefig(dirRes+\"num_emails.pdf\")\n",
    "plt.show()"
   ]
  },
  {
   "cell_type": "code",
   "execution_count": 7,
   "metadata": {
    "collapsed": true
   },
   "outputs": [],
   "source": [
    "#Select a subset of user to speed up the computation\n",
    "import random\n",
    "num_sample = 15\n",
    "#sub_users = [list(user_docs_dict.keys())[i] for i in random.sample(range(num_users), num_sample)] # select randomly\n",
    "sub_users = list(users_df.users.head(num_sample)) # select users with highest number of emails\n",
    "\n",
    "\n",
    "# create a new dictionary\n",
    "user_docs_dict = { user: user_docs_dict[user] for user in sub_users }\n",
    "\n",
    "users = list(user_docs_dict.keys())\n",
    "num_users = len(user_docs_dict.keys())"
   ]
  },
  {
   "cell_type": "markdown",
   "metadata": {},
   "source": [
    "## Topic Modeling: extract major topics in the emails"
   ]
  },
  {
   "cell_type": "markdown",
   "metadata": {},
   "source": [
    "Now we extract tokens (words), by removing stop words and using a lemmatizer (see preprocessing.py for more detaileds).\n",
    "While creating a new 'texts' variable that stores the filtered documents, we also creare are new dictionary 'user_token_dict' that stores the words according to the tokenize, stop word and lemmatize procedure."
   ]
  },
  {
   "cell_type": "code",
   "execution_count": 8,
   "metadata": {
    "collapsed": true
   },
   "outputs": [],
   "source": [
    "# store all email content into a list\n",
    "from collections import defaultdict\n",
    "\n",
    "user_token_list = []\n",
    "texts = []\n",
    "for i in range(num_users):\n",
    "    user = users[i]\n",
    "    user_docs = user_docs_dict[user]\n",
    "    tokens_list = []\n",
    "    for doc in user_docs:\n",
    "        tokens = get_token(doc)\n",
    "        texts.append(tokens)\n",
    "        tokens_list.append(tokens)\n",
    "        \n",
    "    user_token_list.append((user, tokens_list))\n",
    "\n",
    "user_token_dict = dict(user_token_list)"
   ]
  },
  {
   "cell_type": "markdown",
   "metadata": {},
   "source": [
    "The texts file is saved."
   ]
  },
  {
   "cell_type": "code",
   "execution_count": 9,
   "metadata": {},
   "outputs": [
    {
     "data": {
      "text/plain": [
       "\"\\nos.chdir(dirRes)\\n\\n# Loading the raw texts file\\nwith open('texts_raw.jsn','r') as f:\\n    texts = json.load(f)\\nf.close()\\n    \\n\""
      ]
     },
     "execution_count": 9,
     "metadata": {},
     "output_type": "execute_result"
    }
   ],
   "source": [
    "os.chdir(dirRes)\n",
    "\n",
    "# Save the texts file as texts_raw (will be edited again below)\n",
    "with open('texts.jsn','w') as f:\n",
    "    json.dump(texts,f)\n",
    "f.close()\n",
    "\n",
    "'''\n",
    "os.chdir(dirRes)\n",
    "\n",
    "# Loading the raw texts file\n",
    "with open('texts_raw.jsn','r') as f:\n",
    "    texts = json.load(f)\n",
    "f.close()\n",
    "    \n",
    "'''"
   ]
  },
  {
   "cell_type": "markdown",
   "metadata": {},
   "source": [
    "Now we construct the corpus that will be used to train the model."
   ]
  },
  {
   "cell_type": "code",
   "execution_count": 10,
   "metadata": {
    "collapsed": true
   },
   "outputs": [],
   "source": [
    "# Constructing a document-term matrix\n",
    "from gensim import corpora, models\n",
    "\n",
    "dictionary = corpora.Dictionary(texts)\n",
    "corpus = [dictionary.doc2bow(text) for text in texts]"
   ]
  },
  {
   "cell_type": "markdown",
   "metadata": {},
   "source": [
    "Let's define the number of topics to extract and the number of passes (the higher the longer the training)."
   ]
  },
  {
   "cell_type": "code",
   "execution_count": 38,
   "metadata": {
    "collapsed": true
   },
   "outputs": [],
   "source": [
    "num_topics=10\n",
    "num_passes=10"
   ]
  },
  {
   "cell_type": "code",
   "execution_count": 39,
   "metadata": {},
   "outputs": [],
   "source": [
    "ldamodel = models.ldamodel.LdaModel(corpus, num_topics=num_topics, id2word = dictionary, passes=num_passes)"
   ]
  },
  {
   "cell_type": "markdown",
   "metadata": {},
   "source": [
    "We save both the LDA data as well as the results."
   ]
  },
  {
   "cell_type": "code",
   "execution_count": 40,
   "metadata": {
    "collapsed": true
   },
   "outputs": [],
   "source": [
    "os.chdir(dirRes)\n",
    "\n",
    "# Saving the dictionary\n",
    "dictionary.save('dictionary')\n",
    "\n",
    "# Saving the corpus    \n",
    "with open('corpus.jsn','w') as f:\n",
    "    json.dump(corpus,f)    \n",
    "f.close()\n",
    "\n",
    "# Saving the ldamodel\n",
    "ldamodel.save('ldamodel')"
   ]
  },
  {
   "cell_type": "markdown",
   "metadata": {},
   "source": [
    "We now print the words for each of the given topics. It must be noted that 'junk-text' may be present, given the little time spent on data preprocessing."
   ]
  },
  {
   "cell_type": "code",
   "execution_count": 42,
   "metadata": {
    "scrolled": true
   },
   "outputs": [
    {
     "data": {
      "text/html": [
       "<div>\n",
       "<style>\n",
       "    .dataframe thead tr:only-child th {\n",
       "        text-align: right;\n",
       "    }\n",
       "\n",
       "    .dataframe thead th {\n",
       "        text-align: left;\n",
       "    }\n",
       "\n",
       "    .dataframe tbody tr th {\n",
       "        vertical-align: top;\n",
       "    }\n",
       "</style>\n",
       "<table border=\"1\" class=\"dataframe\">\n",
       "  <thead>\n",
       "    <tr style=\"text-align: right;\">\n",
       "      <th></th>\n",
       "      <th>Word1</th>\n",
       "      <th>Word2</th>\n",
       "      <th>Word3</th>\n",
       "      <th>Word4</th>\n",
       "      <th>Word5</th>\n",
       "      <th>Word6</th>\n",
       "      <th>Word7</th>\n",
       "    </tr>\n",
       "  </thead>\n",
       "  <tbody>\n",
       "    <tr>\n",
       "      <th>Topic1</th>\n",
       "      <td>\"enron\"</td>\n",
       "      <td>\"trading\"</td>\n",
       "      <td>\"business\"</td>\n",
       "      <td>\"company\"</td>\n",
       "      <td>\"product\"</td>\n",
       "      <td>\"service\"</td>\n",
       "      <td>\"financial\"</td>\n",
       "    </tr>\n",
       "    <tr>\n",
       "      <th>Topic2</th>\n",
       "      <td>\"let\"</td>\n",
       "      <td>\"going\"</td>\n",
       "      <td>\"week\"</td>\n",
       "      <td>\"good\"</td>\n",
       "      <td>\"meeting\"</td>\n",
       "      <td>\"day\"</td>\n",
       "      <td>\"work\"</td>\n",
       "    </tr>\n",
       "    <tr>\n",
       "      <th>Topic3</th>\n",
       "      <td>\"feb\"</td>\n",
       "      <td>\"internet\"</td>\n",
       "      <td>\"com\"</td>\n",
       "      <td>\"date\"</td>\n",
       "      <td>\"mar\"</td>\n",
       "      <td>\"received\"</td>\n",
       "      <td>\"buy\"</td>\n",
       "    </tr>\n",
       "    <tr>\n",
       "      <th>Topic4</th>\n",
       "      <td>\"message\"</td>\n",
       "      <td>\"mail\"</td>\n",
       "      <td>\"sara\"</td>\n",
       "      <td>\"intended\"</td>\n",
       "      <td>\"information\"</td>\n",
       "      <td>\"email\"</td>\n",
       "      <td>\"recipient\"</td>\n",
       "    </tr>\n",
       "    <tr>\n",
       "      <th>Topic5</th>\n",
       "      <td>\"agreement\"</td>\n",
       "      <td>\"attached\"</td>\n",
       "      <td>\"master\"</td>\n",
       "      <td>\"draft\"</td>\n",
       "      <td>\"credit\"</td>\n",
       "      <td>\"comment\"</td>\n",
       "      <td>\"form\"</td>\n",
       "    </tr>\n",
       "    <tr>\n",
       "      <th>Topic6</th>\n",
       "      <td>\"way\"</td>\n",
       "      <td>\"game\"</td>\n",
       "      <td>\"year\"</td>\n",
       "      <td>\"new\"</td>\n",
       "      <td>\"image\"</td>\n",
       "      <td>\"team\"</td>\n",
       "      <td>\"play\"</td>\n",
       "    </tr>\n",
       "    <tr>\n",
       "      <th>Topic7</th>\n",
       "      <td>\"deal\"</td>\n",
       "      <td>\"need\"</td>\n",
       "      <td>\"let\"</td>\n",
       "      <td>\"trade\"</td>\n",
       "      <td>\"richard\"</td>\n",
       "      <td>\"issue\"</td>\n",
       "      <td>\"list\"</td>\n",
       "    </tr>\n",
       "    <tr>\n",
       "      <th>Topic8</th>\n",
       "      <td>\"price\"</td>\n",
       "      <td>\"contract\"</td>\n",
       "      <td>\"gas\"</td>\n",
       "      <td>\"day\"</td>\n",
       "      <td>\"date\"</td>\n",
       "      <td>\"shall\"</td>\n",
       "      <td>\"party\"</td>\n",
       "    </tr>\n",
       "    <tr>\n",
       "      <th>Topic9</th>\n",
       "      <td>\"power\"</td>\n",
       "      <td>\"california\"</td>\n",
       "      <td>\"state\"</td>\n",
       "      <td>\"company\"</td>\n",
       "      <td>\"market\"</td>\n",
       "      <td>\"energy\"</td>\n",
       "      <td>\"price\"</td>\n",
       "    </tr>\n",
       "    <tr>\n",
       "      <th>Topic10</th>\n",
       "      <td>\"enron\"</td>\n",
       "      <td>\"corp\"</td>\n",
       "      <td>\"america\"</td>\n",
       "      <td>\"north\"</td>\n",
       "      <td>\"713\"</td>\n",
       "      <td>\"houston\"</td>\n",
       "      <td>\"texas\"</td>\n",
       "    </tr>\n",
       "  </tbody>\n",
       "</table>\n",
       "</div>"
      ],
      "text/plain": [
       "               Word1         Word2       Word3       Word4          Word5  \\\n",
       "Topic1       \"enron\"     \"trading\"  \"business\"   \"company\"      \"product\"   \n",
       "Topic2         \"let\"       \"going\"      \"week\"      \"good\"      \"meeting\"   \n",
       "Topic3         \"feb\"    \"internet\"       \"com\"      \"date\"          \"mar\"   \n",
       "Topic4     \"message\"        \"mail\"      \"sara\"  \"intended\"  \"information\"   \n",
       "Topic5   \"agreement\"    \"attached\"    \"master\"     \"draft\"       \"credit\"   \n",
       "Topic6         \"way\"        \"game\"      \"year\"       \"new\"        \"image\"   \n",
       "Topic7        \"deal\"        \"need\"       \"let\"     \"trade\"      \"richard\"   \n",
       "Topic8       \"price\"    \"contract\"       \"gas\"       \"day\"         \"date\"   \n",
       "Topic9       \"power\"  \"california\"     \"state\"   \"company\"       \"market\"   \n",
       "Topic10      \"enron\"        \"corp\"   \"america\"     \"north\"          \"713\"   \n",
       "\n",
       "              Word6        Word7  \n",
       "Topic1    \"service\"  \"financial\"  \n",
       "Topic2        \"day\"       \"work\"  \n",
       "Topic3   \"received\"        \"buy\"  \n",
       "Topic4      \"email\"  \"recipient\"  \n",
       "Topic5    \"comment\"       \"form\"  \n",
       "Topic6       \"team\"       \"play\"  \n",
       "Topic7      \"issue\"       \"list\"  \n",
       "Topic8      \"shall\"      \"party\"  \n",
       "Topic9     \"energy\"      \"price\"  \n",
       "Topic10   \"houston\"      \"texas\"  "
      ]
     },
     "execution_count": 42,
     "metadata": {},
     "output_type": "execute_result"
    }
   ],
   "source": [
    "#Let's keep only 7 words for each topic\n",
    "num_words = 7\n",
    "topic_list = ldamodel.print_topics(num_topics, num_words)\n",
    "\n",
    "def get_word_topics(topic_num, topic_list):\n",
    "    word_list = re.sub(r'(.\\....\\*)|(\\+ .\\....\\*)', '', topic_list[topic_num][1])\n",
    "    words = [word for word in word_list.split()]\n",
    "    return(words)\n",
    "    \n",
    "Topic_words =[]\n",
    "for i in range(0, num_topics):\n",
    "    words = get_word_topics(i, topic_list)    \n",
    "    Topic_words.append(words)\n",
    "\n",
    "idx = ['Topic'+str(i+1) for i in range(num_topics)]\n",
    "labels = ['Word'+str(i+1) for i in range(num_words)]\n",
    "Topics_df = pd.DataFrame.from_records(Topic_words, columns=labels, index=idx)\n",
    "Topics_df.to_csv(dirRes+\"Topics_df.csv\")\n",
    "Topics_df"
   ]
  },
  {
   "cell_type": "markdown",
   "metadata": {},
   "source": [
    "## Define Mentor's expertise on each topic\n",
    "\n",
    "For each Mentor we compute the likelihood of his/her dictionary to be related with a given topic.\n",
    "The higher the sum of the likelihood associated with the words in the dictionary, the higher is the expertise of the mentor on that topic. We normalize the expertise to be a value between 0 and 1."
   ]
  },
  {
   "cell_type": "code",
   "execution_count": 44,
   "metadata": {},
   "outputs": [
    {
     "data": {
      "text/html": [
       "<div>\n",
       "<style>\n",
       "    .dataframe thead tr:only-child th {\n",
       "        text-align: right;\n",
       "    }\n",
       "\n",
       "    .dataframe thead th {\n",
       "        text-align: left;\n",
       "    }\n",
       "\n",
       "    .dataframe tbody tr th {\n",
       "        vertical-align: top;\n",
       "    }\n",
       "</style>\n",
       "<table border=\"1\" class=\"dataframe\">\n",
       "  <thead>\n",
       "    <tr style=\"text-align: right;\">\n",
       "      <th></th>\n",
       "      <th>Topic1</th>\n",
       "      <th>Topic2</th>\n",
       "      <th>Topic3</th>\n",
       "      <th>Topic4</th>\n",
       "      <th>Topic5</th>\n",
       "      <th>Topic6</th>\n",
       "      <th>Topic7</th>\n",
       "      <th>Topic8</th>\n",
       "      <th>Topic9</th>\n",
       "      <th>Topic10</th>\n",
       "    </tr>\n",
       "  </thead>\n",
       "  <tbody>\n",
       "    <tr>\n",
       "      <th>nemec-g</th>\n",
       "      <td>0.088794</td>\n",
       "      <td>0.198427</td>\n",
       "      <td>0.033374</td>\n",
       "      <td>0.021247</td>\n",
       "      <td>0.362768</td>\n",
       "      <td>0.047453</td>\n",
       "      <td>0.090371</td>\n",
       "      <td>0.092492</td>\n",
       "      <td>0.032573</td>\n",
       "      <td>0.032501</td>\n",
       "    </tr>\n",
       "    <tr>\n",
       "      <th>mann-k</th>\n",
       "      <td>0.063589</td>\n",
       "      <td>0.227431</td>\n",
       "      <td>0.030225</td>\n",
       "      <td>0.088903</td>\n",
       "      <td>0.200093</td>\n",
       "      <td>0.045401</td>\n",
       "      <td>0.163459</td>\n",
       "      <td>0.116354</td>\n",
       "      <td>0.033369</td>\n",
       "      <td>0.031174</td>\n",
       "    </tr>\n",
       "    <tr>\n",
       "      <th>kaminski-v</th>\n",
       "      <td>0.220945</td>\n",
       "      <td>0.352726</td>\n",
       "      <td>0.027940</td>\n",
       "      <td>0.031809</td>\n",
       "      <td>0.059772</td>\n",
       "      <td>0.082523</td>\n",
       "      <td>0.065640</td>\n",
       "      <td>0.044646</td>\n",
       "      <td>0.081391</td>\n",
       "      <td>0.032607</td>\n",
       "    </tr>\n",
       "    <tr>\n",
       "      <th>dasovich-j</th>\n",
       "      <td>0.106179</td>\n",
       "      <td>0.288457</td>\n",
       "      <td>0.046694</td>\n",
       "      <td>0.029562</td>\n",
       "      <td>0.062107</td>\n",
       "      <td>0.038693</td>\n",
       "      <td>0.159635</td>\n",
       "      <td>0.052425</td>\n",
       "      <td>0.197598</td>\n",
       "      <td>0.018651</td>\n",
       "    </tr>\n",
       "    <tr>\n",
       "      <th>germany-c</th>\n",
       "      <td>0.062389</td>\n",
       "      <td>0.184304</td>\n",
       "      <td>0.051653</td>\n",
       "      <td>0.017542</td>\n",
       "      <td>0.036835</td>\n",
       "      <td>0.045303</td>\n",
       "      <td>0.275663</td>\n",
       "      <td>0.205418</td>\n",
       "      <td>0.045540</td>\n",
       "      <td>0.075353</td>\n",
       "    </tr>\n",
       "    <tr>\n",
       "      <th>taylor-m</th>\n",
       "      <td>0.217077</td>\n",
       "      <td>0.227762</td>\n",
       "      <td>0.025326</td>\n",
       "      <td>0.060322</td>\n",
       "      <td>0.155333</td>\n",
       "      <td>0.044103</td>\n",
       "      <td>0.134011</td>\n",
       "      <td>0.057108</td>\n",
       "      <td>0.043574</td>\n",
       "      <td>0.035384</td>\n",
       "    </tr>\n",
       "    <tr>\n",
       "      <th>kean-s</th>\n",
       "      <td>0.270937</td>\n",
       "      <td>0.218159</td>\n",
       "      <td>0.018146</td>\n",
       "      <td>0.035412</td>\n",
       "      <td>0.084754</td>\n",
       "      <td>0.041433</td>\n",
       "      <td>0.113271</td>\n",
       "      <td>0.037229</td>\n",
       "      <td>0.161681</td>\n",
       "      <td>0.018979</td>\n",
       "    </tr>\n",
       "    <tr>\n",
       "      <th>stclair-c</th>\n",
       "      <td>0.101168</td>\n",
       "      <td>0.207726</td>\n",
       "      <td>0.012301</td>\n",
       "      <td>0.052170</td>\n",
       "      <td>0.301702</td>\n",
       "      <td>0.020612</td>\n",
       "      <td>0.159931</td>\n",
       "      <td>0.058603</td>\n",
       "      <td>0.019441</td>\n",
       "      <td>0.066347</td>\n",
       "    </tr>\n",
       "    <tr>\n",
       "      <th>symes-k</th>\n",
       "      <td>0.061502</td>\n",
       "      <td>0.118071</td>\n",
       "      <td>0.030904</td>\n",
       "      <td>0.016637</td>\n",
       "      <td>0.023950</td>\n",
       "      <td>0.033124</td>\n",
       "      <td>0.508887</td>\n",
       "      <td>0.143363</td>\n",
       "      <td>0.044407</td>\n",
       "      <td>0.019155</td>\n",
       "    </tr>\n",
       "    <tr>\n",
       "      <th>perlingiere-d</th>\n",
       "      <td>0.037281</td>\n",
       "      <td>0.058742</td>\n",
       "      <td>0.008382</td>\n",
       "      <td>0.012884</td>\n",
       "      <td>0.097972</td>\n",
       "      <td>0.009819</td>\n",
       "      <td>0.041225</td>\n",
       "      <td>0.030415</td>\n",
       "      <td>0.011364</td>\n",
       "      <td>0.691916</td>\n",
       "    </tr>\n",
       "    <tr>\n",
       "      <th>jones-t</th>\n",
       "      <td>0.234175</td>\n",
       "      <td>0.119521</td>\n",
       "      <td>0.024180</td>\n",
       "      <td>0.039518</td>\n",
       "      <td>0.284225</td>\n",
       "      <td>0.025461</td>\n",
       "      <td>0.145964</td>\n",
       "      <td>0.042063</td>\n",
       "      <td>0.028247</td>\n",
       "      <td>0.056646</td>\n",
       "    </tr>\n",
       "    <tr>\n",
       "      <th>shackleton-s</th>\n",
       "      <td>0.139259</td>\n",
       "      <td>0.132047</td>\n",
       "      <td>0.013847</td>\n",
       "      <td>0.114222</td>\n",
       "      <td>0.231669</td>\n",
       "      <td>0.023983</td>\n",
       "      <td>0.154567</td>\n",
       "      <td>0.050293</td>\n",
       "      <td>0.029599</td>\n",
       "      <td>0.110513</td>\n",
       "    </tr>\n",
       "    <tr>\n",
       "      <th>bass-e</th>\n",
       "      <td>0.077861</td>\n",
       "      <td>0.397825</td>\n",
       "      <td>0.065635</td>\n",
       "      <td>0.022500</td>\n",
       "      <td>0.033568</td>\n",
       "      <td>0.134252</td>\n",
       "      <td>0.086493</td>\n",
       "      <td>0.067986</td>\n",
       "      <td>0.055433</td>\n",
       "      <td>0.058447</td>\n",
       "    </tr>\n",
       "    <tr>\n",
       "      <th>lenhart-m</th>\n",
       "      <td>0.041237</td>\n",
       "      <td>0.461324</td>\n",
       "      <td>0.101538</td>\n",
       "      <td>0.038797</td>\n",
       "      <td>0.037524</td>\n",
       "      <td>0.115321</td>\n",
       "      <td>0.071189</td>\n",
       "      <td>0.045524</td>\n",
       "      <td>0.053712</td>\n",
       "      <td>0.033834</td>\n",
       "    </tr>\n",
       "    <tr>\n",
       "      <th>sanders-r</th>\n",
       "      <td>0.140302</td>\n",
       "      <td>0.195450</td>\n",
       "      <td>0.028650</td>\n",
       "      <td>0.148349</td>\n",
       "      <td>0.116032</td>\n",
       "      <td>0.035302</td>\n",
       "      <td>0.166122</td>\n",
       "      <td>0.060495</td>\n",
       "      <td>0.075875</td>\n",
       "      <td>0.033423</td>\n",
       "    </tr>\n",
       "  </tbody>\n",
       "</table>\n",
       "</div>"
      ],
      "text/plain": [
       "                 Topic1    Topic2    Topic3    Topic4    Topic5    Topic6  \\\n",
       "nemec-g        0.088794  0.198427  0.033374  0.021247  0.362768  0.047453   \n",
       "mann-k         0.063589  0.227431  0.030225  0.088903  0.200093  0.045401   \n",
       "kaminski-v     0.220945  0.352726  0.027940  0.031809  0.059772  0.082523   \n",
       "dasovich-j     0.106179  0.288457  0.046694  0.029562  0.062107  0.038693   \n",
       "germany-c      0.062389  0.184304  0.051653  0.017542  0.036835  0.045303   \n",
       "taylor-m       0.217077  0.227762  0.025326  0.060322  0.155333  0.044103   \n",
       "kean-s         0.270937  0.218159  0.018146  0.035412  0.084754  0.041433   \n",
       "stclair-c      0.101168  0.207726  0.012301  0.052170  0.301702  0.020612   \n",
       "symes-k        0.061502  0.118071  0.030904  0.016637  0.023950  0.033124   \n",
       "perlingiere-d  0.037281  0.058742  0.008382  0.012884  0.097972  0.009819   \n",
       "jones-t        0.234175  0.119521  0.024180  0.039518  0.284225  0.025461   \n",
       "shackleton-s   0.139259  0.132047  0.013847  0.114222  0.231669  0.023983   \n",
       "bass-e         0.077861  0.397825  0.065635  0.022500  0.033568  0.134252   \n",
       "lenhart-m      0.041237  0.461324  0.101538  0.038797  0.037524  0.115321   \n",
       "sanders-r      0.140302  0.195450  0.028650  0.148349  0.116032  0.035302   \n",
       "\n",
       "                 Topic7    Topic8    Topic9   Topic10  \n",
       "nemec-g        0.090371  0.092492  0.032573  0.032501  \n",
       "mann-k         0.163459  0.116354  0.033369  0.031174  \n",
       "kaminski-v     0.065640  0.044646  0.081391  0.032607  \n",
       "dasovich-j     0.159635  0.052425  0.197598  0.018651  \n",
       "germany-c      0.275663  0.205418  0.045540  0.075353  \n",
       "taylor-m       0.134011  0.057108  0.043574  0.035384  \n",
       "kean-s         0.113271  0.037229  0.161681  0.018979  \n",
       "stclair-c      0.159931  0.058603  0.019441  0.066347  \n",
       "symes-k        0.508887  0.143363  0.044407  0.019155  \n",
       "perlingiere-d  0.041225  0.030415  0.011364  0.691916  \n",
       "jones-t        0.145964  0.042063  0.028247  0.056646  \n",
       "shackleton-s   0.154567  0.050293  0.029599  0.110513  \n",
       "bass-e         0.086493  0.067986  0.055433  0.058447  \n",
       "lenhart-m      0.071189  0.045524  0.053712  0.033834  \n",
       "sanders-r      0.166122  0.060495  0.075875  0.033423  "
      ]
     },
     "execution_count": 44,
     "metadata": {},
     "output_type": "execute_result"
    }
   ],
   "source": [
    "def text_likelihood_per_topic(texts, ldamodel, num_topics):\n",
    "\n",
    "    score = np.zeros(num_topics)\n",
    "    \n",
    "    for text in texts:\n",
    "        #ldamodel output : [(id1, score1), (id2, score2),... if id != 0]\n",
    "        for topic_id, topic_lik in ldamodel[dictionary.doc2bow(text)]:\n",
    "            # returns each topic and the likelihood that the query relates to that topic. \n",
    "            # Gensim by default is showing the top ones that meet a certain threshold (>= 0.01)\n",
    "            score[topic_id] += topic_lik\n",
    "   \n",
    "    # score is the sum of likelihood on each topic\n",
    "    # we normalize the score to have a value between 0 and 1\n",
    "    norm_score = score/np.sum(score)\n",
    "    \n",
    "    return norm_score \n",
    "\n",
    "user_expertise = np.zeros((num_users, num_topics))\n",
    "for i in range(num_users):\n",
    "    user = users[i]\n",
    "    token_list = user_token_dict[user]\n",
    "    user_score = text_likelihood_per_topic(token_list, ldamodel, num_topics)\n",
    "    user_expertise[i,:] = user_score\n",
    "\n",
    "user_expertise\n",
    "\n",
    "cols = ['Topic'+str(i+1) for i in range(num_topics)]\n",
    "expertise_df = pd.DataFrame.from_records(user_expertise, columns=cols, index=users)\n",
    "expertise_df.to_csv(dirRes+\"expertise_df.csv\")\n",
    "expertise_df"
   ]
  },
  {
   "cell_type": "code",
   "execution_count": 45,
   "metadata": {},
   "outputs": [
    {
     "data": {
      "text/plain": [
       "array([ 1.,  1.,  1.,  1.,  1.,  1.,  1.,  1.,  1.,  1.,  1.,  1.,  1.,\n",
       "        1.,  1.])"
      ]
     },
     "execution_count": 45,
     "metadata": {},
     "output_type": "execute_result"
    }
   ],
   "source": [
    "# check that row sum is zero for each user\n",
    "np.sum(user_expertise, axis=1)"
   ]
  },
  {
   "cell_type": "code",
   "execution_count": 46,
   "metadata": {},
   "outputs": [
    {
     "data": {
      "text/plain": [
       "0.10000000000000001"
      ]
     },
     "execution_count": 46,
     "metadata": {},
     "output_type": "execute_result"
    }
   ],
   "source": [
    "#average expertise across all topic and users\n",
    "np.mean(user_expertise)"
   ]
  },
  {
   "cell_type": "code",
   "execution_count": 47,
   "metadata": {},
   "outputs": [
    {
     "data": {
      "text/plain": [
       "Topic1     0.124180\n",
       "Topic2     0.225865\n",
       "Topic3     0.034586\n",
       "Topic4     0.048658\n",
       "Topic5     0.139220\n",
       "Topic6     0.049519\n",
       "Topic7     0.155762\n",
       "Topic8     0.073628\n",
       "Topic9     0.060920\n",
       "Topic10    0.087662\n",
       "dtype: float64"
      ]
     },
     "execution_count": 47,
     "metadata": {},
     "output_type": "execute_result"
    }
   ],
   "source": [
    "#average expertise on each topic across all users\n",
    "avg_expertise_per_topic = expertise_df.mean(axis=0)\n",
    "avg_expertise_per_topic"
   ]
  },
  {
   "cell_type": "markdown",
   "metadata": {},
   "source": [
    "# Visual inspection\n",
    "\n",
    "Let's check expertise's distribution of each user among different topics to see if we can get some insigths"
   ]
  },
  {
   "cell_type": "code",
   "execution_count": 48,
   "metadata": {},
   "outputs": [
    {
     "data": {
      "image/png": "[encoded data removed]",
      "text/plain": [
       "<matplotlib.figure.Figure at 0x11e9bddd8>"
      ]
     },
     "metadata": {},
     "output_type": "display_data"
    }
   ],
   "source": [
    "# reshape for plotting\n",
    "expertise_df[\"user\"] = list(expertise_df.index)\n",
    "melted_df = pd.melt(expertise_df, id_vars=\"user\", var_name=\"topic\", value_name=\"weight\")\n",
    "melted_df[\"topic\"] = melted_df[\"topic\"].str.replace(\"Topic\", \"\")\n",
    "\n",
    "import seaborn as sns\n",
    "sns.set_style('dark')\n",
    "s = sns.factorplot(x='user', y='weight', col='topic', data=melted_df, kind='bar', col_wrap=5)\n",
    "s = s.set_xticklabels(rotation=90)\n",
    "s.savefig(dirRes+\"topic_weight.pdf\", dpi=300)\n",
    "plt.show()"
   ]
  },
  {
   "cell_type": "markdown",
   "metadata": {},
   "source": [
    "It emerges that in some topics we can clearly distinguish one expert (e.g. topic 10 and 7). However, in others topics (e.g. topic 3 and 6) it is hard to pick one expert."
   ]
  },
  {
   "cell_type": "markdown",
   "metadata": {},
   "source": [
    "## Mentor-Mentee matching"
   ]
  },
  {
   "attachments": {},
   "cell_type": "markdown",
   "metadata": {
    "collapsed": true
   },
   "source": [
    "Tow types of match are possible depending on the settings we have.\n",
    "In the first case we assume that the mentee has access to the extracted topics and he/she provides a preference on each topic with a weight between 0 and 1. Let's simulate the topic preference of the mentee."
   ]
  },
  {
   "cell_type": "code",
   "execution_count": 49,
   "metadata": {},
   "outputs": [
    {
     "data": {
      "text/plain": [
       "array([[ 0.17262761,  0.12983569,  0.08072949,  0.15788949,  0.01735759,\n",
       "         0.05119329,  0.10174882,  0.10000396,  0.04336196,  0.1452521 ]])"
      ]
     },
     "execution_count": 49,
     "metadata": {},
     "output_type": "execute_result"
    }
   ],
   "source": [
    "r = np.random.rand(1,num_topics) # vector of random number between 0 and 1\n",
    "#normalize to have sum = 1 (like a probability)\n",
    "nr = r/np.sum(r)\n",
    "mentee_pref = nr\n",
    "mentee_pref"
   ]
  },
  {
   "cell_type": "markdown",
   "metadata": {},
   "source": [
    "We can reccomend an expert (mentors) based on the mentee's preference using a distance measure (e.g. minimizing Euclidea distance) or a correlation measure (e.g. maximizing Spearman correlation). For the sake of semplicity we will compute similarity using the Euclidea distance. Alternativelly, one could use Minkowski distance, Pearson correlation, Cosine similarity, L2 Norm... "
   ]
  },
  {
   "cell_type": "code",
   "execution_count": 50,
   "metadata": {},
   "outputs": [
    {
     "data": {
      "text/plain": [
       "['sanders-r']"
      ]
     },
     "execution_count": 50,
     "metadata": {},
     "output_type": "execute_result"
    }
   ],
   "source": [
    "def dist(X, y):   \n",
    "    return np.sqrt(np.sum((X-y)**2, axis=1))\n",
    "\n",
    "d = dist(user_expertise, mentee_pref)\n",
    "\n",
    "expert_match = list(np.array(users)[d == min(d)])\n",
    "expert_match"
   ]
  },
  {
   "cell_type": "markdown",
   "metadata": {},
   "source": [
    "In the second case we assume that the mentee does not provide a topic preference, but selects the words he/she is interested in within the words appearing in the topics."
   ]
  },
  {
   "cell_type": "code",
   "execution_count": 51,
   "metadata": {},
   "outputs": [
    {
     "data": {
      "text/plain": [
       "['let', 'master', 'attached', 'mar', 'team', 'message', 'form']"
      ]
     },
     "execution_count": 51,
     "metadata": {},
     "output_type": "execute_result"
    }
   ],
   "source": [
    "# let's take some words randomly across different topics\n",
    "flat_list = [word for sublist in Topic_words for word in sublist]\n",
    "flat_list = [x.replace('\"', '') for x in flat_list]\n",
    "words_sample = [flat_list[i] for i in random.sample(range(len(flat_list)), num_words)]\n",
    "words_sample"
   ]
  },
  {
   "cell_type": "markdown",
   "metadata": {},
   "source": [
    "We can compute the likelihood that each word appears in each topic."
   ]
  },
  {
   "cell_type": "code",
   "execution_count": 52,
   "metadata": {},
   "outputs": [
    {
     "data": {
      "text/html": [
       "<div>\n",
       "<style>\n",
       "    .dataframe thead tr:only-child th {\n",
       "        text-align: right;\n",
       "    }\n",
       "\n",
       "    .dataframe thead th {\n",
       "        text-align: left;\n",
       "    }\n",
       "\n",
       "    .dataframe tbody tr th {\n",
       "        vertical-align: top;\n",
       "    }\n",
       "</style>\n",
       "<table border=\"1\" class=\"dataframe\">\n",
       "  <thead>\n",
       "    <tr style=\"text-align: right;\">\n",
       "      <th></th>\n",
       "      <th>Word1</th>\n",
       "      <th>Word2</th>\n",
       "      <th>Word3</th>\n",
       "      <th>Word4</th>\n",
       "      <th>Word5</th>\n",
       "      <th>Word6</th>\n",
       "      <th>Word7</th>\n",
       "    </tr>\n",
       "  </thead>\n",
       "  <tbody>\n",
       "    <tr>\n",
       "      <th>Topic1</th>\n",
       "      <td>0.000000</td>\n",
       "      <td>0.000000</td>\n",
       "      <td>0.000000</td>\n",
       "      <td>0.0</td>\n",
       "      <td>0.0</td>\n",
       "      <td>0.0000</td>\n",
       "      <td>0.000000</td>\n",
       "    </tr>\n",
       "    <tr>\n",
       "      <th>Topic2</th>\n",
       "      <td>0.013973</td>\n",
       "      <td>0.000000</td>\n",
       "      <td>0.000000</td>\n",
       "      <td>0.0</td>\n",
       "      <td>0.0</td>\n",
       "      <td>0.0000</td>\n",
       "      <td>0.000000</td>\n",
       "    </tr>\n",
       "    <tr>\n",
       "      <th>Topic3</th>\n",
       "      <td>0.000000</td>\n",
       "      <td>0.000000</td>\n",
       "      <td>0.000000</td>\n",
       "      <td>0.0</td>\n",
       "      <td>0.0</td>\n",
       "      <td>0.0000</td>\n",
       "      <td>0.000000</td>\n",
       "    </tr>\n",
       "    <tr>\n",
       "      <th>Topic4</th>\n",
       "      <td>0.000000</td>\n",
       "      <td>0.000000</td>\n",
       "      <td>0.000000</td>\n",
       "      <td>0.0</td>\n",
       "      <td>0.0</td>\n",
       "      <td>0.0325</td>\n",
       "      <td>0.000000</td>\n",
       "    </tr>\n",
       "    <tr>\n",
       "      <th>Topic5</th>\n",
       "      <td>0.000000</td>\n",
       "      <td>0.017979</td>\n",
       "      <td>0.033164</td>\n",
       "      <td>0.0</td>\n",
       "      <td>0.0</td>\n",
       "      <td>0.0000</td>\n",
       "      <td>0.014167</td>\n",
       "    </tr>\n",
       "    <tr>\n",
       "      <th>Topic6</th>\n",
       "      <td>0.000000</td>\n",
       "      <td>0.000000</td>\n",
       "      <td>0.000000</td>\n",
       "      <td>0.0</td>\n",
       "      <td>0.0</td>\n",
       "      <td>0.0000</td>\n",
       "      <td>0.000000</td>\n",
       "    </tr>\n",
       "    <tr>\n",
       "      <th>Topic7</th>\n",
       "      <td>0.016548</td>\n",
       "      <td>0.000000</td>\n",
       "      <td>0.000000</td>\n",
       "      <td>0.0</td>\n",
       "      <td>0.0</td>\n",
       "      <td>0.0000</td>\n",
       "      <td>0.000000</td>\n",
       "    </tr>\n",
       "    <tr>\n",
       "      <th>Topic8</th>\n",
       "      <td>0.000000</td>\n",
       "      <td>0.000000</td>\n",
       "      <td>0.000000</td>\n",
       "      <td>0.0</td>\n",
       "      <td>0.0</td>\n",
       "      <td>0.0000</td>\n",
       "      <td>0.000000</td>\n",
       "    </tr>\n",
       "    <tr>\n",
       "      <th>Topic9</th>\n",
       "      <td>0.000000</td>\n",
       "      <td>0.000000</td>\n",
       "      <td>0.000000</td>\n",
       "      <td>0.0</td>\n",
       "      <td>0.0</td>\n",
       "      <td>0.0000</td>\n",
       "      <td>0.000000</td>\n",
       "    </tr>\n",
       "    <tr>\n",
       "      <th>Topic10</th>\n",
       "      <td>0.000000</td>\n",
       "      <td>0.000000</td>\n",
       "      <td>0.000000</td>\n",
       "      <td>0.0</td>\n",
       "      <td>0.0</td>\n",
       "      <td>0.0000</td>\n",
       "      <td>0.000000</td>\n",
       "    </tr>\n",
       "  </tbody>\n",
       "</table>\n",
       "</div>"
      ],
      "text/plain": [
       "            Word1     Word2     Word3  Word4  Word5   Word6     Word7\n",
       "Topic1   0.000000  0.000000  0.000000    0.0    0.0  0.0000  0.000000\n",
       "Topic2   0.013973  0.000000  0.000000    0.0    0.0  0.0000  0.000000\n",
       "Topic3   0.000000  0.000000  0.000000    0.0    0.0  0.0000  0.000000\n",
       "Topic4   0.000000  0.000000  0.000000    0.0    0.0  0.0325  0.000000\n",
       "Topic5   0.000000  0.017979  0.033164    0.0    0.0  0.0000  0.014167\n",
       "Topic6   0.000000  0.000000  0.000000    0.0    0.0  0.0000  0.000000\n",
       "Topic7   0.016548  0.000000  0.000000    0.0    0.0  0.0000  0.000000\n",
       "Topic8   0.000000  0.000000  0.000000    0.0    0.0  0.0000  0.000000\n",
       "Topic9   0.000000  0.000000  0.000000    0.0    0.0  0.0000  0.000000\n",
       "Topic10  0.000000  0.000000  0.000000    0.0    0.0  0.0000  0.000000"
      ]
     },
     "execution_count": 52,
     "metadata": {},
     "output_type": "execute_result"
    }
   ],
   "source": [
    "#let's compute the relevance of each word for all topics\n",
    "\n",
    "def word_likelihood_per_topic(word, ldamodel, num_topics):\n",
    "    \n",
    "    word_likelihood = np.zeros(num_topics)\n",
    "    term_topics = ldamodel.get_term_topics(word) #Returns most likely topics for a particular word\n",
    "    if term_topics:\n",
    "        for topic_tuple in term_topics:\n",
    "            topic_id = topic_tuple[0]\n",
    "            topic_lik = topic_tuple[1] #likelihood\n",
    "            word_likelihood[topic_id] = topic_lik\n",
    "    \n",
    "    return(word_likelihood)\n",
    "\n",
    "\n",
    "word_likelihoods = np.zeros((num_topics, num_words))\n",
    "for j in range(num_words):\n",
    "    w = word_likelihood_per_topic(words_sample[j], ldamodel, num_topics)\n",
    "    word_likelihoods[:,j] = w\n",
    "    \n",
    "\n",
    "idx = ['Topic'+str(i+1) for i in range(num_topics)]\n",
    "labels = ['Word'+str(i+1) for i in range(num_words)]\n",
    "word_like_df = pd.DataFrame.from_records(word_likelihoods, columns=labels, index=idx)\n",
    "word_like_df.to_csv(dirRes+\"word_like_df.csv\")\n",
    "word_like_df"
   ]
  },
  {
   "attachments": {},
   "cell_type": "markdown",
   "metadata": {},
   "source": [
    "In this case, to match mentor and mentee we use a technique from content-based recommendation systems: recommend the item based on a similarity comparison between the content (words) of the items (topic) and a user’s profile (mentor's expertise).\n",
    "We match the mentor by computing the matrix dot product between then word-topic likelihood and the user-topic likelihood. \n",
    "The user corrisponding to the largest values is the one who is most likely to have more knolodge about the words queried."
   ]
  },
  {
   "cell_type": "code",
   "execution_count": 53,
   "metadata": {},
   "outputs": [
    {
     "data": {
      "text/plain": [
       "['nemec-g', 'mann-k', 'stclair-c', 'perlingiere-d', 'jones-t', 'shackleton-s']"
      ]
     },
     "execution_count": 53,
     "metadata": {},
     "output_type": "execute_result"
    }
   ],
   "source": [
    "W = np.dot(user_expertise, word_likelihoods)\n",
    "usermax = np.argmax(W, axis=1)\n",
    "\n",
    "match_prob = usermax/np.sum(usermax)\n",
    "list(np.array(users)[match_prob == max(match_prob)])"
   ]
  },
  {
   "cell_type": "markdown",
   "metadata": {},
   "source": [
    "# Performance evalutation\n",
    "\n",
    "Let's assume that we want to have a 1-1 match, i.e. only one mentor per mentee.\n",
    "The worst match occurs when each mentor has equal probability to be selected, we will call this the 'uniform' match.\n",
    "The best match is achieved when one mentor has probability to be selected equal to one and the others zero."
   ]
  },
  {
   "cell_type": "code",
   "execution_count": 54,
   "metadata": {},
   "outputs": [
    {
     "data": {
      "text/html": [
       "<div>\n",
       "<style>\n",
       "    .dataframe thead tr:only-child th {\n",
       "        text-align: right;\n",
       "    }\n",
       "\n",
       "    .dataframe thead th {\n",
       "        text-align: left;\n",
       "    }\n",
       "\n",
       "    .dataframe tbody tr th {\n",
       "        vertical-align: top;\n",
       "    }\n",
       "</style>\n",
       "<table border=\"1\" class=\"dataframe\">\n",
       "  <thead>\n",
       "    <tr style=\"text-align: right;\">\n",
       "      <th></th>\n",
       "      <th>best</th>\n",
       "      <th>our</th>\n",
       "      <th>unif</th>\n",
       "    </tr>\n",
       "  </thead>\n",
       "  <tbody>\n",
       "    <tr>\n",
       "      <th>0</th>\n",
       "      <td>0.0</td>\n",
       "      <td>0.166667</td>\n",
       "      <td>0.066667</td>\n",
       "    </tr>\n",
       "    <tr>\n",
       "      <th>1</th>\n",
       "      <td>0.0</td>\n",
       "      <td>0.166667</td>\n",
       "      <td>0.066667</td>\n",
       "    </tr>\n",
       "    <tr>\n",
       "      <th>2</th>\n",
       "      <td>0.0</td>\n",
       "      <td>0.000000</td>\n",
       "      <td>0.066667</td>\n",
       "    </tr>\n",
       "    <tr>\n",
       "      <th>3</th>\n",
       "      <td>0.0</td>\n",
       "      <td>0.000000</td>\n",
       "      <td>0.066667</td>\n",
       "    </tr>\n",
       "    <tr>\n",
       "      <th>4</th>\n",
       "      <td>0.0</td>\n",
       "      <td>0.000000</td>\n",
       "      <td>0.066667</td>\n",
       "    </tr>\n",
       "    <tr>\n",
       "      <th>5</th>\n",
       "      <td>0.0</td>\n",
       "      <td>0.000000</td>\n",
       "      <td>0.066667</td>\n",
       "    </tr>\n",
       "    <tr>\n",
       "      <th>6</th>\n",
       "      <td>0.0</td>\n",
       "      <td>0.000000</td>\n",
       "      <td>0.066667</td>\n",
       "    </tr>\n",
       "    <tr>\n",
       "      <th>7</th>\n",
       "      <td>0.0</td>\n",
       "      <td>0.166667</td>\n",
       "      <td>0.066667</td>\n",
       "    </tr>\n",
       "    <tr>\n",
       "      <th>8</th>\n",
       "      <td>0.0</td>\n",
       "      <td>0.000000</td>\n",
       "      <td>0.066667</td>\n",
       "    </tr>\n",
       "    <tr>\n",
       "      <th>9</th>\n",
       "      <td>0.0</td>\n",
       "      <td>0.166667</td>\n",
       "      <td>0.066667</td>\n",
       "    </tr>\n",
       "    <tr>\n",
       "      <th>10</th>\n",
       "      <td>0.0</td>\n",
       "      <td>0.166667</td>\n",
       "      <td>0.066667</td>\n",
       "    </tr>\n",
       "    <tr>\n",
       "      <th>11</th>\n",
       "      <td>0.0</td>\n",
       "      <td>0.166667</td>\n",
       "      <td>0.066667</td>\n",
       "    </tr>\n",
       "    <tr>\n",
       "      <th>12</th>\n",
       "      <td>1.0</td>\n",
       "      <td>0.000000</td>\n",
       "      <td>0.066667</td>\n",
       "    </tr>\n",
       "    <tr>\n",
       "      <th>13</th>\n",
       "      <td>0.0</td>\n",
       "      <td>0.000000</td>\n",
       "      <td>0.066667</td>\n",
       "    </tr>\n",
       "    <tr>\n",
       "      <th>14</th>\n",
       "      <td>0.0</td>\n",
       "      <td>0.000000</td>\n",
       "      <td>0.066667</td>\n",
       "    </tr>\n",
       "  </tbody>\n",
       "</table>\n",
       "</div>"
      ],
      "text/plain": [
       "    best       our      unif\n",
       "0    0.0  0.166667  0.066667\n",
       "1    0.0  0.166667  0.066667\n",
       "2    0.0  0.000000  0.066667\n",
       "3    0.0  0.000000  0.066667\n",
       "4    0.0  0.000000  0.066667\n",
       "5    0.0  0.000000  0.066667\n",
       "6    0.0  0.000000  0.066667\n",
       "7    0.0  0.166667  0.066667\n",
       "8    0.0  0.000000  0.066667\n",
       "9    0.0  0.166667  0.066667\n",
       "10   0.0  0.166667  0.066667\n",
       "11   0.0  0.166667  0.066667\n",
       "12   1.0  0.000000  0.066667\n",
       "13   0.0  0.000000  0.066667\n",
       "14   0.0  0.000000  0.066667"
      ]
     },
     "execution_count": 54,
     "metadata": {},
     "output_type": "execute_result"
    }
   ],
   "source": [
    "#uniform (all mentors have the same probability to be selected)\n",
    "unif_match = np.ones(num_users)/num_users\n",
    "#best \n",
    "best_match = np.zeros(num_users)\n",
    "best_match[random.sample(range(num_users), 1)] = 1\n",
    "\n",
    "match_df = pd.DataFrame({'unif': unif_match, 'best': best_match, 'our': match_prob})\n",
    "match_df"
   ]
  },
  {
   "cell_type": "markdown",
   "metadata": {},
   "source": [
    "To measure the quality of our match we want a measure of distribution peakness, \n",
    "i.e. we prefer a distribution with a high peak in one mentor rather than a flat distribution where mulitple mentors have similar probability to be selected.\n",
    "We can measure the peakness by taking the max value of the probability. In the best scenario we will have accuracy = 1, \n",
    "in the uniform we get accuracy = 1/N, with N being the number of mentors.\n"
   ]
  },
  {
   "cell_type": "code",
   "execution_count": 55,
   "metadata": {},
   "outputs": [
    {
     "name": "stdout",
     "output_type": "stream",
     "text": [
      "uniform accuracy 0.0666666666667 \n",
      "best accuracy 1.0 \n",
      "our accuracy 0.166666666667\n"
     ]
    }
   ],
   "source": [
    "def acc(x):\n",
    "    score = np.max(x) \n",
    "    return score\n",
    "\n",
    "\n",
    "print(\"uniform accuracy\", acc(unif_match), \"\\nbest accuracy\", acc(best_match), \"\\nour accuracy\", acc(match_prob))"
   ]
  },
  {
   "cell_type": "code",
   "execution_count": 56,
   "metadata": {},
   "outputs": [
    {
     "data": {
      "image/png": "[encoded data removed]",
      "text/plain": [
       "<matplotlib.figure.Figure at 0x11e7bc470>"
      ]
     },
     "metadata": {},
     "output_type": "display_data"
    }
   ],
   "source": [
    "match_df[\"user\"] = list(match_df.index+1)\n",
    "melted_df = pd.melt(match_df, id_vars=\"user\", var_name=\"model\", value_name=\"weight\")\n",
    "\n",
    "sns.set_style('dark')\n",
    "s = sns.barplot(x='user', y='weight', hue='model', data=melted_df)\n",
    "s.set(xlabel='User', ylabel='Weight')\n",
    "s.figure.savefig(dirRes+\"simulation_weight.pdf\", dpi=300)\n",
    "plt.show()"
   ]
  }
 ],
 "metadata": {
  "kernelspec": {
   "display_name": "Python [default]",
   "language": "python",
   "name": "python3"
  },
  "language_info": {
   "codemirror_mode": {
    "name": "ipython",
    "version": 3
   },
   "file_extension": ".py",
   "mimetype": "text/x-python",
   "name": "python",
   "nbconvert_exporter": "python",
   "pygments_lexer": "ipython3",
   "version": "3.5.3"
  }
 },
 "nbformat": 4,
 "nbformat_minor": 1
}
